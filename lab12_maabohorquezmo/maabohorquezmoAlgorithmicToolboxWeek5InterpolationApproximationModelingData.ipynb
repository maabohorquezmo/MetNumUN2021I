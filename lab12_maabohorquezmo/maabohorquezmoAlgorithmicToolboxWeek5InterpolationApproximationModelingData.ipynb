{
  "nbformat": 4,
  "nbformat_minor": 0,
  "metadata": {
    "kernelspec": {
      "display_name": "Python 3",
      "language": "python",
      "name": "python3"
    },
    "language_info": {
      "codemirror_mode": {
        "name": "ipython",
        "version": 3
      },
      "file_extension": ".py",
      "mimetype": "text/x-python",
      "name": "python",
      "nbconvert_exporter": "python",
      "pygments_lexer": "ipython3",
      "version": "3.5.2"
    },
    "colab": {
      "name": "maabohorquezmoAlgorithmicToolboxWeek5InterpolationApproximationModelingData.ipynb",
      "provenance": [],
      "collapsed_sections": []
    }
  },
  "cells": [
    {
      "cell_type": "markdown",
      "metadata": {
        "id": "zUks4dipLDkr"
      },
      "source": [
        "# I. Linear least squares approximation"
      ]
    },
    {
      "cell_type": "markdown",
      "metadata": {
        "id": "0IUgBPIqLDkt"
      },
      "source": [
        "Consider a function $y = f(x)$ which is defined by a set of values $y_0, y_1, \\cdots, y_n$ at points $x_0, x_1, \\cdots, x_n$."
      ]
    },
    {
      "cell_type": "code",
      "metadata": {
        "collapsed": true,
        "id": "zgnaXaheLDkt"
      },
      "source": [
        "x = [-1, -0.7, -0.43, -0.14, -0.14, 0.43, 0.71, 1, 1.29, 1.57, 1.86, 2.14, 2.43, 2.71, 3]\n",
        "y = [-2.25, -0.77, 0.21, 0.44, 0.64, 0.03, -0.22, -0.84, -1.2, -1.03, -0.37, 0.61, 2.67, 5.04, 8.90]"
      ],
      "execution_count": null,
      "outputs": []
    },
    {
      "cell_type": "markdown",
      "metadata": {
        "id": "5H_4GKempfnp"
      },
      "source": [
        "Solucion tomada de \"valerkabvv\""
      ]
    },
    {
      "cell_type": "markdown",
      "metadata": {
        "id": "pp1JooqtLDku"
      },
      "source": [
        "### I.I. Find a best fit polynomial\n",
        "\n",
        "$$\n",
        "P_m(x) = a_0 + a_1 x + \\cdots + a_m x^m\n",
        "$$\n",
        "\n",
        "using the linear least squares approach. To this end\n",
        "\n",
        "1. implement a function which constructs the design matrix using $1, x, \\cdots, x^m$ as the basis functions.\n",
        "\n",
        "2. construct explicitly the normal system of equations of the linear least squares problem at fixed $m$.\n",
        "\n",
        "3. Solve the normal equations to find the coefficients of $P_m(x)$ for $m = 0, 1, 2, \\dots$. For the linear algebra problem, you can either use library functions (`numpy.linalg.solve`) or your LU factorization code from week 1.\n",
        "\n",
        "(20% of the total grade)"
      ]
    },
    {
      "cell_type": "code",
      "metadata": {
        "collapsed": true,
        "id": "JJD4ulEYLDku"
      },
      "source": [
        "# ... ENTER YOUR CODE HERE\n",
        "import numpy as np\n",
        "from scipy import optimize\n",
        "import matplotlib.pyplot as plt\n",
        "\n",
        "plt.style.use('seaborn-poster')"
      ],
      "execution_count": 1,
      "outputs": []
    },
    {
      "cell_type": "code",
      "metadata": {
        "id": "Hp866LQtLUMo"
      },
      "source": [
        "def design_matrix(x, m):\n",
        "    x = np.array(x)\n",
        "    A = []\n",
        "    for k in range(m+1):\n",
        "        A.append(x**k)\n",
        "        \n",
        "    return np.array(A).T"
      ],
      "execution_count": null,
      "outputs": []
    },
    {
      "cell_type": "code",
      "metadata": {
        "id": "tEhn9mO4LxXO"
      },
      "source": [
        "def normal_eq_solution(A,b):\n",
        "    x = np.dot(np.linalg.inv(A.T @ A) @ A.T, b)\n",
        "    res = np.linalg.norm(A @ x - b)\n",
        "    return x, res"
      ],
      "execution_count": null,
      "outputs": []
    },
    {
      "cell_type": "code",
      "metadata": {
        "id": "bfdt8yIFLz9n"
      },
      "source": [
        "ms = range(1,10)\n",
        "coef = [normal_eq_solution(design_matrix(x,m), y) for m in ms]"
      ],
      "execution_count": null,
      "outputs": []
    },
    {
      "cell_type": "markdown",
      "metadata": {
        "id": "oC2gL4LJLDku"
      },
      "source": [
        "### I.II \n",
        "\n",
        "To find the optimal value of m, use the following criterion: take $m=0, 1, 2, \\dots$, for each value of $m$ compute \n",
        "\n",
        "$$\n",
        "\\sigma_m^2 = \\frac{1}{n - m} \\sum_{k=0}^n \\left( P_m(x_k) - y_k \\right)^2\n",
        "$$\n",
        "\n",
        "And take the value of $m$, at which $\\sigma_m$ stabilizes or starts increasing.\n",
        "\n",
        "(20% of the total grade)"
      ]
    },
    {
      "cell_type": "code",
      "metadata": {
        "collapsed": true,
        "id": "s0pfLMxuLDkv",
        "colab": {
          "base_uri": "https://localhost:8080/"
        },
        "outputId": "9c9120c3-7ef0-42c3-b7c9-23198518abde"
      },
      "source": [
        "# ... ENTER YOUR CODE HERE ...\n",
        "for a in coef:\n",
        "    print(a[1]/(16 - len(a[0])))"
      ],
      "execution_count": null,
      "outputs": [
        {
          "output_type": "stream",
          "text": [
            "0.5638018817879079\n",
            "0.43442508405930796\n",
            "0.03223727022631271\n",
            "0.033656564378641424\n",
            "0.03549656220020561\n",
            "0.03588688045729663\n",
            "0.03919349715902612\n",
            "0.04065424160745155\n",
            "0.04642385374992531\n"
          ],
          "name": "stdout"
        }
      ]
    },
    {
      "cell_type": "markdown",
      "metadata": {
        "id": "fAcC38ycLDkv"
      },
      "source": [
        "Plot your polynomials $P_m(x)$ on one plot, together with the datapoints. Visually compare best-fit polynomials of different degrees. Is the visual comparison consistent with the optimal value of $m$?"
      ]
    },
    {
      "cell_type": "code",
      "metadata": {
        "collapsed": true,
        "id": "4ZjaSWB3LDkv",
        "colab": {
          "base_uri": "https://localhost:8080/",
          "height": 278
        },
        "outputId": "67e6f573-31cd-4f37-9b81-5a0c99aef388"
      },
      "source": [
        "# ... ENTER YOUR CODE HERE\n",
        "import numpy.polynomial.polynomial as pm\n",
        "import matplotlib.pyplot as plt\n",
        "plt.scatter(x,y)\n",
        "\n",
        "for pol in coef:\n",
        "    pl = pm.polyval(x,pol[0])\n",
        "    plt.plot(x,pl)\n",
        "\n",
        "plt.legend(list(ms))\n",
        "plt.show()"
      ],
      "execution_count": null,
      "outputs": [
        {
          "output_type": "display_data",
          "data": {
            "image/png": "[encoded data removed]",
            "text/plain": [
              "<Figure size 432x288 with 1 Axes>"
            ]
          },
          "metadata": {
            "tags": [],
            "needs_background": "light"
          }
        }
      ]
    },
    {
      "cell_type": "markdown",
      "metadata": {
        "id": "2YOwvtCFLDkv"
      },
      "source": [
        "### I.III. Linear least-squares using the QR factorization.\n",
        "\n",
        "For the optimal value of $m$ from the previous part, solve the LLS problem using the QR factorization, withou ever forming the normal equations explicitly. For linear algebra, you can use standard library functions (look up `numpy.linalg.solve`, `numpy.linalg.qr` etc) or your code from previous weeks.\n",
        "\n",
        "Compare the results with the results of solving the normal system of equations.\n",
        "\n",
        "(20% of the grade)"
      ]
    },
    {
      "cell_type": "code",
      "metadata": {
        "collapsed": true,
        "id": "rh7Cu4V2LDkw"
      },
      "source": [
        "# ... ENTER YOUR CODE HERE ...\n",
        "def qr_lls(A, b):\n",
        "    m = A.shape[1]\n",
        "    q, r = np.linalg.qr(A)\n",
        "    f = (q.T @ b)[:m]\n",
        "    return np.linalg.solve(r[:m], f)"
      ],
      "execution_count": null,
      "outputs": []
    },
    {
      "cell_type": "code",
      "metadata": {
        "colab": {
          "base_uri": "https://localhost:8080/"
        },
        "id": "0-ayT9ZbpJhl",
        "outputId": "c16020f0-f851-410e-c3b8-1292b166df4f"
      },
      "source": [
        "c = qr_lls(design_matrix(x,3), y)\n",
        "print(c-coef[2][0])"
      ],
      "execution_count": null,
      "outputs": [
        {
          "output_type": "stream",
          "text": [
            "[-1.32116540e-14 -1.60982339e-15  4.44089210e-14 -1.48769885e-14]\n"
          ],
          "name": "stdout"
        }
      ]
    },
    {
      "cell_type": "markdown",
      "metadata": {
        "id": "A78O4TeJLDkw"
      },
      "source": [
        "# II. Lagrange interpolation"
      ]
    },
    {
      "cell_type": "markdown",
      "metadata": {
        "id": "VdUSjhTvLDkw"
      },
      "source": [
        "### II.1 \n",
        "\n",
        "Consider the function, $f(x) = x^2 \\cos{x}$. On the interval $x\\in [\\pi/2, \\pi]$, interpolate the function using the Lagrange interpolating polynomial of degree $m$ with $m=1, 2, 3, 4, 5$. Use the uniform mesh. Plot the resulting interpolants together with $f(x)$.\n",
        "\n",
        "(20% of the total grade)"
      ]
    },
    {
      "cell_type": "code",
      "metadata": {
        "collapsed": true,
        "id": "3cmJgDJfLDkw"
      },
      "source": [
        "# ... ENTER YOUR CODE HERE ...\n",
        "def lagr_poly(grid, k, x):\n",
        "    \n",
        "    poly = 1\n",
        "    for i in range(len(grid)):\n",
        "        if i!=k:\n",
        "            poly*=x-grid[i]\n",
        "            poly/=grid[k]-grid[i]    \n",
        "            \n",
        "    return poly"
      ],
      "execution_count": null,
      "outputs": []
    },
    {
      "cell_type": "code",
      "metadata": {
        "id": "ak6oRjiApQ11"
      },
      "source": [
        "def lagr_interp(grid, x, y):\n",
        "    y_interp = np.zeros(len(x))\n",
        "    for i in range(len(grid)):\n",
        "        y_interp+=y[i]*lagr_poly(grid,i,x)\n",
        "    return y_interp"
      ],
      "execution_count": null,
      "outputs": []
    },
    {
      "cell_type": "code",
      "metadata": {
        "colab": {
          "base_uri": "https://localhost:8080/",
          "height": 278
        },
        "id": "IJT4wV5ypTvE",
        "outputId": "98f62df1-9ec6-4fca-ee8b-533aa70ac9d2"
      },
      "source": [
        "f = lambda x:x**2*np.cos(x)\n",
        "x = np.linspace(np.pi/2,np.pi, 50)\n",
        "plt.plot(x,f(x), \"r+\")\n",
        "\n",
        "for m in range(1,6):\n",
        "    grid = np.linspace(np.pi/2,np.pi, m)\n",
        "    plt.plot(x, lagr_interp(grid, x, f(grid)))"
      ],
      "execution_count": null,
      "outputs": [
        {
          "output_type": "display_data",
          "data": {
            "image/png": "[encoded data removed]",
            "text/plain": [
              "<Figure size 432x288 with 1 Axes>"
            ]
          },
          "metadata": {
            "tags": [],
            "needs_background": "light"
          }
        }
      ]
    },
    {
      "cell_type": "markdown",
      "metadata": {
        "id": "v3YKQXCtLDkw"
      },
      "source": [
        "### II.2. \n",
        "\n",
        "Repeat the previous task using the Chebyshev nodes. Compare the quality of interpolation on a uniform mesh and Chebyshev nodes for $m=3$.\n",
        "\n",
        "(20% of the total grade)"
      ]
    },
    {
      "cell_type": "code",
      "metadata": {
        "collapsed": true,
        "id": "vtoDnX2nLDkx"
      },
      "source": [
        "# ... ENTER YOUR CODE HERE ...\n",
        "def chebishev_nodes(a,b,m):\n",
        "    k = np.array(range(m))\n",
        "    x = np.cos(2*k+1/m)\n",
        "    return (x+1)*(b-a)/2 + a"
      ],
      "execution_count": null,
      "outputs": []
    },
    {
      "cell_type": "code",
      "metadata": {
        "colab": {
          "base_uri": "https://localhost:8080/",
          "height": 295
        },
        "id": "bGRXsl4LpYMB",
        "outputId": "f4823c85-44fc-4951-d90b-c56681bae4c0"
      },
      "source": [
        "grid = chebishev_nodes(np.pi/2, np.pi, 3)\n",
        "\n",
        "plt.plot(x,f(x), \"r+\")\n",
        "plt.plot(x, lagr_interp(grid, x, f(grid)))"
      ],
      "execution_count": null,
      "outputs": [
        {
          "output_type": "execute_result",
          "data": {
            "text/plain": [
              "[<matplotlib.lines.Line2D at 0x7fe0d2f58610>]"
            ]
          },
          "metadata": {
            "tags": []
          },
          "execution_count": 15
        },
        {
          "output_type": "display_data",
          "data": {
            "image/png": "[encoded data removed]",
            "text/plain": [
              "<Figure size 432x288 with 1 Axes>"
            ]
          },
          "metadata": {
            "tags": [],
            "needs_background": "light"
          }
        }
      ]
    }
  ]
}