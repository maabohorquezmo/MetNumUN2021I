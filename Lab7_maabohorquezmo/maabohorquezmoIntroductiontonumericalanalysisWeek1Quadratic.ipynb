{
  "nbformat": 4,
  "nbformat_minor": 0,
  "metadata": {
    "kernelspec": {
      "display_name": "Python 3",
      "language": "python",
      "name": "python3"
    },
    "language_info": {
      "codemirror_mode": {
        "name": "ipython",
        "version": 3
      },
      "file_extension": ".py",
      "mimetype": "text/x-python",
      "name": "python",
      "nbconvert_exporter": "python",
      "pygments_lexer": "ipython3",
      "version": "3.5.2"
    },
    "colab": {
      "name": "maabohorquezmoIntroductiontonumericalanalysisWeek1Quadratic.ipynb",
      "provenance": [],
      "collapsed_sections": []
    }
  },
  "cells": [
    {
      "cell_type": "markdown",
      "metadata": {
        "id": "NtCipMeC1zUp"
      },
      "source": [
        "#Métodos Numéricos UN 2021\n",
        "\n",
        "Mario Anibal Bohorquez Mora\n",
        "\n"
      ]
    },
    {
      "cell_type": "markdown",
      "metadata": {
        "id": "Kx7sB8XFhTzX"
      },
      "source": [
        "## Solve a quadratic equation, $x^2 + b x + c = 0$.\n",
        "\n",
        "\n",
        "Write a function which receives $b$ and $c$, the coefficients of a monic quadratic polynomial, $x^2 + b x + c$, and returns the pair of its roots. Your function should always return two values, even if quadratic has a double root.\n",
        "\n",
        "For example, given a quadratic $x^2 - 2x + 1$, your function should return a pair of $(1, 1)$. Of course, in floating point, your answers may differ from an exact unity.\n",
        "\n",
        "Your function also must correctly handle complex roots (to this end, you might need the `cmath` module from the standard library)."
      ]
    },
    {
      "cell_type": "code",
      "metadata": {
        "id": "XJK6M4ksuOA7"
      },
      "source": [
        "import math"
      ],
      "execution_count": 23,
      "outputs": []
    },
    {
      "cell_type": "code",
      "metadata": {
        "collapsed": true,
        "id": "XbeKOnP9hTzq"
      },
      "source": [
        "def ecua_cua(b, c):\n",
        "    \"\"\"Solve a quadratic equation, x**2 + bx + c = 0.\n",
        "    \n",
        "    Parameters\n",
        "    ----------\n",
        "    b, c : float\n",
        "       Coefficients\n",
        "       \n",
        "    Returns\n",
        "    -------\n",
        "    z1, z2 : float or complex\n",
        "       Roots.\n",
        "    \"\"\"\n",
        "    # ... enter your code here ...\n",
        "    root = b**2 - (4*c)\n",
        "\n",
        "    if root == b**2:\n",
        "      z1 = -b\n",
        "      z2 = c/z1\n",
        "    elif root >= 0:\n",
        "      sroot = math.sqrt(root)\n",
        "      z1 = (-b + sroot)/2\n",
        "      z2 = (-b - sroot)/2\n",
        "    else:\n",
        "      sroot = math.sqrt(-root)\n",
        "      z1 = complex(-b/2, sroot/2)\n",
        "      z2 = complex(-b/2, -sroot/2)\n",
        "  \n",
        "    return z1, z2"
      ],
      "execution_count": 24,
      "outputs": []
    },
    {
      "cell_type": "markdown",
      "metadata": {
        "id": "KQEqROiehTzr"
      },
      "source": [
        "Test the your function on several examples against a calculation by hand. Once you're sure that your function works, try these five test cases below. \n",
        "\n",
        "Note that the last two test cases are special: they test whether your function handles extreme cases where a too simple approach is prone to a catastrophic cancellation. Make sure your function passes all five tests.\n",
        "\n",
        "This exercise is graded, each test case contributes a 20% of the grade. "
      ]
    },
    {
      "cell_type": "code",
      "metadata": {
        "collapsed": true,
        "id": "2tnOSFc9hTzs"
      },
      "source": [
        "from numpy import allclose"
      ],
      "execution_count": 25,
      "outputs": []
    },
    {
      "cell_type": "code",
      "metadata": {
        "collapsed": true,
        "id": "WzUV-XTGhTzs"
      },
      "source": [
        "variants = [{'b': 5.0, 'c': 4.0},\n",
        "            {'b': 3.0, 'c': 2.0},\n",
        "            {'b': 0.8, 'c': 6.0},\n",
        "            {'b': 2e10, 'c': 5.0},\n",
        "            {'b': -2e10, 'c': 8.0},]"
      ],
      "execution_count": 26,
      "outputs": []
    },
    {
      "cell_type": "code",
      "metadata": {
        "collapsed": true,
        "colab": {
          "base_uri": "https://localhost:8080/"
        },
        "id": "FGBfHO2zhTzt",
        "outputId": "91b09701-69f8-4384-896b-643c352b04ac"
      },
      "source": [
        "for var in variants:\n",
        "    z1, z2 = ecua_cua(**var)\n",
        "    print(allclose(z1*z2, var['c']))"
      ],
      "execution_count": 27,
      "outputs": [
        {
          "output_type": "stream",
          "text": [
            "True\n",
            "True\n",
            "True\n",
            "True\n",
            "True\n"
          ],
          "name": "stdout"
        }
      ]
    }
  ]
}