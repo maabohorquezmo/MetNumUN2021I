{
  "nbformat": 4,
  "nbformat_minor": 0,
  "metadata": {
    "kernelspec": {
      "display_name": "Python 3",
      "language": "python",
      "name": "python3"
    },
    "language_info": {
      "codemirror_mode": {
        "name": "ipython",
        "version": 3
      },
      "file_extension": ".py",
      "mimetype": "text/x-python",
      "name": "python",
      "nbconvert_exporter": "python",
      "pygments_lexer": "ipython3",
      "version": "3.6.4"
    },
    "colab": {
      "name": "maabohorquezmotutorial4.ipynb",
      "provenance": [],
      "collapsed_sections": []
    }
  },
  "cells": [
    {
      "cell_type": "markdown",
      "metadata": {
        "id": "QUzcKR9sOIat"
      },
      "source": [
        "#***NumPy and Basic Pandas***\n",
        "\n",
        "#Introduction\n",
        "Now that we have introduced the fundamentals of Python, it's time to learn about NumPy and Pandas.\n",
        "\n",
        "#NumPy\n",
        "NumPy is the core library for scientific computing in Python. It provides a high-performance multidimensional array object, and tools for working with these arrays. It also has strong integration with Pandas, which is another powerful tool for manipulating financial data.\n",
        "\n",
        "Python packages like NumPy and Pandas contain classes and methods which we can use by importing the package:"
      ]
    },
    {
      "cell_type": "code",
      "metadata": {
        "id": "ogyDVdjEN7BS"
      },
      "source": [
        "import numpy as np"
      ],
      "execution_count": 23,
      "outputs": []
    },
    {
      "cell_type": "markdown",
      "metadata": {
        "id": "Jp_5QFE8OPgq"
      },
      "source": [
        "#Basic NumPy Arrays\n",
        "A NumPy array is a grid of values, all of the same type, and is indexed by a tuple of nonnegative integers. Here we make an array by passing a list of Apple stock prices:"
      ]
    },
    {
      "cell_type": "code",
      "metadata": {
        "id": "3M2BdCEkN7BW",
        "colab": {
          "base_uri": "https://localhost:8080/"
        },
        "outputId": "5eca42c6-b878-4877-97fb-cec20b276d55"
      },
      "source": [
        "price_list = [143.73, 145.83, 143.68, 144.02, 143.5, 142.62]\n",
        "price_array = np.array(price_list)\n",
        "print(price_array, type(price_array))"
      ],
      "execution_count": 2,
      "outputs": [
        {
          "output_type": "stream",
          "text": [
            "[143.73 145.83 143.68 144.02 143.5  142.62] <class 'numpy.ndarray'>\n"
          ],
          "name": "stdout"
        }
      ]
    },
    {
      "cell_type": "markdown",
      "metadata": {
        "id": "JnbqSwDo_3Fv"
      },
      "source": [
        "Ejemplo"
      ]
    },
    {
      "cell_type": "code",
      "metadata": {
        "colab": {
          "base_uri": "https://localhost:8080/"
        },
        "id": "rGcJp1Mw_55X",
        "outputId": "07b718e0-2f21-4385-a136-a606a999be77"
      },
      "source": [
        "price_list_1 = [357.43, 545.83, 253.68, 964.02, 413.2, 632.62]\n",
        "price_array_1 = np.array(price_list_1)\n",
        "print(price_array_1, type(price_array_1))"
      ],
      "execution_count": 24,
      "outputs": [
        {
          "output_type": "stream",
          "text": [
            "[357.43 545.83 253.68 964.02 413.2  632.62] <class 'numpy.ndarray'>\n"
          ],
          "name": "stdout"
        }
      ]
    },
    {
      "cell_type": "markdown",
      "metadata": {
        "id": "HveT6fs-OS0x"
      },
      "source": [
        "Notice that the type of array is \"ndarray\" which is a multi-dimensional array. If we pass np.array() a list of lists, it will create a 2-dimensional array.\n",
        "\n"
      ]
    },
    {
      "cell_type": "code",
      "metadata": {
        "id": "WUICt3T4N7BY",
        "colab": {
          "base_uri": "https://localhost:8080/"
        },
        "outputId": "849748ab-fe51-4d0b-ab59-ea2ceeaf77f8"
      },
      "source": [
        "Ar = np.array([[1,3],[2,4]])\n",
        "print(Ar, type(Ar))"
      ],
      "execution_count": 25,
      "outputs": [
        {
          "output_type": "stream",
          "text": [
            "[[1 3]\n",
            " [2 4]] <class 'numpy.ndarray'>\n"
          ],
          "name": "stdout"
        }
      ]
    },
    {
      "cell_type": "markdown",
      "metadata": {
        "id": "teMCts5yAPjd"
      },
      "source": [
        "Ejemplo"
      ]
    },
    {
      "cell_type": "code",
      "metadata": {
        "colab": {
          "base_uri": "https://localhost:8080/"
        },
        "id": "gTnTmt57AQq2",
        "outputId": "72f8ff8e-22b7-47d9-8817-0b5a0ef94c3a"
      },
      "source": [
        "Ap = np.array([[5,7],[3,8]])\n",
        "print(Ap, type(Ap))"
      ],
      "execution_count": 30,
      "outputs": [
        {
          "output_type": "stream",
          "text": [
            "[[5 7]\n",
            " [3 8]] <class 'numpy.ndarray'>\n"
          ],
          "name": "stdout"
        }
      ]
    },
    {
      "cell_type": "markdown",
      "metadata": {
        "id": "4wf6vZn8OVhC"
      },
      "source": [
        "We get the dimensions of an ndarray using the .shape attribute:\n",
        "\n"
      ]
    },
    {
      "cell_type": "code",
      "metadata": {
        "id": "mxxQW59XN7BZ",
        "colab": {
          "base_uri": "https://localhost:8080/"
        },
        "outputId": "df4c7015-c161-4b99-83c0-18735b8d54e3"
      },
      "source": [
        "print(Ar.shape)"
      ],
      "execution_count": 4,
      "outputs": [
        {
          "output_type": "stream",
          "text": [
            "(2, 2)\n"
          ],
          "name": "stdout"
        }
      ]
    },
    {
      "cell_type": "markdown",
      "metadata": {
        "id": "3vNG4QdHAaX2"
      },
      "source": [
        "Ejemplo"
      ]
    },
    {
      "cell_type": "code",
      "metadata": {
        "colab": {
          "base_uri": "https://localhost:8080/"
        },
        "id": "TWgLj8f8AcCq",
        "outputId": "ee2a2d63-0386-4526-ddf9-d7f2a7840d95"
      },
      "source": [
        "print(Ap.shape)"
      ],
      "execution_count": 31,
      "outputs": [
        {
          "output_type": "stream",
          "text": [
            "(2, 2)\n"
          ],
          "name": "stdout"
        }
      ]
    },
    {
      "cell_type": "markdown",
      "metadata": {
        "id": "IHZEPGknOkBS"
      },
      "source": [
        "If we create an 2-dimensional array (i.e. matrix), each row can be accessed by index:\n",
        "\n"
      ]
    },
    {
      "cell_type": "code",
      "metadata": {
        "id": "YxjDlkI_N7Ba",
        "colab": {
          "base_uri": "https://localhost:8080/"
        },
        "outputId": "e48062ba-b21e-4847-808e-de411899eed6"
      },
      "source": [
        "print(Ar[0])\n",
        "print(Ar[1])"
      ],
      "execution_count": 32,
      "outputs": [
        {
          "output_type": "stream",
          "text": [
            "[1 3]\n",
            "[2 4]\n"
          ],
          "name": "stdout"
        }
      ]
    },
    {
      "cell_type": "markdown",
      "metadata": {
        "id": "b61yrBS7AqLG"
      },
      "source": [
        "Ejemplo"
      ]
    },
    {
      "cell_type": "code",
      "metadata": {
        "colab": {
          "base_uri": "https://localhost:8080/"
        },
        "id": "Ec2yUxeQArPm",
        "outputId": "3dd5e60e-2294-4707-dc27-b3b967e457ff"
      },
      "source": [
        "print(Ap[0])\n",
        "print(Ap[1])"
      ],
      "execution_count": 33,
      "outputs": [
        {
          "output_type": "stream",
          "text": [
            "[5 7]\n",
            "[3 8]\n"
          ],
          "name": "stdout"
        }
      ]
    },
    {
      "cell_type": "markdown",
      "metadata": {
        "id": "ayXCGlASOlDy"
      },
      "source": [
        "If we want to access the matrix by column instead:"
      ]
    },
    {
      "cell_type": "code",
      "metadata": {
        "id": "bxwZchNhN7Bb",
        "colab": {
          "base_uri": "https://localhost:8080/"
        },
        "outputId": "275d8c1d-d9f2-40f4-ebcd-31a2b23dfdb3"
      },
      "source": [
        "print('the first column: ', Ar[:,0])\n",
        "print('the second column: ', Ar[:,1])"
      ],
      "execution_count": 34,
      "outputs": [
        {
          "output_type": "stream",
          "text": [
            "the first column:  [1 2]\n",
            "the second column:  [3 4]\n"
          ],
          "name": "stdout"
        }
      ]
    },
    {
      "cell_type": "markdown",
      "metadata": {
        "id": "ZrG-_0hdAxDO"
      },
      "source": [
        "Ejemplo"
      ]
    },
    {
      "cell_type": "code",
      "metadata": {
        "colab": {
          "base_uri": "https://localhost:8080/"
        },
        "id": "Rt_k3LF9AyNX",
        "outputId": "8a7cd646-8d46-488a-b08f-e5c9357a847b"
      },
      "source": [
        "print('primera columna: ', Ap[:,0])\n",
        "print('segunda columna ', Ap[:,1])"
      ],
      "execution_count": 36,
      "outputs": [
        {
          "output_type": "stream",
          "text": [
            "primera columna:  [5 3]\n",
            "segunda columna  [7 8]\n"
          ],
          "name": "stdout"
        }
      ]
    },
    {
      "cell_type": "markdown",
      "metadata": {
        "id": "dqn3q9YIOp0F"
      },
      "source": [
        "#Array Functions\n",
        "Some functions built in NumPy that allow us to perform calculations on arrays. For example, we can apply the natural logarithm to each element of an array:"
      ]
    },
    {
      "cell_type": "code",
      "metadata": {
        "id": "LsWzm0CdN7Bc",
        "colab": {
          "base_uri": "https://localhost:8080/"
        },
        "outputId": "f2f9fcf1-ef5d-4fb3-b7ac-66c47cccda32"
      },
      "source": [
        "print(np.log(price_array))"
      ],
      "execution_count": 7,
      "outputs": [
        {
          "output_type": "stream",
          "text": [
            "[4.96793654 4.98244156 4.9675886  4.96995218 4.96633504 4.96018375]\n"
          ],
          "name": "stdout"
        }
      ]
    },
    {
      "cell_type": "markdown",
      "metadata": {
        "id": "w6nN7tpvA84G"
      },
      "source": [
        "Ejemplo"
      ]
    },
    {
      "cell_type": "code",
      "metadata": {
        "colab": {
          "base_uri": "https://localhost:8080/"
        },
        "id": "jArHrOznA-Dh",
        "outputId": "44f1d36e-305b-47ac-9b74-c7c91a71dfa1"
      },
      "source": [
        "print(np.log(price_array_1))"
      ],
      "execution_count": 40,
      "outputs": [
        {
          "output_type": "stream",
          "text": [
            "[5.87893954 6.30230757 5.53607363 6.87111204 6.02393174 6.44986993]\n"
          ],
          "name": "stdout"
        }
      ]
    },
    {
      "cell_type": "markdown",
      "metadata": {
        "id": "lhTkQvL3OxYh"
      },
      "source": [
        "Other functions return a single value:"
      ]
    },
    {
      "cell_type": "code",
      "metadata": {
        "id": "hHloc-6NN7Bd",
        "colab": {
          "base_uri": "https://localhost:8080/"
        },
        "outputId": "f19461c4-9641-4280-a848-e9d9f555962f"
      },
      "source": [
        "print(np.mean(price_array))\n",
        "print(np.std(price_array))\n",
        "print(np.sum(price_array))\n",
        "print(np.max(price_array))"
      ],
      "execution_count": 41,
      "outputs": [
        {
          "output_type": "stream",
          "text": [
            "143.89666666666668\n",
            "0.9673790478515796\n",
            "863.38\n",
            "145.83\n"
          ],
          "name": "stdout"
        }
      ]
    },
    {
      "cell_type": "markdown",
      "metadata": {
        "id": "1r9yPV6CBQ8v"
      },
      "source": [
        "Ejemplo"
      ]
    },
    {
      "cell_type": "code",
      "metadata": {
        "colab": {
          "base_uri": "https://localhost:8080/"
        },
        "id": "wh__jH9oBR8w",
        "outputId": "6971cb7d-cdca-4da5-8225-aaffb760ee9a"
      },
      "source": [
        "print(np.mean(price_array_1))\n",
        "print(np.std(price_array_1))\n",
        "print(np.sum(price_array_1))\n",
        "print(np.max(price_array_1))"
      ],
      "execution_count": 42,
      "outputs": [
        {
          "output_type": "stream",
          "text": [
            "527.7966666666666\n",
            "230.54322549626613\n",
            "3166.7799999999997\n",
            "964.02\n"
          ],
          "name": "stdout"
        }
      ]
    },
    {
      "cell_type": "markdown",
      "metadata": {
        "id": "6GFdSwnvO8hS"
      },
      "source": [
        "The functions above return the mean, standard deviation, total and maximum value of an array.\n",
        "\n",
        "#Pandas\n",
        "Pandas is one of the most powerful tools for dealing with financial data. First we need to import Pandas:"
      ]
    },
    {
      "cell_type": "code",
      "metadata": {
        "id": "S7Kk_f5VN7Be"
      },
      "source": [
        "import pandas as pd"
      ],
      "execution_count": 43,
      "outputs": []
    },
    {
      "cell_type": "markdown",
      "metadata": {
        "id": "Q5q8kos6Sjr6"
      },
      "source": [
        "#Series\n",
        "Series is a one-dimensional labeled array capable of holding any data type (integers, strings, float, Python object, etc.)\n",
        "\n",
        "We create a Series by calling pd.Series(data), where data can be a dictionary, an array or just a scalar value."
      ]
    },
    {
      "cell_type": "code",
      "metadata": {
        "colab": {
          "base_uri": "https://localhost:8080/"
        },
        "id": "ZR_dZ8rdN7Bf",
        "outputId": "e9da6774-923f-4f8e-a00b-108bd88543cc"
      },
      "source": [
        "price = [143.73, 145.83, 143.68, 144.02, 143.5, 142.62]\n",
        "s = pd.Series(price)\n",
        "s"
      ],
      "execution_count": 10,
      "outputs": [
        {
          "output_type": "execute_result",
          "data": {
            "text/plain": [
              "0    143.73\n",
              "1    145.83\n",
              "2    143.68\n",
              "3    144.02\n",
              "4    143.50\n",
              "5    142.62\n",
              "dtype: float64"
            ]
          },
          "metadata": {
            "tags": []
          },
          "execution_count": 10
        }
      ]
    },
    {
      "cell_type": "markdown",
      "metadata": {
        "id": "d3pH0n77BaVW"
      },
      "source": [
        "Ejemplo"
      ]
    },
    {
      "cell_type": "code",
      "metadata": {
        "colab": {
          "base_uri": "https://localhost:8080/"
        },
        "id": "eqmHPcl1Bcwm",
        "outputId": "4a53b5d0-e10a-45dc-9f4e-c996788a1f1c"
      },
      "source": [
        "price_list_1 = [357.43, 545.83, 253.68, 964.02, 413.2, 632.62]\n",
        "v = pd.Series(price_list_1)\n",
        "v"
      ],
      "execution_count": 44,
      "outputs": [
        {
          "output_type": "execute_result",
          "data": {
            "text/plain": [
              "0    357.43\n",
              "1    545.83\n",
              "2    253.68\n",
              "3    964.02\n",
              "4    413.20\n",
              "5    632.62\n",
              "dtype: float64"
            ]
          },
          "metadata": {
            "tags": []
          },
          "execution_count": 44
        }
      ]
    },
    {
      "cell_type": "markdown",
      "metadata": {
        "id": "npMyQDktSncJ"
      },
      "source": [
        "We can customize the indices of a new Series:"
      ]
    },
    {
      "cell_type": "code",
      "metadata": {
        "colab": {
          "base_uri": "https://localhost:8080/"
        },
        "id": "DoZbBFMZN7Bg",
        "outputId": "741c9ca7-f024-46a3-c30c-b70fd41830e7"
      },
      "source": [
        "s = pd.Series(price,index = ['a','b','c','d','e','f'])\n",
        "s"
      ],
      "execution_count": 11,
      "outputs": [
        {
          "output_type": "execute_result",
          "data": {
            "text/plain": [
              "a    143.73\n",
              "b    145.83\n",
              "c    143.68\n",
              "d    144.02\n",
              "e    143.50\n",
              "f    142.62\n",
              "dtype: float64"
            ]
          },
          "metadata": {
            "tags": []
          },
          "execution_count": 11
        }
      ]
    },
    {
      "cell_type": "markdown",
      "metadata": {
        "id": "kBrZPI4TB2uQ"
      },
      "source": [
        "Ejemplo"
      ]
    },
    {
      "cell_type": "code",
      "metadata": {
        "colab": {
          "base_uri": "https://localhost:8080/"
        },
        "id": "_noNcj2BB5JX",
        "outputId": "65a6a115-31d7-4b7b-f8e0-e331d9e8ba89"
      },
      "source": [
        "v = pd.Series(price_list_1,index = ['a','b','c','d','e','f'])\n",
        "v"
      ],
      "execution_count": 45,
      "outputs": [
        {
          "output_type": "execute_result",
          "data": {
            "text/plain": [
              "a    357.43\n",
              "b    545.83\n",
              "c    253.68\n",
              "d    964.02\n",
              "e    413.20\n",
              "f    632.62\n",
              "dtype: float64"
            ]
          },
          "metadata": {
            "tags": []
          },
          "execution_count": 45
        }
      ]
    },
    {
      "cell_type": "markdown",
      "metadata": {
        "id": "OSFRQXN9SpfP"
      },
      "source": [
        "Or we can change the indices of an existing Series:"
      ]
    },
    {
      "cell_type": "code",
      "metadata": {
        "id": "zKUDqOYbN7Bg",
        "colab": {
          "base_uri": "https://localhost:8080/"
        },
        "outputId": "c92db9f2-ba21-4bc0-d6d7-1d8863f7ed68"
      },
      "source": [
        "s.index = [6,5,4,3,2,1]\n",
        "s"
      ],
      "execution_count": 12,
      "outputs": [
        {
          "output_type": "execute_result",
          "data": {
            "text/plain": [
              "6    143.73\n",
              "5    145.83\n",
              "4    143.68\n",
              "3    144.02\n",
              "2    143.50\n",
              "1    142.62\n",
              "dtype: float64"
            ]
          },
          "metadata": {
            "tags": []
          },
          "execution_count": 12
        }
      ]
    },
    {
      "cell_type": "markdown",
      "metadata": {
        "id": "oCHpMUCgCCUm"
      },
      "source": [
        "Ejemplo"
      ]
    },
    {
      "cell_type": "code",
      "metadata": {
        "colab": {
          "base_uri": "https://localhost:8080/"
        },
        "id": "GY10qrzDCDhx",
        "outputId": "c0bb4c4b-d3cf-4c7d-f8f0-ecde015fa249"
      },
      "source": [
        "v.index = [10,9,8,7,6,5]\n",
        "v"
      ],
      "execution_count": 46,
      "outputs": [
        {
          "output_type": "execute_result",
          "data": {
            "text/plain": [
              "10    357.43\n",
              "9     545.83\n",
              "8     253.68\n",
              "7     964.02\n",
              "6     413.20\n",
              "5     632.62\n",
              "dtype: float64"
            ]
          },
          "metadata": {
            "tags": []
          },
          "execution_count": 46
        }
      ]
    },
    {
      "cell_type": "markdown",
      "metadata": {
        "id": "sDLl88tDSsc5"
      },
      "source": [
        "Series is like a list since it can be sliced by index:"
      ]
    },
    {
      "cell_type": "code",
      "metadata": {
        "id": "EPQai2awN7Bh",
        "colab": {
          "base_uri": "https://localhost:8080/"
        },
        "outputId": "f99f094e-b2c6-4ee2-b919-25250579e648"
      },
      "source": [
        "print(s[1:])\n",
        "print(s[:-2])"
      ],
      "execution_count": 13,
      "outputs": [
        {
          "output_type": "stream",
          "text": [
            "5    145.83\n",
            "4    143.68\n",
            "3    144.02\n",
            "2    143.50\n",
            "1    142.62\n",
            "dtype: float64\n",
            "6    143.73\n",
            "5    145.83\n",
            "4    143.68\n",
            "3    144.02\n",
            "dtype: float64\n"
          ],
          "name": "stdout"
        }
      ]
    },
    {
      "cell_type": "markdown",
      "metadata": {
        "id": "cE-m9vTyCP8O"
      },
      "source": [
        "Ejemplo"
      ]
    },
    {
      "cell_type": "code",
      "metadata": {
        "colab": {
          "base_uri": "https://localhost:8080/"
        },
        "id": "XsJExDYpCRee",
        "outputId": "20367742-32b7-4ace-f489-3f11b1b08464"
      },
      "source": [
        "print(v[1:])\n",
        "print(v[:-2])"
      ],
      "execution_count": 47,
      "outputs": [
        {
          "output_type": "stream",
          "text": [
            "9    545.83\n",
            "8    253.68\n",
            "7    964.02\n",
            "6    413.20\n",
            "5    632.62\n",
            "dtype: float64\n",
            "10    357.43\n",
            "9     545.83\n",
            "8     253.68\n",
            "7     964.02\n",
            "dtype: float64\n"
          ],
          "name": "stdout"
        }
      ]
    },
    {
      "cell_type": "markdown",
      "metadata": {
        "id": "9Ax_1BlnSvg4"
      },
      "source": [
        "Series is also like a dictionary whose values can be set or fetched by index label:"
      ]
    },
    {
      "cell_type": "code",
      "metadata": {
        "id": "rIMV9sH7N7Bi",
        "colab": {
          "base_uri": "https://localhost:8080/"
        },
        "outputId": "4d1470e0-6c7e-456a-a8dd-cfc12e014200"
      },
      "source": [
        "print(s[4])\n",
        "s[4] = 0\n",
        "print(s)"
      ],
      "execution_count": 14,
      "outputs": [
        {
          "output_type": "stream",
          "text": [
            "143.68\n",
            "6    143.73\n",
            "5    145.83\n",
            "4      0.00\n",
            "3    144.02\n",
            "2    143.50\n",
            "1    142.62\n",
            "dtype: float64\n"
          ],
          "name": "stdout"
        }
      ]
    },
    {
      "cell_type": "markdown",
      "metadata": {
        "id": "ivgffdlwCVMf"
      },
      "source": [
        "Ejemplo"
      ]
    },
    {
      "cell_type": "code",
      "metadata": {
        "colab": {
          "base_uri": "https://localhost:8080/"
        },
        "id": "R4Ymir9dCWK_",
        "outputId": "bc568ce4-d074-4488-92f2-14cf3d9b08f4"
      },
      "source": [
        "print(v[9])\n",
        "v[9] = 0\n",
        "print(v)"
      ],
      "execution_count": 49,
      "outputs": [
        {
          "output_type": "stream",
          "text": [
            "545.83\n",
            "10    357.43\n",
            "9       0.00\n",
            "8     253.68\n",
            "7     964.02\n",
            "6     413.20\n",
            "5     632.62\n",
            "dtype: float64\n"
          ],
          "name": "stdout"
        }
      ]
    },
    {
      "cell_type": "markdown",
      "metadata": {
        "id": "w-0EZI33SwPA"
      },
      "source": [
        "Series can also have a name attribute, which will be used when we make up a Pandas DataFrame using several series."
      ]
    },
    {
      "cell_type": "code",
      "metadata": {
        "colab": {
          "base_uri": "https://localhost:8080/"
        },
        "id": "s71DtoFjN7Bj",
        "outputId": "1d55ee4e-20d0-48a1-a219-ae22a6340420"
      },
      "source": [
        "s = pd.Series(price, name = 'Apple Price List')\n",
        "print(s)\n",
        "print(s.name)"
      ],
      "execution_count": 15,
      "outputs": [
        {
          "output_type": "stream",
          "text": [
            "0    143.73\n",
            "1    145.83\n",
            "2    143.68\n",
            "3    144.02\n",
            "4    143.50\n",
            "5    142.62\n",
            "Name: Apple Price List, dtype: float64\n",
            "Apple Price List\n"
          ],
          "name": "stdout"
        }
      ]
    },
    {
      "cell_type": "markdown",
      "metadata": {
        "id": "4pPs8T7KCe8w"
      },
      "source": [
        "Ejemplo"
      ]
    },
    {
      "cell_type": "code",
      "metadata": {
        "colab": {
          "base_uri": "https://localhost:8080/"
        },
        "id": "PqsmNgcmCgJC",
        "outputId": "9e106af7-2678-4ff5-e417-5d32b7bcef1a"
      },
      "source": [
        "v = pd.Series(price_list_1, name = 'lista de precios')\n",
        "print(v)\n",
        "print(v.name)"
      ],
      "execution_count": 50,
      "outputs": [
        {
          "output_type": "stream",
          "text": [
            "0    357.43\n",
            "1    545.83\n",
            "2    253.68\n",
            "3    964.02\n",
            "4    413.20\n",
            "5    632.62\n",
            "Name: lista de precios, dtype: float64\n",
            "lista de precios\n"
          ],
          "name": "stdout"
        }
      ]
    },
    {
      "cell_type": "markdown",
      "metadata": {
        "id": "AD9AVBfASznA"
      },
      "source": [
        "We can get the statistical summaries of a Series:"
      ]
    },
    {
      "cell_type": "code",
      "metadata": {
        "colab": {
          "base_uri": "https://localhost:8080/"
        },
        "id": "Kpy3RfvmTJJ5",
        "outputId": "aea042de-3b4d-4cef-9629-98037a3de6ae"
      },
      "source": [
        "print(s.describe())"
      ],
      "execution_count": 16,
      "outputs": [
        {
          "output_type": "stream",
          "text": [
            "count      6.000000\n",
            "mean     143.896667\n",
            "std        1.059711\n",
            "min      142.620000\n",
            "25%      143.545000\n",
            "50%      143.705000\n",
            "75%      143.947500\n",
            "max      145.830000\n",
            "Name: Apple Price List, dtype: float64\n"
          ],
          "name": "stdout"
        }
      ]
    },
    {
      "cell_type": "markdown",
      "metadata": {
        "id": "PsrKYHW1Co-m"
      },
      "source": [
        "Ejemplo"
      ]
    },
    {
      "cell_type": "code",
      "metadata": {
        "colab": {
          "base_uri": "https://localhost:8080/"
        },
        "id": "6uRaVrmPCp96",
        "outputId": "67a16e1c-90b4-4bc6-f54c-7784449024a5"
      },
      "source": [
        "print(v.describe())"
      ],
      "execution_count": 51,
      "outputs": [
        {
          "output_type": "stream",
          "text": [
            "count      6.000000\n",
            "mean     527.796667\n",
            "std      252.547450\n",
            "min      253.680000\n",
            "25%      371.372500\n",
            "50%      479.515000\n",
            "75%      610.922500\n",
            "max      964.020000\n",
            "Name: lista de precios, dtype: float64\n"
          ],
          "name": "stdout"
        }
      ]
    },
    {
      "cell_type": "markdown",
      "metadata": {
        "id": "tfhRPtVeT6Mq"
      },
      "source": [
        "#Time Index\n",
        "Pandas has a built-in function specifically for creating date indices: pd.date_range(). We use it to create a new index for our Series:"
      ]
    },
    {
      "cell_type": "code",
      "metadata": {
        "colab": {
          "base_uri": "https://localhost:8080/"
        },
        "id": "eCvNGm9IN7Bk",
        "outputId": "741854d8-cd2e-4a9d-bc39-707eeec7d472"
      },
      "source": [
        "time_index = pd.date_range('2017-01-01',periods = len(s),freq = 'D')\n",
        "print(time_index)\n",
        "s.index = time_index\n",
        "print(s)"
      ],
      "execution_count": 17,
      "outputs": [
        {
          "output_type": "stream",
          "text": [
            "DatetimeIndex(['2017-01-01', '2017-01-02', '2017-01-03', '2017-01-04',\n",
            "               '2017-01-05', '2017-01-06'],\n",
            "              dtype='datetime64[ns]', freq='D')\n",
            "2017-01-01    143.73\n",
            "2017-01-02    145.83\n",
            "2017-01-03    143.68\n",
            "2017-01-04    144.02\n",
            "2017-01-05    143.50\n",
            "2017-01-06    142.62\n",
            "Freq: D, Name: Apple Price List, dtype: float64\n"
          ],
          "name": "stdout"
        }
      ]
    },
    {
      "cell_type": "markdown",
      "metadata": {
        "id": "ywMILBBICv6o"
      },
      "source": [
        "Ejemplo"
      ]
    },
    {
      "cell_type": "code",
      "metadata": {
        "colab": {
          "base_uri": "https://localhost:8080/"
        },
        "id": "9tiXC6uPCxPA",
        "outputId": "185dda39-0d8f-4157-e257-06ed6c49d1ae"
      },
      "source": [
        "time_index = pd.date_range('2019-01-01',periods = len(s),freq = 'D')\n",
        "print(time_index)\n",
        "v.index = time_index\n",
        "print(v)"
      ],
      "execution_count": 52,
      "outputs": [
        {
          "output_type": "stream",
          "text": [
            "DatetimeIndex(['2019-01-01', '2019-01-02', '2019-01-03', '2019-01-04',\n",
            "               '2019-01-05', '2019-01-06'],\n",
            "              dtype='datetime64[ns]', freq='D')\n",
            "2019-01-01    357.43\n",
            "2019-01-02    545.83\n",
            "2019-01-03    253.68\n",
            "2019-01-04    964.02\n",
            "2019-01-05    413.20\n",
            "2019-01-06    632.62\n",
            "Freq: D, Name: lista de precios, dtype: float64\n"
          ],
          "name": "stdout"
        }
      ]
    },
    {
      "cell_type": "markdown",
      "metadata": {
        "id": "uikcV_QEUABE"
      },
      "source": [
        "Series are usually accessed using the iloc[] and loc[] methods. iloc[] is used to access elements by integer index, and loc[] is used to access the index of the series.\n",
        "\n",
        "iloc[] is necessary when the index of a series are integers, take our previous defined series as example:\n",
        "\n"
      ]
    },
    {
      "cell_type": "code",
      "metadata": {
        "id": "5RuGhDJ8N7Bk",
        "colab": {
          "base_uri": "https://localhost:8080/"
        },
        "outputId": "b1c91c77-9227-4b8c-8073-0fcc6faa9850"
      },
      "source": [
        "s.index = [6,5,4,3,2,1]\n",
        "print(s)\n",
        "print(s[1])"
      ],
      "execution_count": 18,
      "outputs": [
        {
          "output_type": "stream",
          "text": [
            "6    143.73\n",
            "5    145.83\n",
            "4    143.68\n",
            "3    144.02\n",
            "2    143.50\n",
            "1    142.62\n",
            "Name: Apple Price List, dtype: float64\n",
            "142.62\n"
          ],
          "name": "stdout"
        }
      ]
    },
    {
      "cell_type": "markdown",
      "metadata": {
        "id": "1kYw5FpJC3wg"
      },
      "source": [
        "Ejemplo"
      ]
    },
    {
      "cell_type": "code",
      "metadata": {
        "colab": {
          "base_uri": "https://localhost:8080/"
        },
        "id": "uxEnquXdC5So",
        "outputId": "7414307b-02a4-4abc-fe72-4323c1e59ab1"
      },
      "source": [
        "v.index = [19,18,17,16,15,14]\n",
        "print(v)\n",
        "print(v[15])"
      ],
      "execution_count": 53,
      "outputs": [
        {
          "output_type": "stream",
          "text": [
            "19    357.43\n",
            "18    545.83\n",
            "17    253.68\n",
            "16    964.02\n",
            "15    413.20\n",
            "14    632.62\n",
            "Name: lista de precios, dtype: float64\n",
            "413.2\n"
          ],
          "name": "stdout"
        }
      ]
    },
    {
      "cell_type": "markdown",
      "metadata": {
        "id": "mTySMQmZUE8_"
      },
      "source": [
        "If we intended to take the second element of the series, we would make a mistake here, because the index are integers. In order to access to the element we want, we use iloc[] here:\n",
        "\n"
      ]
    },
    {
      "cell_type": "code",
      "metadata": {
        "id": "PVMlZ4pVN7Bl",
        "colab": {
          "base_uri": "https://localhost:8080/"
        },
        "outputId": "c9b64b5c-09a5-4dff-b721-1bd70e9c6aea"
      },
      "source": [
        "print(s.iloc[1])"
      ],
      "execution_count": 19,
      "outputs": [
        {
          "output_type": "stream",
          "text": [
            "145.83\n"
          ],
          "name": "stdout"
        }
      ]
    },
    {
      "cell_type": "markdown",
      "metadata": {
        "id": "Jx6DXr03DE36"
      },
      "source": [
        "Ejemplo"
      ]
    },
    {
      "cell_type": "code",
      "metadata": {
        "colab": {
          "base_uri": "https://localhost:8080/"
        },
        "id": "26YuFCxkDFuI",
        "outputId": "56f00e22-977d-4713-b22b-2808f69170c5"
      },
      "source": [
        "print(v.iloc[1])"
      ],
      "execution_count": 56,
      "outputs": [
        {
          "output_type": "stream",
          "text": [
            "545.83\n"
          ],
          "name": "stdout"
        }
      ]
    },
    {
      "cell_type": "markdown",
      "metadata": {
        "id": "511SJn6mUF6p"
      },
      "source": [
        "While working with time series data, we often use time as the index. Pandas provides us with various methods to access the data by time index."
      ]
    },
    {
      "cell_type": "code",
      "metadata": {
        "id": "Wk0OOTpzN7Bm",
        "colab": {
          "base_uri": "https://localhost:8080/"
        },
        "outputId": "64be90d8-66f8-4500-a48b-973dc13c0e32"
      },
      "source": [
        "s.index = time_index\n",
        "print(s['2017-01-03'])"
      ],
      "execution_count": 20,
      "outputs": [
        {
          "output_type": "stream",
          "text": [
            "143.68\n"
          ],
          "name": "stdout"
        }
      ]
    },
    {
      "cell_type": "markdown",
      "metadata": {
        "id": "NlHhqA5LDOm2"
      },
      "source": [
        "Ejemplo"
      ]
    },
    {
      "cell_type": "code",
      "metadata": {
        "colab": {
          "base_uri": "https://localhost:8080/"
        },
        "id": "L7JG_M1QDPo3",
        "outputId": "4139f05d-3dd8-4bb8-bd59-8bee723f0e0d"
      },
      "source": [
        "v.index = time_index\n",
        "print(v['2019-01-03'])"
      ],
      "execution_count": 57,
      "outputs": [
        {
          "output_type": "stream",
          "text": [
            "253.68\n"
          ],
          "name": "stdout"
        }
      ]
    },
    {
      "cell_type": "markdown",
      "metadata": {
        "id": "8wQvqq1DUJkY"
      },
      "source": [
        "We can even access to a range of dates:"
      ]
    },
    {
      "cell_type": "code",
      "metadata": {
        "id": "6kMMZe-_N7Bm",
        "colab": {
          "base_uri": "https://localhost:8080/"
        },
        "outputId": "2f49d447-4341-4b5f-96a6-46002e469b2b"
      },
      "source": [
        "print(s['2017-01-02':'2017-01-05'])"
      ],
      "execution_count": 21,
      "outputs": [
        {
          "output_type": "stream",
          "text": [
            "2017-01-02    145.83\n",
            "2017-01-03    143.68\n",
            "2017-01-04    144.02\n",
            "2017-01-05    143.50\n",
            "Freq: D, Name: Apple Price List, dtype: float64\n"
          ],
          "name": "stdout"
        }
      ]
    },
    {
      "cell_type": "markdown",
      "metadata": {
        "id": "rMRvMnBtDUm-"
      },
      "source": [
        "Ejemplo"
      ]
    },
    {
      "cell_type": "code",
      "metadata": {
        "colab": {
          "base_uri": "https://localhost:8080/"
        },
        "id": "sWC9ZLqMDVmm",
        "outputId": "0fe23473-b200-4ea8-81d8-c764562ac1d9"
      },
      "source": [
        "print(v['2019-01-02':'2019-01-05'])"
      ],
      "execution_count": 58,
      "outputs": [
        {
          "output_type": "stream",
          "text": [
            "2019-01-02    545.83\n",
            "2019-01-03    253.68\n",
            "2019-01-04    964.02\n",
            "2019-01-05    413.20\n",
            "Freq: D, Name: lista de precios, dtype: float64\n"
          ],
          "name": "stdout"
        }
      ]
    },
    {
      "cell_type": "markdown",
      "metadata": {
        "id": "65tNEhM2ULSL"
      },
      "source": [
        "Series[] provides us a very flexible way to index data. We can add any condition in the square brackets:"
      ]
    },
    {
      "cell_type": "code",
      "metadata": {
        "id": "jItYuqNHN7Bn",
        "colab": {
          "base_uri": "https://localhost:8080/"
        },
        "outputId": "948dec29-beed-4624-eb80-c76a0ea4553f"
      },
      "source": [
        "print(s[s < np.mean(s)] )\n",
        "print([(s > np.mean(s)) & (s < np.mean(s) + 1.64*np.std(s))])"
      ],
      "execution_count": 22,
      "outputs": [
        {
          "output_type": "stream",
          "text": [
            "2017-01-01    143.73\n",
            "2017-01-03    143.68\n",
            "2017-01-05    143.50\n",
            "2017-01-06    142.62\n",
            "Name: Apple Price List, dtype: float64\n",
            "[2017-01-01    False\n",
            "2017-01-02    False\n",
            "2017-01-03    False\n",
            "2017-01-04     True\n",
            "2017-01-05    False\n",
            "2017-01-06    False\n",
            "Freq: D, Name: Apple Price List, dtype: bool]\n"
          ],
          "name": "stdout"
        }
      ]
    },
    {
      "cell_type": "markdown",
      "metadata": {
        "id": "r243RChMDac-"
      },
      "source": [
        "Ejemplo"
      ]
    },
    {
      "cell_type": "code",
      "metadata": {
        "colab": {
          "base_uri": "https://localhost:8080/"
        },
        "id": "0aqwKGTCDb1O",
        "outputId": "e8e4ac88-b060-4782-bd02-53cc3994057a"
      },
      "source": [
        "print(v[v < np.mean(v)] )\n",
        "print([(v > np.mean(v)) & (v < np.mean(v) + 2.64*np.std(v))])"
      ],
      "execution_count": 59,
      "outputs": [
        {
          "output_type": "stream",
          "text": [
            "2019-01-01    357.43\n",
            "2019-01-03    253.68\n",
            "2019-01-05    413.20\n",
            "Name: lista de precios, dtype: float64\n",
            "[2019-01-01    False\n",
            "2019-01-02     True\n",
            "2019-01-03    False\n",
            "2019-01-04     True\n",
            "2019-01-05    False\n",
            "2019-01-06     True\n",
            "Freq: D, Name: lista de precios, dtype: bool]\n"
          ],
          "name": "stdout"
        }
      ]
    },
    {
      "cell_type": "markdown",
      "metadata": {
        "id": "aIZoGJfNUVPn"
      },
      "source": [
        "As demonstrated, we can use logical operators like & (and), | (or) and ~ (not) to group multiple conditions.\n",
        "\n",
        "#Summary\n",
        "Here we have introduced NumPy and Pandas for scientific computing in Python. In the next chapter, we will dive into Pandas to learn resampling and manipulating Pandas DataFrame, which are commonly used in financial data analysis."
      ]
    }
  ]
}