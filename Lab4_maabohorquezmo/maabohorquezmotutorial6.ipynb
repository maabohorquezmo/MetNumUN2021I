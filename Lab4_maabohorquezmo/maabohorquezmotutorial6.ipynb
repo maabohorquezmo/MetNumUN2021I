{
  "nbformat": 4,
  "nbformat_minor": 0,
  "metadata": {
    "kernelspec": {
      "display_name": "Python 3",
      "language": "python",
      "name": "python3"
    },
    "language_info": {
      "codemirror_mode": {
        "name": "ipython",
        "version": 3
      },
      "file_extension": ".py",
      "mimetype": "text/x-python",
      "name": "python",
      "nbconvert_exporter": "python",
      "pygments_lexer": "ipython3",
      "version": "3.6.4"
    },
    "colab": {
      "name": "maabohorquezmotutorial6.ipynb",
      "provenance": []
    }
  },
  "cells": [
    {
      "cell_type": "code",
      "metadata": {
        "colab": {
          "base_uri": "https://localhost:8080/"
        },
        "id": "UheALTKemI3Y",
        "outputId": "b7d4e04f-a215-4767-ec6e-53a62679ca2b"
      },
      "source": [
        "!pip install quandl"
      ],
      "execution_count": 1,
      "outputs": [
        {
          "output_type": "stream",
          "text": [
            "Collecting quandl\n",
            "  Downloading https://files.pythonhosted.org/packages/8b/2b/feefb36015beaecc5c0f9f2533e815b409621d9fa7b50b2aac621796f828/Quandl-3.6.1-py2.py3-none-any.whl\n",
            "Requirement already satisfied: six in /usr/local/lib/python3.7/dist-packages (from quandl) (1.15.0)\n",
            "Requirement already satisfied: more-itertools in /usr/local/lib/python3.7/dist-packages (from quandl) (8.7.0)\n",
            "Requirement already satisfied: pandas>=0.14 in /usr/local/lib/python3.7/dist-packages (from quandl) (1.1.5)\n",
            "Requirement already satisfied: numpy>=1.8 in /usr/local/lib/python3.7/dist-packages (from quandl) (1.19.5)\n",
            "Collecting inflection>=0.3.1\n",
            "  Downloading https://files.pythonhosted.org/packages/59/91/aa6bde563e0085a02a435aa99b49ef75b0a4b062635e606dab23ce18d720/inflection-0.5.1-py2.py3-none-any.whl\n",
            "Requirement already satisfied: requests>=2.7.0 in /usr/local/lib/python3.7/dist-packages (from quandl) (2.23.0)\n",
            "Requirement already satisfied: python-dateutil in /usr/local/lib/python3.7/dist-packages (from quandl) (2.8.1)\n",
            "Requirement already satisfied: pytz>=2017.2 in /usr/local/lib/python3.7/dist-packages (from pandas>=0.14->quandl) (2018.9)\n",
            "Requirement already satisfied: urllib3!=1.25.0,!=1.25.1,<1.26,>=1.21.1 in /usr/local/lib/python3.7/dist-packages (from requests>=2.7.0->quandl) (1.24.3)\n",
            "Requirement already satisfied: chardet<4,>=3.0.2 in /usr/local/lib/python3.7/dist-packages (from requests>=2.7.0->quandl) (3.0.4)\n",
            "Requirement already satisfied: certifi>=2017.4.17 in /usr/local/lib/python3.7/dist-packages (from requests>=2.7.0->quandl) (2020.12.5)\n",
            "Requirement already satisfied: idna<3,>=2.5 in /usr/local/lib/python3.7/dist-packages (from requests>=2.7.0->quandl) (2.10)\n",
            "Installing collected packages: inflection, quandl\n",
            "Successfully installed inflection-0.5.1 quandl-3.6.1\n"
          ],
          "name": "stdout"
        }
      ]
    },
    {
      "cell_type": "markdown",
      "metadata": {
        "id": "fidqDlPAeZmt"
      },
      "source": [
        "##### **Single period return**"
      ]
    },
    {
      "cell_type": "markdown",
      "metadata": {
        "id": "-jDlKlqAcIUl"
      },
      "source": [
        "The single-period rate of return can be calculated as following: \n",
        "\n",
        "$$ r = \\frac{p_t}{p_0} -1 = \\frac{p_t-p_0}{p_0}$$\n",
        "\n",
        "Here, $r$ is the rate of return, $p_t$ is the asset price at time $t$, and $p_0$ is the asset price at time 0"
      ]
    },
    {
      "cell_type": "code",
      "metadata": {
        "colab": {
          "base_uri": "https://localhost:8080/"
        },
        "id": "nEsQ4NAnbUwB",
        "outputId": "f726b869-3bd2-4f09-9b37-f9522e10a5ff"
      },
      "source": [
        "import numpy as np\n",
        "rate_return = 102.0/100 - 1\n",
        "print(rate_return)"
      ],
      "execution_count": 2,
      "outputs": [
        {
          "output_type": "stream",
          "text": [
            "0.020000000000000018\n"
          ],
          "name": "stdout"
        }
      ]
    },
    {
      "cell_type": "markdown",
      "metadata": {
        "id": "oruX7nCdoh0C"
      },
      "source": [
        "Ejemplo"
      ]
    },
    {
      "cell_type": "code",
      "metadata": {
        "colab": {
          "base_uri": "https://localhost:8080/"
        },
        "id": "PeeVz4xPoknu",
        "outputId": "7d8c55d7-e7d7-4141-f0a1-e366ce8ad52f"
      },
      "source": [
        "rate_return_1 = 125.0/100 - 1\n",
        "print(rate_return_1)"
      ],
      "execution_count": 8,
      "outputs": [
        {
          "output_type": "stream",
          "text": [
            "0.25\n"
          ],
          "name": "stdout"
        }
      ]
    },
    {
      "cell_type": "markdown",
      "metadata": {
        "id": "pEYtPcqIc3oM"
      },
      "source": [
        "`Example: ` Let's say we bought a stock at $\\$100$, and half a year later it will grow to $\\$102$. A year later the price will come to $\\$104$. How to calculate our total return? Well, we can either deem it as a single-period:\n",
        "\n",
        "$$r=104/100-1 = 0.04$$"
      ]
    },
    {
      "cell_type": "markdown",
      "metadata": {
        "id": "zFxdv2bodUcN"
      },
      "source": [
        "Or as a two-stage period:\n",
        "\n",
        "$$r = (1+r_1) * (1+r_2)-1 = \\frac{102}{100} * \\frac{104}{102}-1 = 0.04$$"
      ]
    },
    {
      "cell_type": "markdown",
      "metadata": {
        "id": "GywLSU0meA59"
      },
      "source": [
        "The rate of return we calculate here is called cumulative return or overall return. It measures the total return of this asset over a period of time.\n",
        "\n",
        "Now consider the following situation: we have two strategies: strategy A and strategy B. We backtested strategy A for 1 years and the cumulative return is 20%, while we backtested strategy B for 3 months(one quarter) and the cumulative return is 6%. Which strategy has a high rate of return? Our commonly used method is to convert all the returns into compounding annual return, regardless of the investing horizon of each strategy. We can compare the returns of strategies with different time horizon now. Since there are four quarters in a year,the annual return of strategy B is:\n",
        "\n",
        "$$(1+0.06)^4 = 1 + r$$\n",
        "$$ r = 0.262$$\n",
        "\n",
        "Strategy B has an higher compounding annual return when we compare 26% with 20%."
      ]
    },
    {
      "cell_type": "markdown",
      "metadata": {
        "id": "b8wPGZ9Zegh9"
      },
      "source": [
        "##### **Logarithm return**"
      ]
    },
    {
      "cell_type": "markdown",
      "metadata": {
        "id": "UsXKoCYjenl1"
      },
      "source": [
        "In the above example, strategy A has 6% return over three months. Nominally, the annual return would be 4*6% = 24%. This nominal annual interest rate is called the stated annual interest rate. It is calculated as the periodic interest rate times the number of periods per year. It works according to the simple interest and does not take into account the compounding periods, while the effective annual interest rate is 26% as we calculated above and it does account for intra-year compounding. The effective annual interest rate is an essential tool that allows the evaluation of the real return on investment. If we assume the number of compounding periods in one year is n, the formula to convert the stated annual interest rate to the effective annual interest rate is\n",
        "\n",
        "$$r_{effective} = (1+\\frac{r_{nominal}}{n})^n-1$$"
      ]
    },
    {
      "cell_type": "markdown",
      "metadata": {
        "id": "L9_ZSwbke7HF"
      },
      "source": [
        "Now imagine the price of asset is changing every second or even every millisecond, the period of compounding n approaches infinite. This is called continuous compounding. The calculation formula is given below:\n",
        "\n",
        "$$\\lim_{n \\rightarrow \\infty} (1+\\frac{r}{n})^n = e^r$$"
      ]
    },
    {
      "cell_type": "markdown",
      "metadata": {
        "id": "GLH6XFRqfTkF"
      },
      "source": [
        "From the above limitation equation, we know that if we assume continuous compounding:\n",
        "\n",
        "$$e^{r_{nominal}} = 1 + r_{effective} = \\frac{p_t}{p_0}$$\n",
        "\n",
        "Then we take $\\ln$ on both side of the equation:\n",
        "\n",
        "$$r_{nominal} = \\ln \\frac{p_t}{p_0} = \\ln p_t - \\ln p_0 $$"
      ]
    },
    {
      "cell_type": "markdown",
      "metadata": {
        "id": "bvFXphCegRi2"
      },
      "source": [
        "Here we got the logarithmic return, or continuously compounded return. This return is the nominal return with the interest compounding every millisecond. To see how it is close to effective interest rate, recall the equation above:\n",
        "\n",
        "$$e^{r_{nominal}} = 1 + r_{effective}$$\n",
        "\n",
        "Then we have:\n",
        "\n",
        "$$r_{effective} = e^{r_{nominal}} - 1 \\approx r_{nominal}$$\n",
        "\n",
        "where the second equality holds due to Taylor Expansion and the interest rate being small. This is frequently used when calculating returns, because once we take the logarithm of asset prices, we can calculate the logarithm return by simply doing a subtraction. Here we use Apple stock prices as an example:"
      ]
    },
    {
      "cell_type": "code",
      "metadata": {
        "colab": {
          "base_uri": "https://localhost:8080/"
        },
        "id": "l1dMMGA_bUwG",
        "outputId": "b38ad91f-3267-4f3f-e00a-083a0e7c934f"
      },
      "source": [
        "import numpy as np\n",
        "import quandl\n",
        "quandl.ApiConfig.api_key = 'iE6uMFgsHuB56H-6LxYU'\n",
        "#get quandl data\n",
        "aapl_table = quandl.get('WIKI/AAPL')\n",
        "aapl = aapl_table.loc['2017-3',['Open','Close']]\n",
        "#take log return\n",
        "aapl['log_price'] = np.log(aapl.Close)\n",
        "aapl['log_return'] = aapl.log_price.diff()\n",
        "print(aapl)"
      ],
      "execution_count": 3,
      "outputs": [
        {
          "output_type": "stream",
          "text": [
            "               Open   Close  log_price  log_return\n",
            "Date                                              \n",
            "2017-03-01  137.890  139.79   4.940141         NaN\n",
            "2017-03-02  140.000  138.96   4.934186   -0.005955\n",
            "2017-03-03  138.780  139.78   4.940070    0.005884\n",
            "2017-03-06  139.365  139.34   4.936917   -0.003153\n",
            "2017-03-07  139.060  139.52   4.938208    0.001291\n",
            "2017-03-08  138.950  139.00   4.934474   -0.003734\n",
            "2017-03-09  138.740  138.68   4.932169   -0.002305\n",
            "2017-03-10  139.250  139.14   4.935481    0.003311\n",
            "2017-03-13  138.850  139.20   4.935912    0.000431\n",
            "2017-03-14  139.300  138.99   4.934402   -0.001510\n",
            "2017-03-15  139.410  140.46   4.944923    0.010521\n",
            "2017-03-16  140.720  140.69   4.946559    0.001636\n",
            "2017-03-17  141.000  139.99   4.941571   -0.004988\n",
            "2017-03-20  140.400  141.46   4.952017    0.010446\n",
            "2017-03-21  142.110  139.84   4.940499   -0.011518\n",
            "2017-03-22  139.845  141.42   4.951734    0.011235\n",
            "2017-03-23  141.260  140.92   4.948192   -0.003542\n",
            "2017-03-24  141.500  140.64   4.946203   -0.001989\n",
            "2017-03-27  139.390  140.88   4.947908    0.001705\n",
            "2017-03-28  140.910  143.80   4.968423    0.020515\n",
            "2017-03-29  143.680  144.12   4.970646    0.002223\n",
            "2017-03-30  144.190  143.93   4.969327   -0.001319\n",
            "2017-03-31  143.720  143.66   4.967449   -0.001878\n"
          ],
          "name": "stdout"
        }
      ]
    },
    {
      "cell_type": "markdown",
      "metadata": {
        "id": "1jBWE5EYg3iW"
      },
      "source": [
        "Here we calculated the daily logarithmic return of Apple stock. Given that we know the daily logarithm return of in this month, we can calculate the monthly return by simply sum all the daily returns up."
      ]
    },
    {
      "cell_type": "code",
      "metadata": {
        "colab": {
          "base_uri": "https://localhost:8080/"
        },
        "id": "b6ybJJbBbUwH",
        "outputId": "8445af60-3bd5-4e4d-a415-6999f26c3711"
      },
      "source": [
        "month_return = aapl.log_return.sum()\n",
        "print(month_return)"
      ],
      "execution_count": 4,
      "outputs": [
        {
          "output_type": "stream",
          "text": [
            "0.0273081001636184\n"
          ],
          "name": "stdout"
        }
      ]
    },
    {
      "cell_type": "code",
      "metadata": {
        "id": "hhJJmTaBorvO"
      },
      "source": [
        "Ejemplo"
      ],
      "execution_count": null,
      "outputs": []
    },
    {
      "cell_type": "code",
      "metadata": {
        "colab": {
          "base_uri": "https://localhost:8080/"
        },
        "id": "IfNx-GF9os8D",
        "outputId": "2b6390f7-0449-4d0a-f4d6-3ddffd44257a"
      },
      "source": [
        "month_return_1 = aapl.log_price.sum()\n",
        "print(month_return_1)"
      ],
      "execution_count": 9,
      "outputs": [
        {
          "output_type": "stream",
          "text": [
            "113.75741270665132\n"
          ],
          "name": "stdout"
        }
      ]
    },
    {
      "cell_type": "markdown",
      "metadata": {
        "id": "OHhj6FXFg_Ne"
      },
      "source": [
        "It may sounds incorrect to sum up the daily returns, but we can prove that it's mathematically correct. Let's assume the stock prices in a period of time are represented by $[p_0,p_1,p_2,p_3, \\cdots , p_n]$. Then the cumulative rate of return is given by:\n",
        "\n",
        "$$1+r_{effective} \\approx 1+r_{nominal} = \\ln \\frac{p_t}{p_0} = \\ln \\frac {p_t}{p_{t-1}} + \\ln \\frac{p_{t-1}}{p_{t-2}} + \\cdots + \\ln \\frac{p_1}{p_0}$$\n",
        "\n",
        "According to the equation above, we can simple sum up each logarithmic return in a period to get the cumulative return. The convenience of this method is also one of the reasons why we use logarithmic return in quantitative finance."
      ]
    },
    {
      "cell_type": "markdown",
      "metadata": {
        "id": "F4OyFdQRiI-W"
      },
      "source": [
        "##### **Artihmetic mean**"
      ]
    },
    {
      "cell_type": "markdown",
      "metadata": {
        "id": "EVEt-7Y1iP8W"
      },
      "source": [
        "Mean is a measure of the central tendency of a data series. It capture the key character of the distribution of the data series. When we talk about mean, by default it refers to arithmetic mean. It's defined as the sum of the values divided by the number of observations:\n",
        "\n",
        "$$\\mu = \\frac{\\sum_{i=1}^{n} x_i}{n}$$\n",
        "\n",
        "Where $(x_1,x_2,x_3 \\cdots x_n)$ is our data series."
      ]
    },
    {
      "cell_type": "markdown",
      "metadata": {
        "id": "LYtb28XCiqbO"
      },
      "source": [
        "In python we can use `NumPy.mean()` to do the calculation:"
      ]
    },
    {
      "cell_type": "code",
      "metadata": {
        "colab": {
          "base_uri": "https://localhost:8080/"
        },
        "id": "l6PcqtfrbUwH",
        "outputId": "08bc9e3e-dbf8-484d-db49-8ea145ae1364"
      },
      "source": [
        "print(np.mean(aapl.log_price))"
      ],
      "execution_count": 10,
      "outputs": [
        {
          "output_type": "stream",
          "text": [
            "4.94597446550658\n"
          ],
          "name": "stdout"
        }
      ]
    },
    {
      "cell_type": "markdown",
      "metadata": {
        "id": "3_Gtg-I9o5zO"
      },
      "source": [
        "Ejemplo"
      ]
    },
    {
      "cell_type": "code",
      "metadata": {
        "colab": {
          "base_uri": "https://localhost:8080/"
        },
        "id": "RQYPbzVko7Na",
        "outputId": "e2c06486-640e-4319-a473-95e3915df6d4"
      },
      "source": [
        "print(np.mean(aapl.log_return))"
      ],
      "execution_count": 11,
      "outputs": [
        {
          "output_type": "stream",
          "text": [
            "0.0012412772801644726\n"
          ],
          "name": "stdout"
        }
      ]
    },
    {
      "cell_type": "markdown",
      "metadata": {
        "id": "V9u7Uz-Qix2G"
      },
      "source": [
        "##### **Geometric mean**"
      ]
    },
    {
      "cell_type": "markdown",
      "metadata": {
        "id": "q1-pMo_Si3_-"
      },
      "source": [
        "The geometric mean is an average that is useful for data series of positive numbers that are better interpreted according to their product, such as growth rate. It's calculated by:\n",
        "\n",
        "$$\\overline x = \\sqrt[n]{x_1x_2x_3 \\cdots x_n}$$\n",
        "\n",
        "Let's calculate the geometric mean of a series of single-period return:\n",
        "\n",
        "$$1+\\overline r = \\sqrt[t]{\\frac{p_t}{p_{t-1}} * \\frac{p_{t-1}}{p_{t-2}} * \\cdots * \\frac{p_2}{p_{1}} *\\frac{p_1}{p_{0}}}$$\n",
        "\n",
        "$$(1+\\overline r ) = \\sqrt[t]{\\frac{p_t}{p_0}}$$\n",
        "\n",
        "Now the equation becomes the form which we are familiar with:\n",
        "\n",
        "$$(1+\\overline r)^t = {\\frac{p_t}{p_0}}$$\n",
        "\n",
        "This is why we said it make sense when applied to growth rates.\n"
      ]
    },
    {
      "cell_type": "markdown",
      "metadata": {
        "id": "fBvLCzh7ks12"
      },
      "source": [
        "##### **Variance**\n",
        "\n",
        "Variance is a measure of dispersion. In finance, most of the time variance is a synonym for risk. The higher the variance of an asset price is, the higher risk the asset bears. Variance is usually represented by σ2, and it's calculated by:\n",
        "\n",
        "$$\\sigma^2 = \\frac{\\sum_{i=1}^n (x_i-\\mu)^2}{n}$$"
      ]
    },
    {
      "cell_type": "markdown",
      "metadata": {
        "id": "NRj_X--QlINm"
      },
      "source": [
        "In python we can use `NumPy.var` to calculate it:\n",
        "\n"
      ]
    },
    {
      "cell_type": "code",
      "metadata": {
        "colab": {
          "base_uri": "https://localhost:8080/"
        },
        "id": "NOHTGHI-bUwH",
        "outputId": "5027e663-6bec-4a35-e937-8a8b28748d30"
      },
      "source": [
        "print(np.var(aapl.log_price))"
      ],
      "execution_count": 6,
      "outputs": [
        {
          "output_type": "stream",
          "text": [
            "0.00014203280448152512\n"
          ],
          "name": "stdout"
        }
      ]
    },
    {
      "cell_type": "markdown",
      "metadata": {
        "id": "31n_20v1pBKT"
      },
      "source": [
        "Ejemplo"
      ]
    },
    {
      "cell_type": "code",
      "metadata": {
        "colab": {
          "base_uri": "https://localhost:8080/"
        },
        "id": "YYXccnippClv",
        "outputId": "0d4aa426-f7b1-4ab5-c67f-1ea2b76c4f42"
      },
      "source": [
        "print(np.var(aapl.log_return))"
      ],
      "execution_count": 12,
      "outputs": [
        {
          "output_type": "stream",
          "text": [
            "4.714614733308607e-05\n"
          ],
          "name": "stdout"
        }
      ]
    },
    {
      "cell_type": "markdown",
      "metadata": {
        "id": "Wz5A5_0glPAe"
      },
      "source": [
        "##### **Standard Deviation**\n",
        "\n",
        "The most commonly used measure of dispersion in finance is standard deviation. It's usually represented by $\\sigma$. It's obvious to see the relation between standard deviation and variance:\n",
        "\n",
        "$$ \\sigma = \\sqrt{\\sigma^2} = \\sqrt{\\frac{\\sum_{i=1}^n (x_i-\\mu)^2}{n}}$$"
      ]
    },
    {
      "cell_type": "markdown",
      "metadata": {
        "id": "2_UJ4UCHlrru"
      },
      "source": [
        "NumPy also provides us a method to calculate standard deviation."
      ]
    },
    {
      "cell_type": "code",
      "metadata": {
        "colab": {
          "base_uri": "https://localhost:8080/"
        },
        "id": "Czf59qg9lrQO",
        "outputId": "99746424-c3cf-40dc-b55b-afcc16f72caa"
      },
      "source": [
        "print(np.std(aapl.log_price))"
      ],
      "execution_count": 13,
      "outputs": [
        {
          "output_type": "stream",
          "text": [
            "0.011917751653794651\n"
          ],
          "name": "stdout"
        }
      ]
    },
    {
      "cell_type": "markdown",
      "metadata": {
        "id": "m0Wy-fBFpILz"
      },
      "source": [
        "Ejemplo"
      ]
    },
    {
      "cell_type": "code",
      "metadata": {
        "id": "946rOPcxpJcj",
        "outputId": "231dafbb-e03c-4726-bddf-062597d21284",
        "colab": {
          "base_uri": "https://localhost:8080/"
        }
      },
      "source": [
        "print(np.std(aapl.log_return))"
      ],
      "execution_count": 14,
      "outputs": [
        {
          "output_type": "stream",
          "text": [
            "0.006866305217006164\n"
          ],
          "name": "stdout"
        }
      ]
    }
  ]
}