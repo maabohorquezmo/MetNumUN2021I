{
  "nbformat": 4,
  "nbformat_minor": 0,
  "metadata": {
    "celltoolbar": "Slideshow",
    "kernelspec": {
      "display_name": "Python 3",
      "language": "python",
      "name": "python3"
    },
    "language_info": {
      "codemirror_mode": {
        "name": "ipython",
        "version": 3
      },
      "file_extension": ".py",
      "mimetype": "text/x-python",
      "name": "python",
      "nbconvert_exporter": "python",
      "pygments_lexer": "ipython3",
      "version": "3.5.2"
    },
    "livereveal": {
      "start_slideshow_at": "selected"
    },
    "name": "Main.ipynb",
    "colab": {
      "name": "maabohorquezmocottsanderson.ipynb.txt",
      "provenance": [],
      "collapsed_sections": [
        "_OLj5iNmi-Qj",
        "fU-Hw6Fzi-Qq",
        "2NEK73Uci-Q0",
        "dneaHhSXi-Q-",
        "5HTj4iUZi-RA"
      ]
    }
  },
  "cells": [
    {
      "cell_type": "code",
      "metadata": {
        "colab": {
          "base_uri": "https://localhost:8080/"
        },
        "id": "CHcCv7tTjz0W",
        "outputId": "bd30ebff-2d97-487f-989a-b64b90bddf27"
      },
      "source": [
        "!pip install -U fortran-magic"
      ],
      "execution_count": 23,
      "outputs": [
        {
          "output_type": "stream",
          "text": [
            "Collecting fortran-magic\n",
            "  Downloading https://files.pythonhosted.org/packages/53/b1/d664bd431354c450f40fa436b2c9306666cd417b23098dd5636751c557a4/fortran_magic-0.7-py3-none-any.whl\n",
            "Requirement already satisfied, skipping upgrade: ipython in /usr/local/lib/python3.7/dist-packages (from fortran-magic) (5.5.0)\n",
            "Requirement already satisfied, skipping upgrade: numpy in /usr/local/lib/python3.7/dist-packages (from fortran-magic) (1.19.5)\n",
            "Requirement already satisfied, skipping upgrade: traitlets>=4.2 in /usr/local/lib/python3.7/dist-packages (from ipython->fortran-magic) (5.0.5)\n",
            "Requirement already satisfied, skipping upgrade: decorator in /usr/local/lib/python3.7/dist-packages (from ipython->fortran-magic) (4.4.2)\n",
            "Requirement already satisfied, skipping upgrade: prompt-toolkit<2.0.0,>=1.0.4 in /usr/local/lib/python3.7/dist-packages (from ipython->fortran-magic) (1.0.18)\n",
            "Requirement already satisfied, skipping upgrade: setuptools>=18.5 in /usr/local/lib/python3.7/dist-packages (from ipython->fortran-magic) (54.0.0)\n",
            "Requirement already satisfied, skipping upgrade: pexpect; sys_platform != \"win32\" in /usr/local/lib/python3.7/dist-packages (from ipython->fortran-magic) (4.8.0)\n",
            "Requirement already satisfied, skipping upgrade: pickleshare in /usr/local/lib/python3.7/dist-packages (from ipython->fortran-magic) (0.7.5)\n",
            "Requirement already satisfied, skipping upgrade: simplegeneric>0.8 in /usr/local/lib/python3.7/dist-packages (from ipython->fortran-magic) (0.8.1)\n",
            "Requirement already satisfied, skipping upgrade: pygments in /usr/local/lib/python3.7/dist-packages (from ipython->fortran-magic) (2.6.1)\n",
            "Requirement already satisfied, skipping upgrade: ipython-genutils in /usr/local/lib/python3.7/dist-packages (from traitlets>=4.2->ipython->fortran-magic) (0.2.0)\n",
            "Requirement already satisfied, skipping upgrade: six>=1.9.0 in /usr/local/lib/python3.7/dist-packages (from prompt-toolkit<2.0.0,>=1.0.4->ipython->fortran-magic) (1.15.0)\n",
            "Requirement already satisfied, skipping upgrade: wcwidth in /usr/local/lib/python3.7/dist-packages (from prompt-toolkit<2.0.0,>=1.0.4->ipython->fortran-magic) (0.2.5)\n",
            "Requirement already satisfied, skipping upgrade: ptyprocess>=0.5 in /usr/local/lib/python3.7/dist-packages (from pexpect; sys_platform != \"win32\"->ipython->fortran-magic) (0.7.0)\n",
            "Installing collected packages: fortran-magic\n",
            "Successfully installed fortran-magic-0.7\n"
          ],
          "name": "stdout"
        }
      ]
    },
    {
      "cell_type": "code",
      "metadata": {
        "autoscroll": false,
        "ein.tags": "worksheet-0",
        "colab": {
          "base_uri": "https://localhost:8080/",
          "height": 51
        },
        "id": "IskDEZTfi-PM",
        "outputId": "295dac6d-a069-47d6-b9d7-3f50f6ff8b01"
      },
      "source": [
        "%matplotlib inline\n",
        "%load_ext fortranmagic\n",
        "from io import BytesIO\n",
        "import os\n",
        "from urllib.parse import urlencode\n",
        "\n",
        "import requests\n",
        "\n",
        "\n",
        "import sys; sys.path.append('..')\n",
        "\n",
        "import pandas as pd\n",
        "import numpy as np\n",
        "import matplotlib as mpl\n",
        "import matplotlib.pyplot as plt\n",
        "import seaborn as sns\n",
        "\n",
        "mpl.rc('figure', figsize=(12, 7))\n",
        "\n",
        "ran_the_first_cell = True\n",
        "\n",
        "jan2017 = pd.to_datetime(['2017-01-03 00:00:00+00:00',\n",
        " '2017-01-04 00:00:00+00:00',\n",
        " '2017-01-05 00:00:00+00:00',\n",
        " '2017-01-06 00:00:00+00:00',\n",
        " '2017-01-09 00:00:00+00:00',\n",
        " '2017-01-10 00:00:00+00:00',\n",
        " '2017-01-11 00:00:00+00:00',\n",
        " '2017-01-12 00:00:00+00:00',\n",
        " '2017-01-13 00:00:00+00:00',\n",
        " '2017-01-17 00:00:00+00:00',\n",
        " '2017-01-18 00:00:00+00:00',\n",
        " '2017-01-19 00:00:00+00:00',\n",
        " '2017-01-20 00:00:00+00:00',\n",
        " '2017-01-23 00:00:00+00:00',\n",
        " '2017-01-24 00:00:00+00:00',\n",
        " '2017-01-25 00:00:00+00:00',\n",
        " '2017-01-26 00:00:00+00:00',\n",
        " '2017-01-27 00:00:00+00:00',\n",
        " '2017-01-30 00:00:00+00:00',\n",
        " '2017-01-31 00:00:00+00:00',\n",
        " '2017-02-01 00:00:00+00:00'])\n",
        "calendar = jan2017.values.astype('datetime64[D]')\n",
        "\n",
        "event_dates = pd.to_datetime(['2017-01-06 00:00:00+00:00', \n",
        "                             '2017-01-07 00:00:00+00:00', \n",
        "                             '2017-01-08 00:00:00+00:00']).values.astype('datetime64[D]')\n",
        "event_values = np.array([10, 15, 20])"
      ],
      "execution_count": 24,
      "outputs": [
        {
          "output_type": "stream",
          "text": [
            "/usr/local/lib/python3.7/dist-packages/fortranmagic.py:147: UserWarning: get_ipython_cache_dir has moved to the IPython.paths module since IPython 4.0.\n",
            "  self._lib_dir = os.path.join(get_ipython_cache_dir(), 'fortran')\n"
          ],
          "name": "stderr"
        },
        {
          "output_type": "display_data",
          "data": {
            "application/javascript": [
              "$.getScript(\"https://raw.github.com/marijnh/CodeMirror/master/mode/fortran/fortran.js\", function () {\n",
              "IPython.config.cell_magic_highlight['magic_fortran'] = {'reg':[/^%%fortran/]};});\n"
            ]
          },
          "metadata": {
            "tags": []
          }
        }
      ]
    },
    {
      "cell_type": "markdown",
      "metadata": {
        "ein.tags": "worksheet-0",
        "id": "iQkRtlMhi-Pc"
      },
      "source": [
        "<center>\n",
        "  <h1>The PyData Toolbox</h1>\n",
        "  <h3>Scott Sanderson (Twitter: @scottbsanderson, GitHub: ssanderson)</h3>\n",
        "  <h3><a href=\"https://github.com/ssanderson/pydata-toolbox\">https://github.com/ssanderson/pydata-toolbox</a></h3>\n",
        "</center>"
      ]
    },
    {
      "cell_type": "markdown",
      "metadata": {
        "collapsed": true,
        "ein.tags": "worksheet-0",
        "id": "mDc-ZN8fi-Pd"
      },
      "source": [
        "# About Me:\n",
        "\n",
        "<img src=\"images/me.jpg\" alt=\"Drawing\" style=\"width: 300px;\"/>\n",
        "\n",
        "- Senior Engineer at [Quantopian](www.quantopian.com)\n",
        "- Background in Mathematics and Philosophy\n",
        "- **Twitter:** [@scottbsanderson](https://twitter.com/scottbsanderson)\n",
        "- **GitHub:** [ssanderson](github.com/ssanderson)"
      ]
    },
    {
      "cell_type": "markdown",
      "metadata": {
        "id": "9D7keKYii-Pe"
      },
      "source": [
        "## Outline\n",
        "\n",
        "- Built-in Data Structures\n",
        "- Numpy `array`\n",
        "- Pandas `Series`/`DataFrame`\n",
        "- Plotting and \"Real-World\" Analyses"
      ]
    },
    {
      "cell_type": "markdown",
      "metadata": {
        "id": "QtalDrvqi-Pg"
      },
      "source": [
        "# Data Structures"
      ]
    },
    {
      "cell_type": "markdown",
      "metadata": {
        "id": "2q4N0bBLi-Ph"
      },
      "source": [
        "> Rule 5. Data dominates. If you've chosen the right data structures and organized things well, the algorithms\n",
        "will almost always be self-evident. Data structures, not algorithms, are central to programming.\n",
        "\n",
        "- *Notes on Programming in C*, by Rob Pike."
      ]
    },
    {
      "cell_type": "markdown",
      "metadata": {
        "id": "b7vAEXfWi-Pi"
      },
      "source": [
        "# Lists"
      ]
    },
    {
      "cell_type": "code",
      "metadata": {
        "collapsed": true,
        "id": "qW8eJlSri-Pj"
      },
      "source": [
        "assert ran_the_first_cell, \"Oh noes!\""
      ],
      "execution_count": 9,
      "outputs": []
    },
    {
      "cell_type": "code",
      "metadata": {
        "id": "noSBjLFmkHHU"
      },
      "source": [
        "# My Example\n",
        "assert ran_the_first_cell, \"oh que bien juegas!\""
      ],
      "execution_count": 10,
      "outputs": []
    },
    {
      "cell_type": "code",
      "metadata": {
        "colab": {
          "base_uri": "https://localhost:8080/"
        },
        "id": "5NjGgexli-Pj",
        "outputId": "984c6730-6a98-4aa6-b23c-2c84a1a12d52"
      },
      "source": [
        "l = [1, 'two', 3.0, 4, 5.0, \"six\"]\n",
        "l"
      ],
      "execution_count": 11,
      "outputs": [
        {
          "output_type": "execute_result",
          "data": {
            "text/plain": [
              "[1, 'two', 3.0, 4, 5.0, 'six']"
            ]
          },
          "metadata": {
            "tags": []
          },
          "execution_count": 11
        }
      ]
    },
    {
      "cell_type": "code",
      "metadata": {
        "colab": {
          "base_uri": "https://localhost:8080/"
        },
        "id": "0hD-3D1-kQGh",
        "outputId": "6d81bb49-9203-4175-afb9-c41e45caa06e"
      },
      "source": [
        "# My Example\n",
        "l_1 = ['uno', 2, 'tres', 'cuatro', 'cinco', 6, 'seis']\n",
        "l_1"
      ],
      "execution_count": 12,
      "outputs": [
        {
          "output_type": "execute_result",
          "data": {
            "text/plain": [
              "['uno', 2, 'tres', 'cuatro', 'cinco', 6, 'seis']"
            ]
          },
          "metadata": {
            "tags": []
          },
          "execution_count": 12
        }
      ]
    },
    {
      "cell_type": "code",
      "metadata": {
        "id": "CAcR6qXsi-Pk",
        "colab": {
          "base_uri": "https://localhost:8080/"
        },
        "outputId": "d874d5fe-3490-4cab-b86f-c1de6cb9b34a"
      },
      "source": [
        "# Lists can be indexed like C-style arrays.\n",
        "first = l[0]\n",
        "second = l[1]\n",
        "print(\"first:\", first)\n",
        "print(\"second:\", second)"
      ],
      "execution_count": 13,
      "outputs": [
        {
          "output_type": "stream",
          "text": [
            "first: 1\n",
            "second: two\n"
          ],
          "name": "stdout"
        }
      ]
    },
    {
      "cell_type": "code",
      "metadata": {
        "colab": {
          "base_uri": "https://localhost:8080/"
        },
        "id": "WrzvJZj4knde",
        "outputId": "db92c02d-0e0d-4f96-9a5a-1498ea89659b"
      },
      "source": [
        "# My Example\n",
        "# Lists can be indexed like C-style arrays.\n",
        "first = l_1[0]\n",
        "second = l_1[1]\n",
        "print(\"first:\", first)\n",
        "print(\"second:\", second)"
      ],
      "execution_count": 14,
      "outputs": [
        {
          "output_type": "stream",
          "text": [
            "first: uno\n",
            "second: 2\n"
          ],
          "name": "stdout"
        }
      ]
    },
    {
      "cell_type": "code",
      "metadata": {
        "id": "5KLKaOIdi-Pl",
        "colab": {
          "base_uri": "https://localhost:8080/"
        },
        "outputId": "c71b55d4-93cf-41a8-e8ef-16b41ef46457"
      },
      "source": [
        "# Negative indexing gives elements relative to the end of the list.\n",
        "last = l[-1]\n",
        "penultimate = l[-2]\n",
        "print(\"last:\", last)\n",
        "print(\"second to last:\", penultimate)"
      ],
      "execution_count": 15,
      "outputs": [
        {
          "output_type": "stream",
          "text": [
            "last: six\n",
            "second to last: 5.0\n"
          ],
          "name": "stdout"
        }
      ]
    },
    {
      "cell_type": "code",
      "metadata": {
        "colab": {
          "base_uri": "https://localhost:8080/"
        },
        "id": "mnoD1TUlkuBE",
        "outputId": "4e36a860-4e5b-4ecb-a763-ae585e1f2afa"
      },
      "source": [
        "# My Example\n",
        "# Negative indexing gives elements relative to the end of the list.\n",
        "last = l_1[-1]\n",
        "penultimate = l_1[-2]\n",
        "print(\"last:\", last)\n",
        "print(\"second to last:\", penultimate)"
      ],
      "execution_count": 16,
      "outputs": [
        {
          "output_type": "stream",
          "text": [
            "last: seis\n",
            "second to last: 6\n"
          ],
          "name": "stdout"
        }
      ]
    },
    {
      "cell_type": "code",
      "metadata": {
        "colab": {
          "base_uri": "https://localhost:8080/"
        },
        "id": "BZdKLooTi-Po",
        "outputId": "3e06d641-6d5d-43ff-ac4e-39cbee643320"
      },
      "source": [
        "# Lists can also be sliced, which makes a copy of elements between \n",
        "# start (inclusive) and stop (exclusive)\n",
        "sublist = l[1:3]\n",
        "sublist"
      ],
      "execution_count": 18,
      "outputs": [
        {
          "output_type": "execute_result",
          "data": {
            "text/plain": [
              "['two', 3.0]"
            ]
          },
          "metadata": {
            "tags": []
          },
          "execution_count": 18
        }
      ]
    },
    {
      "cell_type": "code",
      "metadata": {
        "colab": {
          "base_uri": "https://localhost:8080/"
        },
        "id": "dPp1pgnOk6tF",
        "outputId": "12229204-8773-4d40-88b4-52fec7e38da8"
      },
      "source": [
        "# My Example\n",
        "# Lists can also be sliced, which makes a copy of elements between \n",
        "# start (inclusive) and stop (exclusive)\n",
        "sublist = l_1[1:3]\n",
        "sublist"
      ],
      "execution_count": 19,
      "outputs": [
        {
          "output_type": "execute_result",
          "data": {
            "text/plain": [
              "[2, 'tres']"
            ]
          },
          "metadata": {
            "tags": []
          },
          "execution_count": 19
        }
      ]
    },
    {
      "cell_type": "code",
      "metadata": {
        "id": "tkATStxgi-Pp",
        "colab": {
          "base_uri": "https://localhost:8080/"
        },
        "outputId": "b7fc6f21-612d-4546-e287-90a9e7703fd3"
      },
      "source": [
        "# l[:N] is equivalent to l[0:N].\n",
        "first_three = l[:3]\n",
        "first_three"
      ],
      "execution_count": 20,
      "outputs": [
        {
          "output_type": "execute_result",
          "data": {
            "text/plain": [
              "[1, 'two', 3.0]"
            ]
          },
          "metadata": {
            "tags": []
          },
          "execution_count": 20
        }
      ]
    },
    {
      "cell_type": "code",
      "metadata": {
        "colab": {
          "base_uri": "https://localhost:8080/"
        },
        "id": "1zzeiOtclBPz",
        "outputId": "ede9a2dd-5162-4696-839f-70161f9bb631"
      },
      "source": [
        "# My Example\n",
        "# l[:N] is equivalent to l[0:N].\n",
        "first_three = l_1[:3]\n",
        "first_three"
      ],
      "execution_count": 21,
      "outputs": [
        {
          "output_type": "execute_result",
          "data": {
            "text/plain": [
              "['uno', 2, 'tres']"
            ]
          },
          "metadata": {
            "tags": []
          },
          "execution_count": 21
        }
      ]
    },
    {
      "cell_type": "code",
      "metadata": {
        "colab": {
          "base_uri": "https://localhost:8080/"
        },
        "id": "KS1HV5ZPi-Pp",
        "outputId": "5b2b4f25-5b1e-4008-e540-0a31b6dd1f02"
      },
      "source": [
        "# l[3:] is equivalent to l[3:len(l)].\n",
        "after_three = l[3:]\n",
        "after_three"
      ],
      "execution_count": 22,
      "outputs": [
        {
          "output_type": "execute_result",
          "data": {
            "text/plain": [
              "[4, 5.0, 'six']"
            ]
          },
          "metadata": {
            "tags": []
          },
          "execution_count": 22
        }
      ]
    },
    {
      "cell_type": "code",
      "metadata": {
        "colab": {
          "base_uri": "https://localhost:8080/"
        },
        "id": "8ZuoWvVulMHD",
        "outputId": "c589f542-d026-4fc5-d133-f851285c8124"
      },
      "source": [
        "# My Example\n",
        "# l[3:] is equivalent to l[3:len(l)].\n",
        "after_three = l_1[3:]\n",
        "after_three"
      ],
      "execution_count": 23,
      "outputs": [
        {
          "output_type": "execute_result",
          "data": {
            "text/plain": [
              "['cuatro', 'cinco', 6, 'seis']"
            ]
          },
          "metadata": {
            "tags": []
          },
          "execution_count": 23
        }
      ]
    },
    {
      "cell_type": "code",
      "metadata": {
        "colab": {
          "base_uri": "https://localhost:8080/"
        },
        "id": "igFh8VMvi-Pq",
        "outputId": "25fcd81c-90ef-4997-faa2-7f1c4919a8f2"
      },
      "source": [
        "# There's also a third parameter, \"step\", which gets every Nth element.\n",
        "l = ['a', 'b', 'c', 'd', 'e', 'f', 'g','h']\n",
        "l[1:7:2]"
      ],
      "execution_count": 24,
      "outputs": [
        {
          "output_type": "execute_result",
          "data": {
            "text/plain": [
              "['b', 'd', 'f']"
            ]
          },
          "metadata": {
            "tags": []
          },
          "execution_count": 24
        }
      ]
    },
    {
      "cell_type": "code",
      "metadata": {
        "colab": {
          "base_uri": "https://localhost:8080/"
        },
        "id": "lN_EewCglQ9r",
        "outputId": "65aeba5a-205f-411b-af16-35dbcbfad9f5"
      },
      "source": [
        "\n",
        "# There's also a third parameter, \"step\", which gets every Nth element.\n",
        "l_1 = ['a', 'b', 'x', 'y', 'q', 'k', 'r','z']\n",
        "l_1[1:7:2]"
      ],
      "execution_count": 27,
      "outputs": [
        {
          "output_type": "execute_result",
          "data": {
            "text/plain": [
              "['b', 'y', 'k']"
            ]
          },
          "metadata": {
            "tags": []
          },
          "execution_count": 27
        }
      ]
    },
    {
      "cell_type": "code",
      "metadata": {
        "id": "IlSbBV39i-Pr",
        "colab": {
          "base_uri": "https://localhost:8080/"
        },
        "outputId": "3fc4300a-752e-4de3-8e3d-fd96ac7dd9f0"
      },
      "source": [
        "# This is a cute way to reverse a list.\n",
        "l[::-1]"
      ],
      "execution_count": 28,
      "outputs": [
        {
          "output_type": "execute_result",
          "data": {
            "text/plain": [
              "['h', 'g', 'f', 'e', 'd', 'c', 'b', 'a']"
            ]
          },
          "metadata": {
            "tags": []
          },
          "execution_count": 28
        }
      ]
    },
    {
      "cell_type": "code",
      "metadata": {
        "colab": {
          "base_uri": "https://localhost:8080/"
        },
        "id": "BpUrTgoileX4",
        "outputId": "13fabda8-145b-4d90-b8f3-94a3efdf8b8d"
      },
      "source": [
        "# My Example\n",
        "# This is a cute way to reverse a list.\n",
        "l_1[::-1]"
      ],
      "execution_count": 29,
      "outputs": [
        {
          "output_type": "execute_result",
          "data": {
            "text/plain": [
              "['z', 'r', 'k', 'q', 'y', 'x', 'b', 'a']"
            ]
          },
          "metadata": {
            "tags": []
          },
          "execution_count": 29
        }
      ]
    },
    {
      "cell_type": "code",
      "metadata": {
        "colab": {
          "base_uri": "https://localhost:8080/"
        },
        "id": "Z_Haa8Sei-Pr",
        "outputId": "99d25edf-7f33-4ce0-9bb7-cd0f6ff95752"
      },
      "source": [
        "# Lists can be grown efficiently (in O(1) amortized time).\n",
        "l = [1, 2, 3, 4, 5]\n",
        "print(\"Before:\", l)\n",
        "l.append('six')\n",
        "print(\"After:\", l)"
      ],
      "execution_count": 30,
      "outputs": [
        {
          "output_type": "stream",
          "text": [
            "Before: [1, 2, 3, 4, 5]\n",
            "After: [1, 2, 3, 4, 5, 'six']\n"
          ],
          "name": "stdout"
        }
      ]
    },
    {
      "cell_type": "code",
      "metadata": {
        "colab": {
          "base_uri": "https://localhost:8080/"
        },
        "id": "aRIkUXp2yEZ1",
        "outputId": "1a0c9487-a62b-4e8f-9615-81283996d789"
      },
      "source": [
        "import sys\n",
        "sys.float_info.max"
      ],
      "execution_count": 31,
      "outputs": [
        {
          "output_type": "execute_result",
          "data": {
            "text/plain": [
              "1.7976931348623157e+308"
            ]
          },
          "metadata": {
            "tags": []
          },
          "execution_count": 31
        }
      ]
    },
    {
      "cell_type": "code",
      "metadata": {
        "colab": {
          "base_uri": "https://localhost:8080/"
        },
        "id": "FrSWfpYLlks2",
        "outputId": "36e07c61-afb5-41bc-af51-f1d971b35d78"
      },
      "source": [
        "# My Example\n",
        "# Lists can be grown efficiently (in O(1) amortized time).\n",
        "l_1 = [15, 30, 60, 80, 100]\n",
        "print(\"Before:\", l_1)\n",
        "l_1.append('seven')\n",
        "print(\"After:\", l_1)"
      ],
      "execution_count": 33,
      "outputs": [
        {
          "output_type": "stream",
          "text": [
            "Before: [15, 30, 60, 80, 100]\n",
            "After: [15, 30, 60, 80, 100, 'seven']\n"
          ],
          "name": "stdout"
        }
      ]
    },
    {
      "cell_type": "code",
      "metadata": {
        "id": "tr421-Q2i-Pt",
        "colab": {
          "base_uri": "https://localhost:8080/"
        },
        "outputId": "4bc12e3f-a8bd-4448-f5be-68f72e8d8df9"
      },
      "source": [
        "# Comprehensions let us perform elementwise computations.\n",
        "l = [1, 2, 3, 4, 5]\n",
        "[x * 2 for x in l]"
      ],
      "execution_count": 34,
      "outputs": [
        {
          "output_type": "execute_result",
          "data": {
            "text/plain": [
              "[2, 4, 6, 8, 10]"
            ]
          },
          "metadata": {
            "tags": []
          },
          "execution_count": 34
        }
      ]
    },
    {
      "cell_type": "code",
      "metadata": {
        "colab": {
          "base_uri": "https://localhost:8080/"
        },
        "id": "8e8jAyp2ly1x",
        "outputId": "fd8cd107-52c8-4790-a07b-8e45d664c3bc"
      },
      "source": [
        "# My Example\n",
        "# Comprehensions let us perform elementwise computations.\n",
        "l_1 = [10, 20, 30, 40, 50]\n",
        "[x / 2 for x in l_1]"
      ],
      "execution_count": 35,
      "outputs": [
        {
          "output_type": "execute_result",
          "data": {
            "text/plain": [
              "[5.0, 10.0, 15.0, 20.0, 25.0]"
            ]
          },
          "metadata": {
            "tags": []
          },
          "execution_count": 35
        }
      ]
    },
    {
      "cell_type": "markdown",
      "metadata": {
        "ein.tags": "worksheet-0",
        "id": "QgIl532mi-Pu"
      },
      "source": [
        "## Review: Python Lists\n",
        "\n",
        "- Zero-indexed sequence of arbitrary Python values.\n",
        "- Slicing syntax: `l[start:stop:step]` copies elements at regular intervals from `start` to `stop`.\n",
        "- Efficient (`O(1)`) appends and removes from end.\n",
        "- Comprehension syntax: `[f(x) for x in l if cond(x)]`."
      ]
    },
    {
      "cell_type": "markdown",
      "metadata": {
        "id": "3NV3o9pli-Pu"
      },
      "source": [
        "# Dictionaries"
      ]
    },
    {
      "cell_type": "code",
      "metadata": {
        "colab": {
          "base_uri": "https://localhost:8080/"
        },
        "id": "LE4rBxfOi-Pv",
        "outputId": "c8fc36bf-816a-498c-c3b0-57fd86fb7604"
      },
      "source": [
        "# Dictionaries are key-value mappings.\n",
        "philosophers = {'David': 'Hume', 'Immanuel': 'Kant', 'Bertrand': 'Russell'}\n",
        "philosophers"
      ],
      "execution_count": 36,
      "outputs": [
        {
          "output_type": "execute_result",
          "data": {
            "text/plain": [
              "{'Bertrand': 'Russell', 'David': 'Hume', 'Immanuel': 'Kant'}"
            ]
          },
          "metadata": {
            "tags": []
          },
          "execution_count": 36
        }
      ]
    },
    {
      "cell_type": "code",
      "metadata": {
        "colab": {
          "base_uri": "https://localhost:8080/"
        },
        "id": "teMNxT9umFK9",
        "outputId": "5841e562-3a92-4635-a124-2de349a1eb7f"
      },
      "source": [
        "# My Example\n",
        "# Dictionaries are key-value mappings.\n",
        "philosophers_1 = {'juan': 1, 'maria': 2, 'sofia': 3}\n",
        "philosophers_1"
      ],
      "execution_count": 38,
      "outputs": [
        {
          "output_type": "execute_result",
          "data": {
            "text/plain": [
              "{'juan': 1, 'maria': 2, 'sofia': 3}"
            ]
          },
          "metadata": {
            "tags": []
          },
          "execution_count": 38
        }
      ]
    },
    {
      "cell_type": "code",
      "metadata": {
        "colab": {
          "base_uri": "https://localhost:8080/"
        },
        "id": "kwE1AhwXi-Pv",
        "outputId": "afdafa7d-1daa-4141-e2a1-60bf00aee446"
      },
      "source": [
        "# Like lists, dictionaries are size-mutable.\n",
        "philosophers['Ludwig'] = 'Wittgenstein'\n",
        "philosophers"
      ],
      "execution_count": 39,
      "outputs": [
        {
          "output_type": "execute_result",
          "data": {
            "text/plain": [
              "{'Bertrand': 'Russell',\n",
              " 'David': 'Hume',\n",
              " 'Immanuel': 'Kant',\n",
              " 'Ludwig': 'Wittgenstein'}"
            ]
          },
          "metadata": {
            "tags": []
          },
          "execution_count": 39
        }
      ]
    },
    {
      "cell_type": "code",
      "metadata": {
        "colab": {
          "base_uri": "https://localhost:8080/"
        },
        "id": "mB1o4u1_mP8T",
        "outputId": "74708dd4-44bb-4161-dc4a-8502a43df9e8"
      },
      "source": [
        "# My Example\n",
        "# Like lists, dictionaries are size-mutable.\n",
        "philosophers_1['valery'] = 4\n",
        "philosophers_1"
      ],
      "execution_count": 41,
      "outputs": [
        {
          "output_type": "execute_result",
          "data": {
            "text/plain": [
              "{'Ludwig': 4, 'juan': 1, 'maria': 2, 'sofia': 3, 'valery': 4}"
            ]
          },
          "metadata": {
            "tags": []
          },
          "execution_count": 41
        }
      ]
    },
    {
      "cell_type": "code",
      "metadata": {
        "colab": {
          "base_uri": "https://localhost:8080/"
        },
        "id": "UFoh1vS9i-Px",
        "outputId": "d83708dc-c305-4272-acf1-965194385370"
      },
      "source": [
        "del philosophers['David']\n",
        "philosophers"
      ],
      "execution_count": 42,
      "outputs": [
        {
          "output_type": "execute_result",
          "data": {
            "text/plain": [
              "{'Bertrand': 'Russell', 'Immanuel': 'Kant', 'Ludwig': 'Wittgenstein'}"
            ]
          },
          "metadata": {
            "tags": []
          },
          "execution_count": 42
        }
      ]
    },
    {
      "cell_type": "code",
      "metadata": {
        "colab": {
          "base_uri": "https://localhost:8080/"
        },
        "id": "7kVgO_K0maIM",
        "outputId": "f6a66df5-3448-425d-8b1b-3b12c9e1814b"
      },
      "source": [
        "# My Example\n",
        "del philosophers_1['maria']\n",
        "philosophers_1"
      ],
      "execution_count": 47,
      "outputs": [
        {
          "output_type": "execute_result",
          "data": {
            "text/plain": [
              "{'Ludwig': 4, 'juan': 1, 'sofia': 3}"
            ]
          },
          "metadata": {
            "tags": []
          },
          "execution_count": 47
        }
      ]
    },
    {
      "cell_type": "code",
      "metadata": {
        "colab": {
          "base_uri": "https://localhost:8080/",
          "height": 180
        },
        "id": "0HnRduxZi-Px",
        "outputId": "7817caf9-36af-4f78-b2bd-d114bd0149d4"
      },
      "source": [
        "# No slicing.\n",
        "philosophers['Bertrand':'kant']"
      ],
      "execution_count": 51,
      "outputs": [
        {
          "output_type": "error",
          "ename": "TypeError",
          "evalue": "ignored",
          "traceback": [
            "\u001b[0;31m---------------------------------------------------------------------------\u001b[0m",
            "\u001b[0;31mTypeError\u001b[0m                                 Traceback (most recent call last)",
            "\u001b[0;32m<ipython-input-51-d4f686784aab>\u001b[0m in \u001b[0;36m<module>\u001b[0;34m()\u001b[0m\n\u001b[1;32m      1\u001b[0m \u001b[0;31m# No slicing.\u001b[0m\u001b[0;34m\u001b[0m\u001b[0;34m\u001b[0m\u001b[0;34m\u001b[0m\u001b[0m\n\u001b[0;32m----> 2\u001b[0;31m \u001b[0mphilosophers\u001b[0m\u001b[0;34m[\u001b[0m\u001b[0;34m'Bertrand'\u001b[0m\u001b[0;34m:\u001b[0m\u001b[0;34m'kant'\u001b[0m\u001b[0;34m]\u001b[0m\u001b[0;34m\u001b[0m\u001b[0;34m\u001b[0m\u001b[0m\n\u001b[0m",
            "\u001b[0;31mTypeError\u001b[0m: unhashable type: 'slice'"
          ]
        }
      ]
    },
    {
      "cell_type": "markdown",
      "metadata": {
        "ein.tags": "worksheet-0",
        "id": "354bwH-Bi-Px"
      },
      "source": [
        "## Review: Python Dictionaries\n",
        "\n",
        "- Unordered key-value mapping from (almost) arbitrary keys to arbitrary values.\n",
        "- Efficient (`O(1)`) lookup, insertion, and deletion.\n",
        "- No slicing (would require a notion of order)."
      ]
    },
    {
      "cell_type": "markdown",
      "metadata": {
        "id": "uxTG3rgMi-Py"
      },
      "source": [
        "<center><img src=\"images/pacino.gif\" alt=\"Drawing\" style=\"width: 100%;\"/></center>\n"
      ]
    },
    {
      "cell_type": "code",
      "metadata": {
        "collapsed": true,
        "id": "GVNKFJg6i-QA"
      },
      "source": [
        "# Suppose we have some matrices...\n",
        "a = [[1, 2, 3],\n",
        "     [2, 3, 4],\n",
        "     [5, 6, 7],\n",
        "     [1, 1, 1]]\n",
        "\n",
        "b = [[1, 2, 3, 4],\n",
        "     [2, 3, 4, 5]]"
      ],
      "execution_count": 52,
      "outputs": []
    },
    {
      "cell_type": "code",
      "metadata": {
        "id": "HqJv413kmvjJ"
      },
      "source": [
        "\n",
        "# Suppose we have some matrices...\n",
        "a_1 = [[51, 24, 12],\n",
        "     [9, 5, 6],\n",
        "     [50, 8, 19],\n",
        "     [6, 1, 14]]\n",
        "\n",
        "b_1 = [[4, 2, 6, 5],\n",
        "     [9, 3, 9, 7]]"
      ],
      "execution_count": 53,
      "outputs": []
    },
    {
      "cell_type": "code",
      "metadata": {
        "collapsed": true,
        "id": "BXx0xZHci-QB"
      },
      "source": [
        "def matmul(A, B):\n",
        "    \"\"\"Multiply matrix A by matrix B.\"\"\"\n",
        "    rows_out = len(A)\n",
        "    cols_out = len(B[0])\n",
        "    out = [[0 for col in range(cols_out)] for row in range(rows_out)]\n",
        "    \n",
        "    for i in range(rows_out):\n",
        "        for j in range(cols_out):\n",
        "            for k in range(len(B)):\n",
        "                out[i][j] += A[i][k] * B[k][j]\n",
        "    return out"
      ],
      "execution_count": 55,
      "outputs": []
    },
    {
      "cell_type": "markdown",
      "metadata": {
        "id": "7jjDzzGVi-QB"
      },
      "source": [
        "<center><img src=\"images/gross.gif\" alt=\"Drawing\" style=\"width: 50%;\"/></center>\n"
      ]
    },
    {
      "cell_type": "code",
      "metadata": {
        "id": "cet89uw6i-QC",
        "colab": {
          "base_uri": "https://localhost:8080/"
        },
        "outputId": "ba04a6a5-2d3c-4e6b-928f-3ad7a6be11c8"
      },
      "source": [
        "%%time\n",
        "\n",
        "matmul(a, b)"
      ],
      "execution_count": 56,
      "outputs": [
        {
          "output_type": "stream",
          "text": [
            "CPU times: user 55 µs, sys: 0 ns, total: 55 µs\n",
            "Wall time: 63.9 µs\n"
          ],
          "name": "stdout"
        },
        {
          "output_type": "execute_result",
          "data": {
            "text/plain": [
              "[[5, 8, 11, 14], [8, 13, 18, 23], [17, 28, 39, 50], [3, 5, 7, 9]]"
            ]
          },
          "metadata": {
            "tags": []
          },
          "execution_count": 56
        }
      ]
    },
    {
      "cell_type": "code",
      "metadata": {
        "colab": {
          "base_uri": "https://localhost:8080/"
        },
        "id": "Tr9o5PEppFiR",
        "outputId": "0cf7a7d4-2eca-4fd2-867d-3fdb8b19866c"
      },
      "source": [
        "\n",
        "%%time\n",
        "\n",
        "matmul(a_1, b_1)"
      ],
      "execution_count": 57,
      "outputs": [
        {
          "output_type": "stream",
          "text": [
            "CPU times: user 29 µs, sys: 0 ns, total: 29 µs\n",
            "Wall time: 32.4 µs\n"
          ],
          "name": "stdout"
        },
        {
          "output_type": "execute_result",
          "data": {
            "text/plain": [
              "[[420, 174, 522, 423],\n",
              " [81, 33, 99, 80],\n",
              " [272, 124, 372, 306],\n",
              " [33, 15, 45, 37]]"
            ]
          },
          "metadata": {
            "tags": []
          },
          "execution_count": 57
        }
      ]
    },
    {
      "cell_type": "code",
      "metadata": {
        "id": "yCXHoVsei-QC",
        "colab": {
          "base_uri": "https://localhost:8080/"
        },
        "outputId": "f170dd0d-f4fc-46f8-fc0e-6d451cfffe09"
      },
      "source": [
        "import random\n",
        "def random_matrix(m, n):\n",
        "    out = []\n",
        "    for row in range(m):\n",
        "        out.append([random.random() for _ in range(n)])\n",
        "    return out\n",
        "\n",
        "randm = random_matrix(2, 3)\n",
        "print(randm)\n",
        "# My Example\n",
        "randm_1 = random_matrix(20, 30)\n",
        "print(randm_1)"
      ],
      "execution_count": 58,
      "outputs": [
        {
          "output_type": "stream",
          "text": [
            "[[0.14510759690426578, 0.48745647780167856, 0.4771284513156744], [0.2850058317650991, 0.23349183589434663, 0.8359483199340492]]\n",
            "[[0.0739104671712566, 0.18247379355499127, 0.25422922447191754, 0.08964623840671082, 0.8490417596351195, 0.07201675126760065, 0.34910178322545304, 0.618797307373604, 0.5850838592056972, 0.44322929335285743, 0.46468375394761774, 0.5966042266441046, 0.2649534348311776, 0.6734796177995948, 0.7684916453698705, 0.2521479667575067, 0.6027442076217653, 0.6864958170605622, 0.7374834410703902, 0.9104192084309263, 0.14275780073305522, 0.44327747496513903, 0.17306363733875185, 0.8493908107433221, 0.06872451826625825, 0.4932310176520458, 0.8441818618838237, 0.8511971277560683, 0.47853873171612793, 0.19286912011102353], [0.6792607844764006, 0.3696625859982704, 0.9782947229717649, 0.031309261540008015, 0.9311158607511879, 0.7269884933052901, 0.25037942286698966, 0.027528396940349253, 0.8918249397881167, 0.646194985451074, 0.550734960442666, 0.41650943497337334, 0.08167185879723426, 0.15893722797653453, 0.33268876777182554, 0.21377502092957723, 0.38666735503726346, 0.13359876256676473, 0.01969843480106981, 0.9331843162312872, 0.8536316891487317, 0.8228119189809633, 0.009295018421199286, 0.18053544353513284, 0.920494567393124, 0.8840492113773822, 0.3672170273587376, 0.46579562297759824, 0.11463387874844, 0.7391452684240123], [0.28294610690867916, 0.9401640276118759, 0.10016857731165185, 0.13335095762745208, 0.3790873082335523, 0.46460703550531857, 0.08357759543721266, 0.11769987131947679, 0.006331326865801179, 0.7298988913971277, 0.8857069877690247, 0.454749698455415, 0.5550816958241579, 0.004277092761794998, 0.3058767245592945, 0.2616314814204982, 0.6564938451539152, 0.2085023576127537, 0.5244931629439703, 0.9515886986742982, 0.017238550424241716, 0.19466626566123013, 0.37574537227510296, 0.3429231290267736, 0.5748761043187689, 0.8112403089380922, 0.9419454322525508, 0.9850204527550322, 0.6939441326283637, 0.916651170464639], [0.6400005688479153, 0.052093364001722486, 0.8151828576649575, 0.4075692191155075, 0.9174232466440801, 0.5584672266784219, 0.9049567243945176, 0.7722835589558346, 0.4657127189976016, 0.058404957938516744, 0.7447083204881245, 0.10690845336187127, 0.6864486603312413, 0.8629115166029034, 0.836683878723481, 0.2417146050829636, 0.570948845016438, 0.5740153354497036, 0.5397472392976379, 0.714931093452406, 0.021777809031955142, 0.1381511204912288, 0.2001251237102707, 0.9007787291956812, 0.6561608135022969, 0.9212150626149466, 0.610624016267024, 0.5873432429716964, 0.19388561641784752, 0.700537240328675], [0.7188747495829648, 0.2789885148212806, 0.916430340279256, 0.5317801714397646, 0.4259842853163466, 0.9036479066764327, 0.12244302458444101, 0.137604685247265, 0.9606719899058886, 0.759163350256718, 0.6093954464229147, 0.48765497127599633, 0.03796981761905227, 0.17312207432888682, 0.7872003488739368, 0.6835004123759125, 0.04970277925004496, 0.8214731865981423, 0.03550533111849197, 0.20578007808271248, 0.2731172232062834, 0.021853468073766313, 0.0702374705591221, 0.6220436573437438, 0.31847709383281697, 0.575322790830518, 0.049186476914600874, 0.46156047961142177, 0.9616015405669044, 0.329751541668975], [0.8115781862256564, 0.9533348904677063, 0.6124525771574287, 0.021783768606994935, 0.7168757270981767, 0.035195946456092364, 0.5052790630365045, 0.27782456930661237, 0.7993939825265266, 0.8059689369500196, 0.6805452542278357, 0.7672329599022883, 0.953379867374085, 0.7528193640336607, 0.8690605254448786, 0.38416283275449725, 0.5310433108878899, 0.6397390605195334, 0.9416221983782633, 0.8570324497695775, 0.32480116184408603, 0.272409865314051, 0.7250988436034707, 0.9624148822922359, 0.929438430791775, 0.4437220241117261, 0.3218177386321329, 0.28498813868223904, 0.46975141514147156, 0.3593077235578114], [0.2745676800881184, 0.43565954190913647, 0.28604152176405895, 0.29128135974774305, 0.3992670335472992, 0.8266652452614022, 0.23610211611567822, 0.6051145789392461, 0.6014344075496808, 0.07343640550269681, 0.7435805432993884, 0.3699103233688452, 0.9377806103709292, 0.7816781068709774, 0.44983286740008677, 0.2710721995051253, 0.29087415249223925, 0.8642130527354687, 0.8412185892835059, 0.3775565991180897, 0.7286056583281378, 0.7923689535520592, 0.37784733520675107, 0.06521587966942777, 0.7962339265996932, 0.8681021797843695, 0.5975278502686805, 0.7668615398689388, 0.8822777004980707, 0.8088356863591988], [0.13680973573904553, 0.9421755250202527, 0.474917529527197, 0.49922432582230514, 0.3032849766127642, 0.22108664071472706, 0.07659482977537913, 0.04271348123637975, 0.696579781266623, 0.20031954414283903, 0.5063359177803877, 0.777375761889733, 0.1992568517404043, 0.38761256319166215, 0.7899323596130015, 0.002645312289041968, 0.6072028048117095, 0.23883603232881223, 0.5101204645212126, 0.7353289754523769, 0.9061716600884006, 0.7574854802626156, 0.6929089750756602, 0.023162634743284727, 0.8712484540002384, 0.16621876023934934, 0.473835627604145, 0.6736296408288395, 0.33393794952676825, 0.09651201815273569], [0.031510800620419, 0.10764458143351974, 0.9596028544800353, 0.7633909427942958, 0.3209588106208562, 0.40218048124701755, 0.8009989556169032, 0.5346577527558783, 0.111813082444155, 0.9242442502123612, 0.866990685225041, 0.8708104478144706, 0.04738195853784277, 0.09278636272218199, 0.6110707553479444, 0.5378581350001782, 0.8140249607153505, 0.8652166163567178, 0.7361359849621266, 0.8794224124357718, 0.12568013911802278, 0.7782590060091285, 0.5869801039675713, 0.3183069185407026, 0.01695262875258674, 0.9723248729541011, 0.8882203389629354, 0.24504832344580996, 0.7884419460203577, 0.6773641715743431], [0.8767532554799982, 0.8307723574129146, 0.7557489009381346, 0.7828942566807936, 0.7104711392935291, 0.6043222141926616, 0.24694374860628954, 0.1499640280980964, 0.7044337391463844, 0.6674915965079184, 0.9663642514503712, 0.6049181762567964, 0.4340846464182132, 0.9001122809048178, 0.6387861667143843, 0.18257575075351884, 0.07760527849351784, 0.34391843817159573, 0.42226763293991787, 0.8325932986408872, 0.4513863714631118, 0.5950098027877235, 0.5387774251107094, 0.9166519411140392, 0.1636202562259279, 0.31025833109877576, 0.32210994564367934, 0.8845271389980521, 0.22375992239640485, 0.03069276816414024], [0.00617294919732303, 0.05536880974189662, 0.6674528050857784, 0.8564636819800763, 0.20638963344605998, 0.5636856384498652, 0.8662770411872975, 0.3960057570958464, 0.34692715335463, 0.7748210375727432, 0.48319649925082586, 0.9018210280220894, 0.21349084364866722, 0.43578540753338135, 0.26548541391101366, 0.31018886021876857, 0.9203365427449867, 0.4710992348138594, 0.8479644973591096, 0.9636219770569532, 0.23580868007546896, 0.8978739048038905, 0.35370756285966287, 0.9554479441710214, 0.4593447593236768, 0.5002715452396467, 0.0014016064324831046, 0.9715613932650166, 0.6286630833382701, 0.45577244549938556], [0.029657820138411117, 0.9080302092609622, 0.0024866266311560636, 0.17331817742599387, 0.37274213074380014, 0.1909036462656747, 0.8841992742642887, 0.818521490793189, 0.2818430476937166, 0.22193296797263007, 0.784597972008964, 0.9060876330208953, 0.08105747071426528, 0.7071329323061593, 0.02997041386179622, 0.3371066444591905, 0.3499372246619684, 0.9752202193356975, 0.5130866604626705, 0.016979597229561105, 0.26393390499164726, 0.5839842845505854, 0.47438373575973836, 0.45206671111186536, 0.2938489154283447, 0.7711422153730836, 0.8052916191912071, 0.6164758605363284, 0.9139039047495578, 0.6147711697371303], [0.05127630763998392, 0.1462768916116466, 0.13620293627318925, 0.7786622976504225, 0.5820301009205465, 0.38653664918015385, 0.19519453663729247, 0.39242202018488004, 0.48029324539358453, 0.4164233935579794, 0.8069071964390108, 0.4196137898964525, 0.8819735232798829, 0.9075975337893057, 0.5615591728849121, 0.8803706090219542, 0.7740946803539623, 0.9118934352483798, 0.2607029303177615, 0.36866305917079334, 0.24833534693793902, 0.818338429361124, 0.49687366931088117, 0.6697657069688862, 0.5093715267364451, 0.8705909673417662, 0.4409120566001853, 0.09844230423505007, 0.6599248779609505, 0.09708211387498877], [0.7751523682982149, 0.1957489096276558, 0.4366926654124572, 0.22169369994748056, 0.8957345197897186, 0.4976102513891614, 0.9968213315482114, 0.9598510354031214, 0.45389072926960017, 0.6126089800429897, 0.6171367229160527, 0.5511934218649539, 0.3489756266744526, 0.13069501634971048, 0.4230998717613794, 0.9229723104466679, 0.854478185270561, 0.5913825662159775, 0.13692533291526365, 0.13122705977127092, 0.029106587948358964, 0.49452440147894505, 0.9520940841701384, 0.21024660616650825, 0.5551326915045861, 0.10889071308519704, 0.7094322945977277, 0.30916213941293735, 0.0845130125655229, 0.4981382462508318], [0.778136019854098, 0.5539266215716161, 0.4905189939804814, 0.926977985902486, 0.6232068083527309, 0.9478108269493691, 0.09323571209008741, 0.6848615853936052, 0.8097371062394575, 0.30576230778214875, 0.17890088694368544, 0.2754815862345178, 0.8906674645233398, 0.3123060715479137, 0.7156397141978361, 0.355134687585251, 0.32714357591143983, 0.2614796839123228, 0.6562254297678807, 0.690281282239165, 0.5192408214906963, 0.16401621181732928, 0.16024068534404912, 0.12670386522164523, 0.1902998315746589, 0.7319190766892, 0.8893738187172321, 0.7165961012909992, 0.02782105813201785, 0.05737556041360037], [0.5736714567661951, 0.7376385627624097, 0.5865067796423955, 0.8872436991067321, 0.37875332924727667, 0.03467655257691549, 0.7370282075632674, 0.6902606917990658, 0.5088526441756026, 0.9318196865479218, 0.24371105232001355, 0.6408096632526602, 0.23764313688164207, 0.42730542752713696, 0.9286793740516671, 0.6930703258036609, 0.6109459621774636, 0.7377788646509795, 0.012916510794293234, 0.7405206967770426, 0.7782303919088646, 0.6526268302832461, 0.3173541968166016, 0.29366789317226516, 0.9419938696762967, 0.5215539742537424, 0.5815205074015602, 0.3977636498203091, 0.8340488382535877, 0.2721833539593309], [0.23928035985113372, 0.6052859063079338, 0.35029503733425527, 0.7253833426938433, 0.8695694682763894, 0.4049991649097744, 0.6240287791295458, 0.6601280542819963, 0.8892635686494481, 0.27433581261106754, 0.4797463837335709, 0.20915523601838648, 0.34549724910179425, 0.9554719786398289, 0.07387102982009164, 0.9063915347319231, 0.5644703048563277, 0.06617112933076486, 0.19251217905855345, 0.26682810068112717, 0.8611367705183259, 0.31092963451232236, 0.572438208109286, 0.32321117769854046, 0.34513971514426733, 0.16314441223865417, 0.9206837088461296, 0.6113062127680446, 0.2729622361214301, 0.9641607922839376], [0.8639008769503096, 0.2689780501127901, 0.9043072899853785, 0.3007528195159753, 0.7392411047487486, 0.6207192629679609, 0.41052535602885676, 0.2454434505187827, 0.37943013375509904, 0.5462232207212043, 0.7092661985408409, 0.11907010134124185, 0.823120722287487, 0.22414448873484616, 0.28287555411313325, 0.45443809437159133, 0.819757989856513, 0.34443205645344777, 0.0969959246417259, 0.6333925534431121, 0.34771694516282226, 0.2597531620111062, 0.1332909728721322, 0.07177434316114895, 0.733716315972284, 0.7952680068266909, 0.6511697461452332, 0.24401105600595174, 0.8577633324908444, 0.027895683623611833], [0.1901039946822357, 0.9057164599675528, 0.541647793992338, 0.7662890837486958, 0.25584988270946807, 0.028123618991808264, 0.3438602657647606, 0.6170655718304471, 0.81007978065742, 0.35855458482965474, 0.8267166888476859, 0.2603095576665071, 0.9687368986597917, 0.24465911781806615, 0.1473405388594552, 0.6146521090759055, 0.55825864726962, 0.756787044429663, 0.044642415634644106, 0.9249085866912014, 0.7734254777968337, 0.7462672303164328, 0.8602951061503683, 0.8858671901651347, 0.004507602556269474, 0.27676422281541935, 0.420630398344629, 0.9036365290027204, 0.04658183478597788, 0.15360163746892663], [0.5817176557513501, 0.3435591120373376, 0.7390035069873406, 0.03253633746580786, 0.9170449892690218, 0.42721005746744767, 0.2035160804618089, 0.5181551963145434, 0.7034990726428, 0.8464501714381019, 0.4631293717342476, 0.6594615626636603, 0.9624084070540305, 0.36268180266196104, 0.7467797812576428, 0.6420703894447468, 0.5629763081377959, 0.5513662226296441, 0.5480357662862393, 0.5278168917918711, 0.6982883371052058, 0.9497957749949795, 0.9360951109834883, 0.30198364337653116, 0.6585997858596058, 0.7469442649110207, 0.798866453201808, 0.07501571690499254, 0.4746831949765713, 0.8514702324877487]]\n"
          ],
          "name": "stdout"
        }
      ]
    },
    {
      "cell_type": "code",
      "metadata": {
        "scrolled": true,
        "id": "fnluPFbSi-QD",
        "colab": {
          "base_uri": "https://localhost:8080/"
        },
        "outputId": "cede5bd0-5294-40ca-bb39-20e2d76eec55"
      },
      "source": [
        "%%time\n",
        "randa = random_matrix(600, 100)\n",
        "randb = random_matrix(100, 600)\n",
        "x = matmul(randa, randb)"
      ],
      "execution_count": 59,
      "outputs": [
        {
          "output_type": "stream",
          "text": [
            "CPU times: user 9 s, sys: 27 ms, total: 9.03 s\n",
            "Wall time: 9.06 s\n"
          ],
          "name": "stdout"
        }
      ]
    },
    {
      "cell_type": "code",
      "metadata": {
        "collapsed": true,
        "id": "5Zh2zsDKi-QD"
      },
      "source": [
        "# Maybe that's not that bad?  Let's try a simpler case.\n",
        "def python_dot_product(xs, ys):\n",
        "    return sum(x * y for x, y in zip(xs, ys))"
      ],
      "execution_count": 60,
      "outputs": []
    },
    {
      "cell_type": "code",
      "metadata": {
        "collapsed": true,
        "id": "gj6ICO4Bi-QD"
      },
      "source": [
        "%%fortran\n",
        "subroutine fortran_dot_product(xs, ys, result)\n",
        "    double precision, intent(in) :: xs(:)\n",
        "    double precision, intent(in) :: ys(:)\n",
        "    double precision, intent(out) :: result\n",
        "    \n",
        "    result = sum(xs * ys)\n",
        "end"
      ],
      "execution_count": 61,
      "outputs": []
    },
    {
      "cell_type": "code",
      "metadata": {
        "collapsed": true,
        "id": "YKhkid0qi-QE"
      },
      "source": [
        "list_data = [float(i) for i in range(100000)]\n",
        "array_data = np.array(list_data)"
      ],
      "execution_count": 62,
      "outputs": []
    },
    {
      "cell_type": "code",
      "metadata": {
        "id": "IDVIpoDZWdlv"
      },
      "source": [
        "\n",
        "list_data_1 = [float(2 * i) for i in range(90000)]\n",
        "array_data_1 = np.array(list_data_1)"
      ],
      "execution_count": 63,
      "outputs": []
    },
    {
      "cell_type": "code",
      "metadata": {
        "id": "v_EHCHVqi-QF",
        "colab": {
          "base_uri": "https://localhost:8080/"
        },
        "outputId": "38d17363-8607-4751-caab-1d76e4875720"
      },
      "source": [
        "%%time\n",
        "python_dot_product(list_data, list_data)"
      ],
      "execution_count": 64,
      "outputs": [
        {
          "output_type": "stream",
          "text": [
            "CPU times: user 9.01 ms, sys: 0 ns, total: 9.01 ms\n",
            "Wall time: 8.95 ms\n"
          ],
          "name": "stdout"
        },
        {
          "output_type": "execute_result",
          "data": {
            "text/plain": [
              "333328333350000.0"
            ]
          },
          "metadata": {
            "tags": []
          },
          "execution_count": 64
        }
      ]
    },
    {
      "cell_type": "code",
      "metadata": {
        "id": "flkh9RVAi-QF",
        "colab": {
          "base_uri": "https://localhost:8080/"
        },
        "outputId": "8cd95657-cb1d-4324-d01f-cdc8f119c641"
      },
      "source": [
        "%%time\n",
        "fortran_dot_product(array_data, array_data)"
      ],
      "execution_count": 65,
      "outputs": [
        {
          "output_type": "stream",
          "text": [
            "CPU times: user 239 µs, sys: 0 ns, total: 239 µs\n",
            "Wall time: 249 µs\n"
          ],
          "name": "stdout"
        },
        {
          "output_type": "execute_result",
          "data": {
            "text/plain": [
              "333328333350000.0"
            ]
          },
          "metadata": {
            "tags": []
          },
          "execution_count": 65
        }
      ]
    },
    {
      "cell_type": "code",
      "metadata": {
        "colab": {
          "base_uri": "https://localhost:8080/"
        },
        "id": "Yt6jJZD-b-93",
        "outputId": "93ead670-871c-457c-a69a-e02e9fdae620"
      },
      "source": [
        "# My Example\n",
        "%%time\n",
        "python_dot_product(list_data_1, list_data_1)"
      ],
      "execution_count": 66,
      "outputs": [
        {
          "output_type": "stream",
          "text": [
            "CPU times: user 10.7 ms, sys: 96 µs, total: 10.8 ms\n",
            "Wall time: 11.7 ms\n"
          ],
          "name": "stdout"
        },
        {
          "output_type": "execute_result",
          "data": {
            "text/plain": [
              "971983800060000.0"
            ]
          },
          "metadata": {
            "tags": []
          },
          "execution_count": 66
        }
      ]
    },
    {
      "cell_type": "markdown",
      "metadata": {
        "id": "zLk2-21ti-QG"
      },
      "source": [
        "<center><img src=\"images/sloth.gif\" alt=\"Drawing\" style=\"width: 1080px;\"/></center>\n"
      ]
    },
    {
      "cell_type": "code",
      "metadata": {
        "colab": {
          "base_uri": "https://localhost:8080/"
        },
        "id": "g_QRrB22cIPW",
        "outputId": "a7ad84c8-5dfd-4e7b-8fad-d9e052dda2fb"
      },
      "source": [
        "\n",
        "%%time\n",
        "fortran_dot_product(array_data_1, array_data)"
      ],
      "execution_count": 68,
      "outputs": [
        {
          "output_type": "stream",
          "text": [
            "CPU times: user 259 µs, sys: 15 µs, total: 274 µs\n",
            "Wall time: 284 µs\n"
          ],
          "name": "stdout"
        },
        {
          "output_type": "execute_result",
          "data": {
            "text/plain": [
              "485991900030000.0"
            ]
          },
          "metadata": {
            "tags": []
          },
          "execution_count": 68
        }
      ]
    },
    {
      "cell_type": "markdown",
      "metadata": {
        "id": "pjP4dO4ei-QG"
      },
      "source": [
        "## Why is the Python Version so Much Slower?"
      ]
    },
    {
      "cell_type": "code",
      "metadata": {
        "id": "u-JLWROpi-QH",
        "colab": {
          "base_uri": "https://localhost:8080/"
        },
        "outputId": "ca129fe0-2265-4070-a81d-293d5a2fe1c3"
      },
      "source": [
        "# Dynamic typing.\n",
        "def mul_elemwise(xs, ys):\n",
        "    return [x * y for x, y in zip(xs, ys)]\n",
        "\n",
        "mul_elemwise([1, 2, 3, 4], [1, 2 + 0j, 3.0, 'four'])\n",
        "#[type(x) for x in _]"
      ],
      "execution_count": 69,
      "outputs": [
        {
          "output_type": "execute_result",
          "data": {
            "text/plain": [
              "[1, (4+0j), 9.0, 'fourfourfourfour']"
            ]
          },
          "metadata": {
            "tags": []
          },
          "execution_count": 69
        }
      ]
    },
    {
      "cell_type": "code",
      "metadata": {
        "colab": {
          "base_uri": "https://localhost:8080/"
        },
        "id": "MpAvvUrzghGJ",
        "outputId": "776dae41-a089-4f88-b7a0-48e72ae83f42"
      },
      "source": [
        "\n",
        "# Dynamic typing.\n",
        "def mul_elemwise(xs, ys):\n",
        "    return [x * y for x, y in zip(xs, ys)]\n",
        "\n",
        "mul_elemwise([7, 5, 2, 1], [6, 7 + 0j, 5.0, 'seven'])\n",
        "#[type(x) for x in _]"
      ],
      "execution_count": 74,
      "outputs": [
        {
          "output_type": "execute_result",
          "data": {
            "text/plain": [
              "[42, (35+0j), 10.0, 'seven']"
            ]
          },
          "metadata": {
            "tags": []
          },
          "execution_count": 74
        }
      ]
    },
    {
      "cell_type": "code",
      "metadata": {
        "id": "xAt6mIV7i-QH",
        "colab": {
          "base_uri": "https://localhost:8080/"
        },
        "outputId": "1ef5fefd-9e93-4f82-99b9-8e535e110474"
      },
      "source": [
        "# Interpretation overhead.\n",
        "source_code = 'a + b * c'\n",
        "bytecode = compile(source_code, '', 'eval')\n",
        "import dis; dis.dis(bytecode)"
      ],
      "execution_count": 75,
      "outputs": [
        {
          "output_type": "stream",
          "text": [
            "  1           0 LOAD_NAME                0 (a)\n",
            "              2 LOAD_NAME                1 (b)\n",
            "              4 LOAD_NAME                2 (c)\n",
            "              6 BINARY_MULTIPLY\n",
            "              8 BINARY_ADD\n",
            "             10 RETURN_VALUE\n"
          ],
          "name": "stdout"
        }
      ]
    },
    {
      "cell_type": "code",
      "metadata": {
        "colab": {
          "base_uri": "https://localhost:8080/"
        },
        "id": "Y0aH-54Vhql9",
        "outputId": "ded678f8-d0ff-4ab8-da4b-d792b42e6186"
      },
      "source": [
        "\n",
        "# Interpretation overhead.\n",
        "source_code = 'a - b ** c'\n",
        "bytecode = compile(source_code, '', 'eval')\n",
        "import dis; dis.dis(bytecode)"
      ],
      "execution_count": 77,
      "outputs": [
        {
          "output_type": "stream",
          "text": [
            "  1           0 LOAD_NAME                0 (a)\n",
            "              2 LOAD_NAME                1 (b)\n",
            "              4 LOAD_NAME                2 (c)\n",
            "              6 BINARY_POWER\n",
            "              8 BINARY_SUBTRACT\n",
            "             10 RETURN_VALUE\n"
          ],
          "name": "stdout"
        }
      ]
    },
    {
      "cell_type": "markdown",
      "metadata": {
        "id": "qVA---kLi-QH"
      },
      "source": [
        "## Why is the Python Version so Slow?\n",
        "- Dynamic typing means that every single operation requires dispatching on the input type.\n",
        "- Having an interpreter means that every instruction is fetched and dispatched at runtime.\n",
        "- Other overheads:\n",
        "  - Arbitrary-size integers.\n",
        "  - Reference-counted garbage collection."
      ]
    },
    {
      "cell_type": "markdown",
      "metadata": {
        "id": "Qfm17-jbi-QI"
      },
      "source": [
        "> This is the paradox that we have to work with when we're doing scientific or numerically-intensive Python. What makes Python fast for development -- this high-level, interpreted, and dynamically-typed aspect of the language -- is exactly what makes it slow for code execution.\n",
        "\n",
        "- Jake VanderPlas, [*Losing Your Loops: Fast Numerical Computing with NumPy*](https://www.youtube.com/watch?v=EEUXKG97YRw)"
      ]
    },
    {
      "cell_type": "markdown",
      "metadata": {
        "id": "Vyw7N6a4i-QI"
      },
      "source": [
        "# What Do We Do?"
      ]
    },
    {
      "cell_type": "markdown",
      "metadata": {
        "id": "g2zW2A7_i-QJ"
      },
      "source": [
        "<center><img src=\"images/runaway.gif\" alt=\"Drawing\" style=\"width: 50%;\"/></center>"
      ]
    },
    {
      "cell_type": "markdown",
      "metadata": {
        "id": "3KH-1Vrki-QJ"
      },
      "source": [
        "<center><img src=\"images/thisisfine.gif\" alt=\"Drawing\" style=\"width: 1080px;\"/></center>"
      ]
    },
    {
      "cell_type": "markdown",
      "metadata": {
        "id": "cOfEd9MDi-QK"
      },
      "source": [
        "- Python is slow for numerical computation because it performs dynamic dispatch on every operation we perform..."
      ]
    },
    {
      "cell_type": "markdown",
      "metadata": {
        "collapsed": true,
        "id": "2TXLQ3wPi-QK"
      },
      "source": [
        "- ...but often, we just want to do the same thing over and over in a loop!"
      ]
    },
    {
      "cell_type": "markdown",
      "metadata": {
        "id": "upflPV0xi-QK"
      },
      "source": [
        "- If we don't need Python's dynamicism, we don't want to pay (much) for it."
      ]
    },
    {
      "cell_type": "markdown",
      "metadata": {
        "id": "Or-JBKGwi-QK"
      },
      "source": [
        "- **Idea:** Dispatch **once per operation** instead of **once per element**."
      ]
    },
    {
      "cell_type": "code",
      "metadata": {
        "id": "HGrh4REji-QL",
        "colab": {
          "base_uri": "https://localhost:8080/"
        },
        "outputId": "28486fde-e2d0-4082-a434-5a3fa3f6b917"
      },
      "source": [
        "import numpy as np\n",
        "\n",
        "data = np.array([1, 2, 3, 4])\n",
        "data"
      ],
      "execution_count": 78,
      "outputs": [
        {
          "output_type": "execute_result",
          "data": {
            "text/plain": [
              "array([1, 2, 3, 4])"
            ]
          },
          "metadata": {
            "tags": []
          },
          "execution_count": 78
        }
      ]
    },
    {
      "cell_type": "code",
      "metadata": {
        "colab": {
          "base_uri": "https://localhost:8080/"
        },
        "id": "whF2CCDoqD4o",
        "outputId": "d1e43abb-14aa-44e5-8c80-1c464a14d2a0"
      },
      "source": [
        "\n",
        "#import numpy as np\n",
        "\n",
        "data_1 = np.array([3, 5, 4, 9])\n",
        "data_1"
      ],
      "execution_count": 80,
      "outputs": [
        {
          "output_type": "execute_result",
          "data": {
            "text/plain": [
              "array([3, 5, 4, 9])"
            ]
          },
          "metadata": {
            "tags": []
          },
          "execution_count": 80
        }
      ]
    },
    {
      "cell_type": "code",
      "metadata": {
        "id": "83b6wtApi-QM",
        "colab": {
          "base_uri": "https://localhost:8080/"
        },
        "outputId": "f5904553-22c1-48b9-e3e6-f6247a78a565"
      },
      "source": [
        "data + data"
      ],
      "execution_count": 81,
      "outputs": [
        {
          "output_type": "execute_result",
          "data": {
            "text/plain": [
              "array([2, 4, 6, 8])"
            ]
          },
          "metadata": {
            "tags": []
          },
          "execution_count": 81
        }
      ]
    },
    {
      "cell_type": "code",
      "metadata": {
        "colab": {
          "base_uri": "https://localhost:8080/"
        },
        "id": "G6Yka3r3qOfq",
        "outputId": "c7608278-c82e-4883-8ed6-aec451d1552d"
      },
      "source": [
        "\n",
        "4 * data_1"
      ],
      "execution_count": 83,
      "outputs": [
        {
          "output_type": "execute_result",
          "data": {
            "text/plain": [
              "array([12, 20, 16, 36])"
            ]
          },
          "metadata": {
            "tags": []
          },
          "execution_count": 83
        }
      ]
    },
    {
      "cell_type": "code",
      "metadata": {
        "id": "Ud-fmSPZi-QN",
        "colab": {
          "base_uri": "https://localhost:8080/"
        },
        "outputId": "2498b627-23ab-44a0-94a7-e42acba5188a"
      },
      "source": [
        "%%time\n",
        "# Naive dot product\n",
        "(array_data * array_data).sum()"
      ],
      "execution_count": 84,
      "outputs": [
        {
          "output_type": "stream",
          "text": [
            "CPU times: user 1.04 ms, sys: 1.84 ms, total: 2.88 ms\n",
            "Wall time: 5.97 ms\n"
          ],
          "name": "stdout"
        },
        {
          "output_type": "execute_result",
          "data": {
            "text/plain": [
              "333328333350000.0"
            ]
          },
          "metadata": {
            "tags": []
          },
          "execution_count": 84
        }
      ]
    },
    {
      "cell_type": "code",
      "metadata": {
        "colab": {
          "base_uri": "https://localhost:8080/"
        },
        "id": "-GUPyZgRqXQI",
        "outputId": "ff22418f-fd12-452e-9afd-9144a9bad253"
      },
      "source": [
        "\n",
        "%%time\n",
        "# Naive dot product\n",
        "(array_data ** 2).sum()"
      ],
      "execution_count": 86,
      "outputs": [
        {
          "output_type": "stream",
          "text": [
            "CPU times: user 509 µs, sys: 28 µs, total: 537 µs\n",
            "Wall time: 546 µs\n"
          ],
          "name": "stdout"
        },
        {
          "output_type": "execute_result",
          "data": {
            "text/plain": [
              "333328333350000.0"
            ]
          },
          "metadata": {
            "tags": []
          },
          "execution_count": 86
        }
      ]
    },
    {
      "cell_type": "code",
      "metadata": {
        "id": "xwu08wNvi-QN",
        "colab": {
          "base_uri": "https://localhost:8080/"
        },
        "outputId": "80b74ff1-c7d3-4a0b-b1b0-66aa2b28ae90"
      },
      "source": [
        "%%time\n",
        "# Built-in dot product.\n",
        "array_data.dot(array_data)"
      ],
      "execution_count": 87,
      "outputs": [
        {
          "output_type": "stream",
          "text": [
            "CPU times: user 1.73 ms, sys: 3.93 ms, total: 5.66 ms\n",
            "Wall time: 8.51 ms\n"
          ],
          "name": "stdout"
        },
        {
          "output_type": "execute_result",
          "data": {
            "text/plain": [
              "333328333350000.0"
            ]
          },
          "metadata": {
            "tags": []
          },
          "execution_count": 87
        }
      ]
    },
    {
      "cell_type": "code",
      "metadata": {
        "colab": {
          "base_uri": "https://localhost:8080/"
        },
        "id": "l7nnX5qMqxTE",
        "outputId": "71051779-d07d-4e91-bc33-21756ca3d210"
      },
      "source": [
        "\n",
        "%%time\n",
        "# Built-in dot product.\n",
        "array_data.dot(array_data)"
      ],
      "execution_count": 88,
      "outputs": [
        {
          "output_type": "stream",
          "text": [
            "CPU times: user 390 µs, sys: 0 ns, total: 390 µs\n",
            "Wall time: 229 µs\n"
          ],
          "name": "stdout"
        },
        {
          "output_type": "execute_result",
          "data": {
            "text/plain": [
              "333328333350000.0"
            ]
          },
          "metadata": {
            "tags": []
          },
          "execution_count": 88
        }
      ]
    },
    {
      "cell_type": "code",
      "metadata": {
        "id": "AFce673ui-QP",
        "colab": {
          "base_uri": "https://localhost:8080/"
        },
        "outputId": "33bde0dc-e399-4555-e44a-b38ccddc8520"
      },
      "source": [
        "%%time\n",
        "fortran_dot_product(array_data, array_data)"
      ],
      "execution_count": 89,
      "outputs": [
        {
          "output_type": "stream",
          "text": [
            "CPU times: user 241 µs, sys: 0 ns, total: 241 µs\n",
            "Wall time: 252 µs\n"
          ],
          "name": "stdout"
        },
        {
          "output_type": "execute_result",
          "data": {
            "text/plain": [
              "333328333350000.0"
            ]
          },
          "metadata": {
            "tags": []
          },
          "execution_count": 89
        }
      ]
    },
    {
      "cell_type": "code",
      "metadata": {
        "id": "fMaQI5-wi-QQ",
        "colab": {
          "base_uri": "https://localhost:8080/",
          "height": 231
        },
        "outputId": "41006c54-37b9-4d91-e996-c5db03be8b3f"
      },
      "source": [
        "# Numpy won't allow us to write a string into an int array.\n",
        "data[0] = \"fo\"\n",
        "\n",
        "# My Example\n",
        "data_1[0] = \"ola\""
      ],
      "execution_count": 36,
      "outputs": [
        {
          "output_type": "error",
          "ename": "NameError",
          "evalue": "ignored",
          "traceback": [
            "\u001b[0;31m---------------------------------------------------------------------------\u001b[0m",
            "\u001b[0;31mNameError\u001b[0m                                 Traceback (most recent call last)",
            "\u001b[0;32m<ipython-input-36-296be8e04076>\u001b[0m in \u001b[0;36m<module>\u001b[0;34m()\u001b[0m\n\u001b[1;32m      1\u001b[0m \u001b[0;31m# Numpy won't allow us to write a string into an int array.\u001b[0m\u001b[0;34m\u001b[0m\u001b[0;34m\u001b[0m\u001b[0;34m\u001b[0m\u001b[0m\n\u001b[0;32m----> 2\u001b[0;31m \u001b[0mdata\u001b[0m\u001b[0;34m[\u001b[0m\u001b[0;36m0\u001b[0m\u001b[0;34m]\u001b[0m \u001b[0;34m=\u001b[0m \u001b[0;34m\"fo\"\u001b[0m\u001b[0;34m\u001b[0m\u001b[0;34m\u001b[0m\u001b[0m\n\u001b[0m\u001b[1;32m      3\u001b[0m \u001b[0;34m\u001b[0m\u001b[0m\n\u001b[1;32m      4\u001b[0m \u001b[0;31m# My Example\u001b[0m\u001b[0;34m\u001b[0m\u001b[0;34m\u001b[0m\u001b[0;34m\u001b[0m\u001b[0m\n\u001b[1;32m      5\u001b[0m \u001b[0mdata_1\u001b[0m\u001b[0;34m[\u001b[0m\u001b[0;36m0\u001b[0m\u001b[0;34m]\u001b[0m \u001b[0;34m=\u001b[0m \u001b[0;34m\"ola\"\u001b[0m\u001b[0;34m\u001b[0m\u001b[0;34m\u001b[0m\u001b[0m\n",
            "\u001b[0;31mNameError\u001b[0m: name 'data' is not defined"
          ]
        }
      ]
    },
    {
      "cell_type": "code",
      "metadata": {
        "collapsed": true,
        "id": "_B9jwrbRi-QQ",
        "colab": {
          "base_uri": "https://localhost:8080/",
          "height": 180
        },
        "outputId": "dd3b81d2-6097-47cd-a1a1-849e80cd8518"
      },
      "source": [
        "# We also can't grow an array once it's created.\n",
        "data.append(3)"
      ],
      "execution_count": 91,
      "outputs": [
        {
          "output_type": "error",
          "ename": "AttributeError",
          "evalue": "ignored",
          "traceback": [
            "\u001b[0;31m---------------------------------------------------------------------------\u001b[0m",
            "\u001b[0;31mAttributeError\u001b[0m                            Traceback (most recent call last)",
            "\u001b[0;32m<ipython-input-91-8cdaf5ab44b5>\u001b[0m in \u001b[0;36m<module>\u001b[0;34m()\u001b[0m\n\u001b[1;32m      1\u001b[0m \u001b[0;31m# We also can't grow an array once it's created.\u001b[0m\u001b[0;34m\u001b[0m\u001b[0;34m\u001b[0m\u001b[0;34m\u001b[0m\u001b[0m\n\u001b[0;32m----> 2\u001b[0;31m \u001b[0mdata\u001b[0m\u001b[0;34m.\u001b[0m\u001b[0mappend\u001b[0m\u001b[0;34m(\u001b[0m\u001b[0;36m3\u001b[0m\u001b[0;34m)\u001b[0m\u001b[0;34m\u001b[0m\u001b[0;34m\u001b[0m\u001b[0m\n\u001b[0m",
            "\u001b[0;31mAttributeError\u001b[0m: 'numpy.ndarray' object has no attribute 'append'"
          ]
        }
      ]
    },
    {
      "cell_type": "code",
      "metadata": {
        "colab": {
          "base_uri": "https://localhost:8080/",
          "height": 197
        },
        "id": "dvt73SMPrCjd",
        "outputId": "f5979858-0dfb-41e7-e6bb-14d16a1ea50e"
      },
      "source": [
        "# My Example\n",
        "# We also can't grow an array once it's created.\n",
        "data_1.append(30)"
      ],
      "execution_count": 92,
      "outputs": [
        {
          "output_type": "error",
          "ename": "AttributeError",
          "evalue": "ignored",
          "traceback": [
            "\u001b[0;31m---------------------------------------------------------------------------\u001b[0m",
            "\u001b[0;31mAttributeError\u001b[0m                            Traceback (most recent call last)",
            "\u001b[0;32m<ipython-input-92-72ec32149f49>\u001b[0m in \u001b[0;36m<module>\u001b[0;34m()\u001b[0m\n\u001b[1;32m      1\u001b[0m \u001b[0;31m# My Example\u001b[0m\u001b[0;34m\u001b[0m\u001b[0;34m\u001b[0m\u001b[0;34m\u001b[0m\u001b[0m\n\u001b[1;32m      2\u001b[0m \u001b[0;31m# We also can't grow an array once it's created.\u001b[0m\u001b[0;34m\u001b[0m\u001b[0;34m\u001b[0m\u001b[0;34m\u001b[0m\u001b[0m\n\u001b[0;32m----> 3\u001b[0;31m \u001b[0mdata_1\u001b[0m\u001b[0;34m.\u001b[0m\u001b[0mappend\u001b[0m\u001b[0;34m(\u001b[0m\u001b[0;36m30\u001b[0m\u001b[0;34m)\u001b[0m\u001b[0;34m\u001b[0m\u001b[0;34m\u001b[0m\u001b[0m\n\u001b[0m",
            "\u001b[0;31mAttributeError\u001b[0m: 'numpy.ndarray' object has no attribute 'append'"
          ]
        }
      ]
    },
    {
      "cell_type": "code",
      "metadata": {
        "collapsed": true,
        "id": "PgIPmv8wi-QR",
        "colab": {
          "base_uri": "https://localhost:8080/"
        },
        "outputId": "f075f9b7-8650-4fc6-bac0-dd48735a5143"
      },
      "source": [
        "# We **can** reshape an array though.\n",
        "two_by_two = data.reshape(2, 2)\n",
        "two_by_two"
      ],
      "execution_count": 93,
      "outputs": [
        {
          "output_type": "execute_result",
          "data": {
            "text/plain": [
              "array([[1, 2],\n",
              "       [3, 4]])"
            ]
          },
          "metadata": {
            "tags": []
          },
          "execution_count": 93
        }
      ]
    },
    {
      "cell_type": "code",
      "metadata": {
        "colab": {
          "base_uri": "https://localhost:8080/"
        },
        "id": "7c4X5PS2rfH5",
        "outputId": "d848ff03-ac92-45b1-c526-9902bfa45e18"
      },
      "source": [
        "\n",
        "# We **can** reshape an array though.\n",
        "four_by_one = data_1.reshape(4, 1)\n",
        "four_by_one"
      ],
      "execution_count": 97,
      "outputs": [
        {
          "output_type": "execute_result",
          "data": {
            "text/plain": [
              "array([[3],\n",
              "       [5],\n",
              "       [4],\n",
              "       [9]])"
            ]
          },
          "metadata": {
            "tags": []
          },
          "execution_count": 97
        }
      ]
    },
    {
      "cell_type": "markdown",
      "metadata": {
        "id": "aBZmfED9i-QR"
      },
      "source": [
        "Numpy arrays are:\n",
        "\n",
        "- Fixed-type"
      ]
    },
    {
      "cell_type": "markdown",
      "metadata": {
        "id": "vcphcCiYi-QR"
      },
      "source": [
        "- Size-immutable"
      ]
    },
    {
      "cell_type": "markdown",
      "metadata": {
        "id": "dywdsSUyi-QS"
      },
      "source": [
        "- Multi-dimensional"
      ]
    },
    {
      "cell_type": "markdown",
      "metadata": {
        "id": "bTZpAYxXi-QS"
      },
      "source": [
        "- Fast\\*"
      ]
    },
    {
      "cell_type": "markdown",
      "metadata": {
        "id": "9J566ePhi-QS"
      },
      "source": [
        "\\* If you use them correctly."
      ]
    },
    {
      "cell_type": "markdown",
      "metadata": {
        "id": "fgfBDheGi-QS"
      },
      "source": [
        "# What's in an Array?"
      ]
    },
    {
      "cell_type": "code",
      "metadata": {
        "id": "3uDWLZXUi-QS",
        "colab": {
          "base_uri": "https://localhost:8080/"
        },
        "outputId": "02760ed7-fa8a-45bc-c9e6-c86f14b6c1d3"
      },
      "source": [
        "arr = np.array([1, 2, 3, 4, 5, 6], dtype='int16').reshape(2, 3)\n",
        "print(\"Array:\\n\", arr, sep='')\n",
        "print(\"===========\")\n",
        "print(\"DType:\", arr.dtype)\n",
        "print(\"Shape:\", arr.shape)\n",
        "print(\"Strides:\", arr.strides)\n",
        "print(\"Data:\", arr.data.tobytes())"
      ],
      "execution_count": 98,
      "outputs": [
        {
          "output_type": "stream",
          "text": [
            "Array:\n",
            "[[1 2 3]\n",
            " [4 5 6]]\n",
            "===========\n",
            "DType: int16\n",
            "Shape: (2, 3)\n",
            "Strides: (6, 2)\n",
            "Data: b'\\x01\\x00\\x02\\x00\\x03\\x00\\x04\\x00\\x05\\x00\\x06\\x00'\n"
          ],
          "name": "stdout"
        }
      ]
    },
    {
      "cell_type": "code",
      "metadata": {
        "colab": {
          "base_uri": "https://localhost:8080/"
        },
        "id": "BZjHgaFKi-vd",
        "outputId": "4786c4f4-df32-4f15-fee6-4cc0e1092f9b"
      },
      "source": [
        "arr = np.array([1, 2, 3, 4, 5, 6, 7, 8, 9], dtype='int16').reshape(3, 3)\n",
        "print(\"Array:\\n\", arr, sep='')\n",
        "print(\"===========\")\n",
        "print(\"DType:\", arr.dtype)\n",
        "print(\"Shape:\", arr.shape)\n",
        "print(\"Strides:\", arr.strides)\n",
        "print(\"Data:\", arr.data.tobytes())"
      ],
      "execution_count": 99,
      "outputs": [
        {
          "output_type": "stream",
          "text": [
            "Array:\n",
            "[[1 2 3]\n",
            " [4 5 6]\n",
            " [7 8 9]]\n",
            "===========\n",
            "DType: int16\n",
            "Shape: (3, 3)\n",
            "Strides: (6, 2)\n",
            "Data: b'\\x01\\x00\\x02\\x00\\x03\\x00\\x04\\x00\\x05\\x00\\x06\\x00\\x07\\x00\\x08\\x00\\t\\x00'\n"
          ],
          "name": "stdout"
        }
      ]
    },
    {
      "cell_type": "markdown",
      "metadata": {
        "id": "qDUhTjvUi-QT"
      },
      "source": [
        "# Core Operations\n",
        "\n",
        "- Vectorized **ufuncs** for elementwise operations.\n",
        "- Fancy indexing and masking for selection and filtering.\n",
        "- Aggregations across axes.\n",
        "- Broadcasting"
      ]
    },
    {
      "cell_type": "markdown",
      "metadata": {
        "id": "zBsgPjMMi-QT"
      },
      "source": [
        "# UFuncs\n",
        "\n",
        "UFuncs (universal functions) are functions that operate elementwise on one or more arrays."
      ]
    },
    {
      "cell_type": "code",
      "metadata": {
        "id": "3J1X1pTCi-QU",
        "colab": {
          "base_uri": "https://localhost:8080/"
        },
        "outputId": "c414e1c5-840d-4e11-b74a-bf5ddebf3482"
      },
      "source": [
        "data = np.arange(15).reshape(3, 5)\n",
        "data"
      ],
      "execution_count": 100,
      "outputs": [
        {
          "output_type": "execute_result",
          "data": {
            "text/plain": [
              "array([[ 0,  1,  2,  3,  4],\n",
              "       [ 5,  6,  7,  8,  9],\n",
              "       [10, 11, 12, 13, 14]])"
            ]
          },
          "metadata": {
            "tags": []
          },
          "execution_count": 100
        }
      ]
    },
    {
      "cell_type": "code",
      "metadata": {
        "colab": {
          "base_uri": "https://localhost:8080/"
        },
        "id": "pcTztphMsIsR",
        "outputId": "36355df6-1cb7-4611-c850-7de247ebe535"
      },
      "source": [
        "\n",
        "data_1 = np.arange(21).reshape(3, 7)\n",
        "data_1"
      ],
      "execution_count": 101,
      "outputs": [
        {
          "output_type": "execute_result",
          "data": {
            "text/plain": [
              "array([[ 0,  1,  2,  3,  4,  5,  6],\n",
              "       [ 7,  8,  9, 10, 11, 12, 13],\n",
              "       [14, 15, 16, 17, 18, 19, 20]])"
            ]
          },
          "metadata": {
            "tags": []
          },
          "execution_count": 101
        }
      ]
    },
    {
      "cell_type": "code",
      "metadata": {
        "id": "AP1Ty5CKi-QU",
        "colab": {
          "base_uri": "https://localhost:8080/"
        },
        "outputId": "9aead0f2-fa29-4b6d-e3e7-6c718f286bbc"
      },
      "source": [
        "# Binary operators.\n",
        "data * data"
      ],
      "execution_count": 102,
      "outputs": [
        {
          "output_type": "execute_result",
          "data": {
            "text/plain": [
              "array([[  0,   1,   4,   9,  16],\n",
              "       [ 25,  36,  49,  64,  81],\n",
              "       [100, 121, 144, 169, 196]])"
            ]
          },
          "metadata": {
            "tags": []
          },
          "execution_count": 102
        }
      ]
    },
    {
      "cell_type": "code",
      "metadata": {
        "colab": {
          "base_uri": "https://localhost:8080/"
        },
        "id": "0-g3wtfmsQDO",
        "outputId": "9aa782f1-8d87-4636-a0ff-49bc0e6b0a49"
      },
      "source": [
        "\n",
        "# Binary operators.\n",
        "data_1 ** 3"
      ],
      "execution_count": 103,
      "outputs": [
        {
          "output_type": "execute_result",
          "data": {
            "text/plain": [
              "array([[   0,    1,    8,   27,   64,  125,  216],\n",
              "       [ 343,  512,  729, 1000, 1331, 1728, 2197],\n",
              "       [2744, 3375, 4096, 4913, 5832, 6859, 8000]])"
            ]
          },
          "metadata": {
            "tags": []
          },
          "execution_count": 103
        }
      ]
    },
    {
      "cell_type": "code",
      "metadata": {
        "id": "DzTxdS-gi-QV",
        "colab": {
          "base_uri": "https://localhost:8080/"
        },
        "outputId": "6b5708e9-befb-4d5d-e0a2-04fc86edafd6"
      },
      "source": [
        "# Unary functions.\n",
        "np.sqrt(data)"
      ],
      "execution_count": 104,
      "outputs": [
        {
          "output_type": "execute_result",
          "data": {
            "text/plain": [
              "array([[0.        , 1.        , 1.41421356, 1.73205081, 2.        ],\n",
              "       [2.23606798, 2.44948974, 2.64575131, 2.82842712, 3.        ],\n",
              "       [3.16227766, 3.31662479, 3.46410162, 3.60555128, 3.74165739]])"
            ]
          },
          "metadata": {
            "tags": []
          },
          "execution_count": 104
        }
      ]
    },
    {
      "cell_type": "code",
      "metadata": {
        "colab": {
          "base_uri": "https://localhost:8080/"
        },
        "id": "amPkl1c3sX_6",
        "outputId": "b622183c-d125-4b72-af48-9ed5ec44ba01"
      },
      "source": [
        "\n",
        "# Unary functions.\n",
        "np.cbrt(data_1)"
      ],
      "execution_count": 105,
      "outputs": [
        {
          "output_type": "execute_result",
          "data": {
            "text/plain": [
              "array([[0.        , 1.        , 1.25992105, 1.44224957, 1.58740105,\n",
              "        1.70997595, 1.81712059],\n",
              "       [1.91293118, 2.        , 2.08008382, 2.15443469, 2.22398009,\n",
              "        2.28942849, 2.35133469],\n",
              "       [2.41014226, 2.46621207, 2.5198421 , 2.57128159, 2.62074139,\n",
              "        2.66840165, 2.71441762]])"
            ]
          },
          "metadata": {
            "tags": []
          },
          "execution_count": 105
        }
      ]
    },
    {
      "cell_type": "code",
      "metadata": {
        "id": "lH8Pxu9Qi-QW",
        "colab": {
          "base_uri": "https://localhost:8080/"
        },
        "outputId": "f5bc231f-f767-43ed-8717-c343399b6dcb"
      },
      "source": [
        "# Comparison operations\n",
        "(data % 3) == 0"
      ],
      "execution_count": 106,
      "outputs": [
        {
          "output_type": "execute_result",
          "data": {
            "text/plain": [
              "array([[ True, False, False,  True, False],\n",
              "       [False,  True, False, False,  True],\n",
              "       [False, False,  True, False, False]])"
            ]
          },
          "metadata": {
            "tags": []
          },
          "execution_count": 106
        }
      ]
    },
    {
      "cell_type": "code",
      "metadata": {
        "colab": {
          "base_uri": "https://localhost:8080/"
        },
        "id": "roceMTAysq_y",
        "outputId": "da04a85e-e615-434c-d08f-52335fcfb0a2"
      },
      "source": [
        "\n",
        "# Comparison operations\n",
        "(data_1 % 4) == 0"
      ],
      "execution_count": 107,
      "outputs": [
        {
          "output_type": "execute_result",
          "data": {
            "text/plain": [
              "array([[ True, False, False, False,  True, False, False],\n",
              "       [False,  True, False, False, False,  True, False],\n",
              "       [False, False,  True, False, False, False,  True]])"
            ]
          },
          "metadata": {
            "tags": []
          },
          "execution_count": 107
        }
      ]
    },
    {
      "cell_type": "code",
      "metadata": {
        "id": "au4ruCiLi-QW",
        "colab": {
          "base_uri": "https://localhost:8080/"
        },
        "outputId": "952fca7d-bc33-4550-cced-85c49748ffed"
      },
      "source": [
        "# Boolean combinators.\n",
        "((data % 2) == 0) & ((data % 3) == 0)"
      ],
      "execution_count": 108,
      "outputs": [
        {
          "output_type": "execute_result",
          "data": {
            "text/plain": [
              "array([[ True, False, False, False, False],\n",
              "       [False,  True, False, False, False],\n",
              "       [False, False,  True, False, False]])"
            ]
          },
          "metadata": {
            "tags": []
          },
          "execution_count": 108
        }
      ]
    },
    {
      "cell_type": "code",
      "metadata": {
        "colab": {
          "base_uri": "https://localhost:8080/"
        },
        "id": "K1zx9ig9sv4a",
        "outputId": "aae2ec02-28ea-49fe-e609-d050ceb17067"
      },
      "source": [
        "\n",
        "# Boolean combinators.\n",
        "((data_1 % 4) == 0) & ((data_1 % 5) == 0)"
      ],
      "execution_count": 109,
      "outputs": [
        {
          "output_type": "execute_result",
          "data": {
            "text/plain": [
              "array([[ True, False, False, False, False, False, False],\n",
              "       [False, False, False, False, False, False, False],\n",
              "       [False, False, False, False, False, False,  True]])"
            ]
          },
          "metadata": {
            "tags": []
          },
          "execution_count": 109
        }
      ]
    },
    {
      "cell_type": "code",
      "metadata": {
        "id": "zBZF0YmFi-QX",
        "colab": {
          "base_uri": "https://localhost:8080/"
        },
        "outputId": "45fc9e48-47a1-4f7b-8f4e-7de548e727af"
      },
      "source": [
        "# as of python 3.5, @ is matrix-multiply\n",
        "data @ data.T"
      ],
      "execution_count": 110,
      "outputs": [
        {
          "output_type": "execute_result",
          "data": {
            "text/plain": [
              "array([[ 30,  80, 130],\n",
              "       [ 80, 255, 430],\n",
              "       [130, 430, 730]])"
            ]
          },
          "metadata": {
            "tags": []
          },
          "execution_count": 110
        }
      ]
    },
    {
      "cell_type": "markdown",
      "metadata": {
        "id": "eEn9RObli-QX"
      },
      "source": [
        "# UFuncs Review\n",
        "\n",
        "- UFuncs provide efficient elementwise operations applied across one or more arrays.\n",
        "- Arithmetic Operators (`+`, `*`, `/`)\n",
        "- Comparisons (`==`, `>`, `!=`)\n",
        "- Boolean Operators (`&`, `|`, `^`)\n",
        "- Trigonometric Functions (`sin`, `cos`)\n",
        "- Transcendental Functions (`exp`, `log`)"
      ]
    },
    {
      "cell_type": "markdown",
      "metadata": {
        "id": "ltLhK3C-i-QY"
      },
      "source": [
        "# Selections"
      ]
    },
    {
      "cell_type": "markdown",
      "metadata": {
        "id": "iAHhlWAci-QY"
      },
      "source": [
        "We often want to perform an operation on just a subset of our data."
      ]
    },
    {
      "cell_type": "code",
      "metadata": {
        "id": "DuoX-AMOi-QZ",
        "colab": {
          "base_uri": "https://localhost:8080/"
        },
        "outputId": "d3b46b47-a354-4f93-a57f-5558da8ccc98"
      },
      "source": [
        "sines = np.sin(np.linspace(0, 3.14, 10))\n",
        "cosines = np.cos(np.linspace(0, 3.14, 10))\n",
        "sines"
      ],
      "execution_count": 111,
      "outputs": [
        {
          "output_type": "execute_result",
          "data": {
            "text/plain": [
              "array([0.        , 0.34185385, 0.64251645, 0.86575984, 0.98468459,\n",
              "       0.98496101, 0.8665558 , 0.64373604, 0.34335012, 0.00159265])"
            ]
          },
          "metadata": {
            "tags": []
          },
          "execution_count": 111
        }
      ]
    },
    {
      "cell_type": "code",
      "metadata": {
        "colab": {
          "base_uri": "https://localhost:8080/"
        },
        "id": "m5mz_c7ouPIi",
        "outputId": "d2d1e716-f276-4cf1-92a1-d583407266f7"
      },
      "source": [
        "import math\n",
        "sines_2 = np.cos(np.linspace(0, math.pi / 2, 10))\n",
        "cosines_2 = np.sin(np.linspace(0, math.pi / 2, 10))\n",
        "sines_2"
      ],
      "execution_count": 121,
      "outputs": [
        {
          "output_type": "execute_result",
          "data": {
            "text/plain": [
              "array([1.00000000e+00, 9.84807753e-01, 9.39692621e-01, 8.66025404e-01,\n",
              "       7.66044443e-01, 6.42787610e-01, 5.00000000e-01, 3.42020143e-01,\n",
              "       1.73648178e-01, 6.12323400e-17])"
            ]
          },
          "metadata": {
            "tags": []
          },
          "execution_count": 121
        }
      ]
    },
    {
      "cell_type": "code",
      "metadata": {
        "id": "gAbzMzCti-QZ",
        "colab": {
          "base_uri": "https://localhost:8080/"
        },
        "outputId": "a51ed54e-602b-4694-e54d-08cdeccd3e9b"
      },
      "source": [
        "# Slicing works with the same semantics as Python lists.\n",
        "sines[0]"
      ],
      "execution_count": 122,
      "outputs": [
        {
          "output_type": "execute_result",
          "data": {
            "text/plain": [
              "0.0"
            ]
          },
          "metadata": {
            "tags": []
          },
          "execution_count": 122
        }
      ]
    },
    {
      "cell_type": "code",
      "metadata": {
        "colab": {
          "base_uri": "https://localhost:8080/"
        },
        "id": "t0TQnRN3w6Fp",
        "outputId": "233e041b-cae8-4460-b765-03224c5747e3"
      },
      "source": [
        "\n",
        "# Slicing works with the same semantics as Python lists.\n",
        "sines_2[0]"
      ],
      "execution_count": 132,
      "outputs": [
        {
          "output_type": "execute_result",
          "data": {
            "text/plain": [
              "1.0"
            ]
          },
          "metadata": {
            "tags": []
          },
          "execution_count": 132
        }
      ]
    },
    {
      "cell_type": "code",
      "metadata": {
        "id": "38VX1A9ti-Qa",
        "colab": {
          "base_uri": "https://localhost:8080/"
        },
        "outputId": "0f99fd00-4300-4bf9-db8f-70516b8f7215"
      },
      "source": [
        "sines[:3]  # First three elements  "
      ],
      "execution_count": 124,
      "outputs": [
        {
          "output_type": "execute_result",
          "data": {
            "text/plain": [
              "array([0.        , 0.34185385, 0.64251645])"
            ]
          },
          "metadata": {
            "tags": []
          },
          "execution_count": 124
        }
      ]
    },
    {
      "cell_type": "code",
      "metadata": {
        "colab": {
          "base_uri": "https://localhost:8080/"
        },
        "id": "SDzTRvpZw9dm",
        "outputId": "605ab548-4410-4e91-d1af-df264311c9c7"
      },
      "source": [
        "\n",
        "sines_2[:3]  # First three elements  "
      ],
      "execution_count": 133,
      "outputs": [
        {
          "output_type": "execute_result",
          "data": {
            "text/plain": [
              "array([1.        , 0.98480775, 0.93969262])"
            ]
          },
          "metadata": {
            "tags": []
          },
          "execution_count": 133
        }
      ]
    },
    {
      "cell_type": "code",
      "metadata": {
        "id": "vZtKuhrmi-Qa",
        "colab": {
          "base_uri": "https://localhost:8080/"
        },
        "outputId": "94eab4fa-4fb1-4a25-c86c-870258068087"
      },
      "source": [
        "sines[5:]  # Elements from 5 on."
      ],
      "execution_count": 126,
      "outputs": [
        {
          "output_type": "execute_result",
          "data": {
            "text/plain": [
              "array([0.98496101, 0.8665558 , 0.64373604, 0.34335012, 0.00159265])"
            ]
          },
          "metadata": {
            "tags": []
          },
          "execution_count": 126
        }
      ]
    },
    {
      "cell_type": "code",
      "metadata": {
        "colab": {
          "base_uri": "https://localhost:8080/"
        },
        "id": "Q_RnK-HfxGIP",
        "outputId": "4a551a4f-1861-45be-a168-f94af1833cb5"
      },
      "source": [
        "\n",
        "sines_2[5:]  # Elements from 5 on."
      ],
      "execution_count": 134,
      "outputs": [
        {
          "output_type": "execute_result",
          "data": {
            "text/plain": [
              "array([6.42787610e-01, 5.00000000e-01, 3.42020143e-01, 1.73648178e-01,\n",
              "       6.12323400e-17])"
            ]
          },
          "metadata": {
            "tags": []
          },
          "execution_count": 134
        }
      ]
    },
    {
      "cell_type": "code",
      "metadata": {
        "id": "e8GMDycci-Qb",
        "colab": {
          "base_uri": "https://localhost:8080/"
        },
        "outputId": "d1dcc5b0-460e-4037-d248-974be0ab360a"
      },
      "source": [
        "sines[::2]  # Every other element."
      ],
      "execution_count": 128,
      "outputs": [
        {
          "output_type": "execute_result",
          "data": {
            "text/plain": [
              "array([0.        , 0.64251645, 0.98468459, 0.8665558 , 0.34335012])"
            ]
          },
          "metadata": {
            "tags": []
          },
          "execution_count": 128
        }
      ]
    },
    {
      "cell_type": "code",
      "metadata": {
        "colab": {
          "base_uri": "https://localhost:8080/"
        },
        "id": "4pfMbUqPxJ5_",
        "outputId": "47484544-267b-4f32-dea8-fac8245167e7"
      },
      "source": [
        "\n",
        "sines_2[::2]  # Every other element."
      ],
      "execution_count": 135,
      "outputs": [
        {
          "output_type": "execute_result",
          "data": {
            "text/plain": [
              "array([1.        , 0.93969262, 0.76604444, 0.5       , 0.17364818])"
            ]
          },
          "metadata": {
            "tags": []
          },
          "execution_count": 135
        }
      ]
    },
    {
      "cell_type": "code",
      "metadata": {
        "id": "RiMr_o2ji-Qb",
        "colab": {
          "base_uri": "https://localhost:8080/"
        },
        "outputId": "418edb2b-1c8f-45c1-9518-8a053d675879"
      },
      "source": [
        "# More interesting: we can index with boolean arrays to filter by a predicate.\n",
        "print(\"sines:\\n\", sines)\n",
        "print(\"sines > 0.5:\\n\", sines > 0.5)\n",
        "print(\"sines[sines > 0.5]:\\n\", sines[sines > 0.5])"
      ],
      "execution_count": 130,
      "outputs": [
        {
          "output_type": "stream",
          "text": [
            "sines:\n",
            " [0.         0.34185385 0.64251645 0.86575984 0.98468459 0.98496101\n",
            " 0.8665558  0.64373604 0.34335012 0.00159265]\n",
            "sines > 0.5:\n",
            " [False False  True  True  True  True  True  True False False]\n",
            "sines[sines > 0.5]:\n",
            " [0.64251645 0.86575984 0.98468459 0.98496101 0.8665558  0.64373604]\n"
          ],
          "name": "stdout"
        }
      ]
    },
    {
      "cell_type": "code",
      "metadata": {
        "colab": {
          "base_uri": "https://localhost:8080/"
        },
        "id": "q-wG22a6xTJe",
        "outputId": "b3d2f6b5-0e01-47f2-e132-321ef11e6f42"
      },
      "source": [
        "\n",
        "# More interesting: we can index with boolean arrays to filter by a predicate.\n",
        "print(\"sines_2:\\n\", sines_2)\n",
        "print(\"sines_2 > 0.3:\\n\", sines_2 > 0.3)\n",
        "print(\"sines_2[sines_2 > 0.3]:\\n\", sines_2[sines_2 > 0.3])"
      ],
      "execution_count": 136,
      "outputs": [
        {
          "output_type": "stream",
          "text": [
            "sines_2:\n",
            " [1.00000000e+00 9.84807753e-01 9.39692621e-01 8.66025404e-01\n",
            " 7.66044443e-01 6.42787610e-01 5.00000000e-01 3.42020143e-01\n",
            " 1.73648178e-01 6.12323400e-17]\n",
            "sines_2 > 0.3:\n",
            " [ True  True  True  True  True  True  True  True False False]\n",
            "sines_2[sines_2 > 0.3]:\n",
            " [1.         0.98480775 0.93969262 0.8660254  0.76604444 0.64278761\n",
            " 0.5        0.34202014]\n"
          ],
          "name": "stdout"
        }
      ]
    },
    {
      "cell_type": "code",
      "metadata": {
        "id": "JX238t2Zi-Qc",
        "colab": {
          "base_uri": "https://localhost:8080/"
        },
        "outputId": "cf84df10-75e2-452d-84a6-30232c0c9dba"
      },
      "source": [
        "# We index with lists/arrays of integers to select values at those indices.\n",
        "print(sines)\n",
        "sines[[0, 4, 7]]"
      ],
      "execution_count": 137,
      "outputs": [
        {
          "output_type": "stream",
          "text": [
            "[0.         0.34185385 0.64251645 0.86575984 0.98468459 0.98496101\n",
            " 0.8665558  0.64373604 0.34335012 0.00159265]\n"
          ],
          "name": "stdout"
        },
        {
          "output_type": "execute_result",
          "data": {
            "text/plain": [
              "array([0.        , 0.98468459, 0.64373604])"
            ]
          },
          "metadata": {
            "tags": []
          },
          "execution_count": 137
        }
      ]
    },
    {
      "cell_type": "code",
      "metadata": {
        "colab": {
          "base_uri": "https://localhost:8080/"
        },
        "id": "frVUOznExjQy",
        "outputId": "bf67fbf1-06a7-49e8-dcef-d9cd67be1f99"
      },
      "source": [
        "# My Example\n",
        "# We index with lists/arrays of integers to select values at those indices.\n",
        "print(sines_2)\n",
        "sines_2[[0, 4, 7]]"
      ],
      "execution_count": 138,
      "outputs": [
        {
          "output_type": "stream",
          "text": [
            "[1.00000000e+00 9.84807753e-01 9.39692621e-01 8.66025404e-01\n",
            " 7.66044443e-01 6.42787610e-01 5.00000000e-01 3.42020143e-01\n",
            " 1.73648178e-01 6.12323400e-17]\n"
          ],
          "name": "stdout"
        },
        {
          "output_type": "execute_result",
          "data": {
            "text/plain": [
              "array([1.        , 0.76604444, 0.34202014])"
            ]
          },
          "metadata": {
            "tags": []
          },
          "execution_count": 138
        }
      ]
    },
    {
      "cell_type": "code",
      "metadata": {
        "collapsed": true,
        "id": "_aK9_aLUi-Qc"
      },
      "source": [
        "# Index arrays are often used for sorting one or more arrays.\n",
        "unsorted_data = np.array([1, 3, 2, 12, -1, 5, 2])"
      ],
      "execution_count": 141,
      "outputs": []
    },
    {
      "cell_type": "code",
      "metadata": {
        "id": "EjsoQW4KxuPh"
      },
      "source": [
        "\n",
        "# Index arrays are often used for sorting one or more arrays.\n",
        "unsorted_data_1 = np.array([10, 30, 20, 120, -10, 50, 20])"
      ],
      "execution_count": 139,
      "outputs": []
    },
    {
      "cell_type": "code",
      "metadata": {
        "id": "pQaRDvtpi-Qd",
        "colab": {
          "base_uri": "https://localhost:8080/"
        },
        "outputId": "9400313a-3dbf-403e-ab72-25af77d6add7"
      },
      "source": [
        "sort_indices = np.argsort(unsorted_data)\n",
        "sort_indices"
      ],
      "execution_count": 142,
      "outputs": [
        {
          "output_type": "execute_result",
          "data": {
            "text/plain": [
              "array([4, 0, 2, 6, 1, 5, 3])"
            ]
          },
          "metadata": {
            "tags": []
          },
          "execution_count": 142
        }
      ]
    },
    {
      "cell_type": "code",
      "metadata": {
        "colab": {
          "base_uri": "https://localhost:8080/"
        },
        "id": "yQwbCySdx14u",
        "outputId": "0cfcc1ac-4862-4f7c-8034-c3e65563e48c"
      },
      "source": [
        "\n",
        "sort_indices_1 = np.argsort(unsorted_data_1)\n",
        "sort_indices_1"
      ],
      "execution_count": 143,
      "outputs": [
        {
          "output_type": "execute_result",
          "data": {
            "text/plain": [
              "array([4, 0, 2, 6, 1, 5, 3])"
            ]
          },
          "metadata": {
            "tags": []
          },
          "execution_count": 143
        }
      ]
    },
    {
      "cell_type": "code",
      "metadata": {
        "id": "ixFczikdi-Qe",
        "colab": {
          "base_uri": "https://localhost:8080/"
        },
        "outputId": "7f07c713-2436-44ab-d440-246438c14933"
      },
      "source": [
        "unsorted_data[sort_indices]"
      ],
      "execution_count": 144,
      "outputs": [
        {
          "output_type": "execute_result",
          "data": {
            "text/plain": [
              "array([-1,  1,  2,  2,  3,  5, 12])"
            ]
          },
          "metadata": {
            "tags": []
          },
          "execution_count": 144
        }
      ]
    },
    {
      "cell_type": "code",
      "metadata": {
        "colab": {
          "base_uri": "https://localhost:8080/"
        },
        "id": "erc-H5VdyS8x",
        "outputId": "c72609aa-b7ac-4a3e-8963-a9135ef527e4"
      },
      "source": [
        "\n",
        "unsorted_data[sort_indices_1]"
      ],
      "execution_count": 146,
      "outputs": [
        {
          "output_type": "execute_result",
          "data": {
            "text/plain": [
              "array([-1,  1,  2,  2,  3,  5, 12])"
            ]
          },
          "metadata": {
            "tags": []
          },
          "execution_count": 146
        }
      ]
    },
    {
      "cell_type": "code",
      "metadata": {
        "collapsed": true,
        "id": "CSGBocONi-Qf"
      },
      "source": [
        "market_caps = np.array([12, 6, 10, 5, 6])  # Presumably in dollars?\n",
        "assets = np.array(['A', 'B', 'C', 'D', 'E'])"
      ],
      "execution_count": 147,
      "outputs": []
    },
    {
      "cell_type": "code",
      "metadata": {
        "id": "x6rkL7JpydQf"
      },
      "source": [
        "\n",
        "market_caps_1 = np.array([120, 60, 100, 50, 60])  # Presumably in dollars?\n",
        "assets_1 = np.array(['V', 'W', 'Y', 'X', 'Z'])"
      ],
      "execution_count": 148,
      "outputs": []
    },
    {
      "cell_type": "code",
      "metadata": {
        "id": "JIAGq-W7i-Qf",
        "colab": {
          "base_uri": "https://localhost:8080/"
        },
        "outputId": "6fd95e9c-4382-40d3-c4a0-c142d3f59be6"
      },
      "source": [
        "# Sort assets by market cap by using the permutation that would sort market caps on ``assets``.\n",
        "sort_by_mcap = np.argsort(market_caps)\n",
        "assets[sort_by_mcap]"
      ],
      "execution_count": 149,
      "outputs": [
        {
          "output_type": "execute_result",
          "data": {
            "text/plain": [
              "array(['D', 'B', 'E', 'C', 'A'], dtype='<U1')"
            ]
          },
          "metadata": {
            "tags": []
          },
          "execution_count": 149
        }
      ]
    },
    {
      "cell_type": "code",
      "metadata": {
        "colab": {
          "base_uri": "https://localhost:8080/"
        },
        "id": "ZhYNsaf6ypnc",
        "outputId": "ef9e28d3-e7ee-4a5f-a9e7-660ff7cf3a5a"
      },
      "source": [
        "\n",
        "# Sort assets by market cap by using the permutation that would sort market caps on ``assets``.\n",
        "sort_by_mcap_1 = np.argsort(market_caps_1)\n",
        "assets[sort_by_mcap_1]"
      ],
      "execution_count": 150,
      "outputs": [
        {
          "output_type": "execute_result",
          "data": {
            "text/plain": [
              "array(['D', 'B', 'E', 'C', 'A'], dtype='<U1')"
            ]
          },
          "metadata": {
            "tags": []
          },
          "execution_count": 150
        }
      ]
    },
    {
      "cell_type": "code",
      "metadata": {
        "scrolled": true,
        "id": "o3GOCkXZi-Qf",
        "colab": {
          "base_uri": "https://localhost:8080/"
        },
        "outputId": "75aa47a8-537c-4b74-85dc-70dea8f5ed2d"
      },
      "source": [
        "# Indexers are also useful for aligning data.\n",
        "print(\"Dates:\\n\", repr(event_dates))\n",
        "print(\"Values:\\n\", repr(event_values))\n",
        "print(\"Calendar:\\n\", repr(calendar))"
      ],
      "execution_count": 151,
      "outputs": [
        {
          "output_type": "stream",
          "text": [
            "Dates:\n",
            " array(['2017-01-06', '2017-01-07', '2017-01-08'], dtype='datetime64[D]')\n",
            "Values:\n",
            " array([10, 15, 20])\n",
            "Calendar:\n",
            " array(['2017-01-03', '2017-01-04', '2017-01-05', '2017-01-06',\n",
            "       '2017-01-09', '2017-01-10', '2017-01-11', '2017-01-12',\n",
            "       '2017-01-13', '2017-01-17', '2017-01-18', '2017-01-19',\n",
            "       '2017-01-20', '2017-01-23', '2017-01-24', '2017-01-25',\n",
            "       '2017-01-26', '2017-01-27', '2017-01-30', '2017-01-31',\n",
            "       '2017-02-01'], dtype='datetime64[D]')\n"
          ],
          "name": "stdout"
        }
      ]
    },
    {
      "cell_type": "code",
      "metadata": {
        "id": "jucln_csi-Qf",
        "colab": {
          "base_uri": "https://localhost:8080/"
        },
        "outputId": "11022151-b2bb-4ccb-85f6-4976b061d32b"
      },
      "source": [
        "print(\"Raw Dates:\", event_dates)\n",
        "print(\"Indices:\", calendar.searchsorted(event_dates))\n",
        "print(\"Forward-Filled Dates:\", calendar[calendar.searchsorted(event_dates)])"
      ],
      "execution_count": 152,
      "outputs": [
        {
          "output_type": "stream",
          "text": [
            "Raw Dates: ['2017-01-06' '2017-01-07' '2017-01-08']\n",
            "Indices: [3 4 4]\n",
            "Forward-Filled Dates: ['2017-01-06' '2017-01-09' '2017-01-09']\n"
          ],
          "name": "stdout"
        }
      ]
    },
    {
      "cell_type": "markdown",
      "metadata": {
        "id": "tlQ14dVci-Qg"
      },
      "source": [
        "On multi-dimensional arrays, we can slice along each axis independently."
      ]
    },
    {
      "cell_type": "code",
      "metadata": {
        "id": "I0bz6HfFi-Qh",
        "colab": {
          "base_uri": "https://localhost:8080/"
        },
        "outputId": "82647489-1bdc-4a72-cdb9-610bc130ac30"
      },
      "source": [
        "data = np.arange(25).reshape(5, 5)\n",
        "data"
      ],
      "execution_count": 153,
      "outputs": [
        {
          "output_type": "execute_result",
          "data": {
            "text/plain": [
              "array([[ 0,  1,  2,  3,  4],\n",
              "       [ 5,  6,  7,  8,  9],\n",
              "       [10, 11, 12, 13, 14],\n",
              "       [15, 16, 17, 18, 19],\n",
              "       [20, 21, 22, 23, 24]])"
            ]
          },
          "metadata": {
            "tags": []
          },
          "execution_count": 153
        }
      ]
    },
    {
      "cell_type": "code",
      "metadata": {
        "colab": {
          "base_uri": "https://localhost:8080/"
        },
        "id": "NHuuTSxry_3J",
        "outputId": "1f6c96cf-8ae6-42a7-f07a-6be5862a6a91"
      },
      "source": [
        "\n",
        "data_1 = np.arange(36).reshape(6, 6)\n",
        "data_1"
      ],
      "execution_count": 154,
      "outputs": [
        {
          "output_type": "execute_result",
          "data": {
            "text/plain": [
              "array([[ 0,  1,  2,  3,  4,  5],\n",
              "       [ 6,  7,  8,  9, 10, 11],\n",
              "       [12, 13, 14, 15, 16, 17],\n",
              "       [18, 19, 20, 21, 22, 23],\n",
              "       [24, 25, 26, 27, 28, 29],\n",
              "       [30, 31, 32, 33, 34, 35]])"
            ]
          },
          "metadata": {
            "tags": []
          },
          "execution_count": 154
        }
      ]
    },
    {
      "cell_type": "code",
      "metadata": {
        "id": "W9qpg0nFi-Qh",
        "colab": {
          "base_uri": "https://localhost:8080/"
        },
        "outputId": "f524e68c-8407-41e4-dabe-8f3c8682423d"
      },
      "source": [
        "data[:2, :2]  # First two rows and first two columns."
      ],
      "execution_count": 155,
      "outputs": [
        {
          "output_type": "execute_result",
          "data": {
            "text/plain": [
              "array([[0, 1],\n",
              "       [5, 6]])"
            ]
          },
          "metadata": {
            "tags": []
          },
          "execution_count": 155
        }
      ]
    },
    {
      "cell_type": "code",
      "metadata": {
        "colab": {
          "base_uri": "https://localhost:8080/"
        },
        "id": "RWu4OBZ0zIEQ",
        "outputId": "7fab76fc-6f4c-4f8f-b269-f1fab0868138"
      },
      "source": [
        "\n",
        "data_1[:3, :3]  # First three rows and first three columns."
      ],
      "execution_count": 156,
      "outputs": [
        {
          "output_type": "execute_result",
          "data": {
            "text/plain": [
              "array([[ 0,  1,  2],\n",
              "       [ 6,  7,  8],\n",
              "       [12, 13, 14]])"
            ]
          },
          "metadata": {
            "tags": []
          },
          "execution_count": 156
        }
      ]
    },
    {
      "cell_type": "code",
      "metadata": {
        "id": "t_JP4h8pi-Qh",
        "colab": {
          "base_uri": "https://localhost:8080/"
        },
        "outputId": "b4426be5-2dd1-459b-ebef-d1cefc09ca01"
      },
      "source": [
        "data[:2, [0, -1]]  # First two rows, first and last columns."
      ],
      "execution_count": 157,
      "outputs": [
        {
          "output_type": "execute_result",
          "data": {
            "text/plain": [
              "array([[0, 4],\n",
              "       [5, 9]])"
            ]
          },
          "metadata": {
            "tags": []
          },
          "execution_count": 157
        }
      ]
    },
    {
      "cell_type": "code",
      "metadata": {
        "colab": {
          "base_uri": "https://localhost:8080/"
        },
        "id": "sqFjEpfNzPvx",
        "outputId": "b1d51974-ff89-4e01-d81c-ba245ccf570a"
      },
      "source": [
        "\n",
        "data_1[:3, [0, -1]]  # First tre rows, first and last columns."
      ],
      "execution_count": 158,
      "outputs": [
        {
          "output_type": "execute_result",
          "data": {
            "text/plain": [
              "array([[ 0,  5],\n",
              "       [ 6, 11],\n",
              "       [12, 17]])"
            ]
          },
          "metadata": {
            "tags": []
          },
          "execution_count": 158
        }
      ]
    },
    {
      "cell_type": "code",
      "metadata": {
        "id": "M-RPySU4i-Qi",
        "colab": {
          "base_uri": "https://localhost:8080/"
        },
        "outputId": "840763c0-b671-40c1-90e8-816f740d1f1e"
      },
      "source": [
        "data[(data[:, 0] % 2) == 0]  # Rows where the first column is divisible by two."
      ],
      "execution_count": 159,
      "outputs": [
        {
          "output_type": "execute_result",
          "data": {
            "text/plain": [
              "array([[ 0,  1,  2,  3,  4],\n",
              "       [10, 11, 12, 13, 14],\n",
              "       [20, 21, 22, 23, 24]])"
            ]
          },
          "metadata": {
            "tags": []
          },
          "execution_count": 159
        }
      ]
    },
    {
      "cell_type": "code",
      "metadata": {
        "colab": {
          "base_uri": "https://localhost:8080/"
        },
        "id": "UXO1XfW2zU3h",
        "outputId": "5fe27427-c81a-414d-e1bf-5572e9061c71"
      },
      "source": [
        "\n",
        "data_1[(data_1[:, 0] % 3) == 0]  # Rows where the first column is divisible by three."
      ],
      "execution_count": 160,
      "outputs": [
        {
          "output_type": "execute_result",
          "data": {
            "text/plain": [
              "array([[ 0,  1,  2,  3,  4,  5],\n",
              "       [ 6,  7,  8,  9, 10, 11],\n",
              "       [12, 13, 14, 15, 16, 17],\n",
              "       [18, 19, 20, 21, 22, 23],\n",
              "       [24, 25, 26, 27, 28, 29],\n",
              "       [30, 31, 32, 33, 34, 35]])"
            ]
          },
          "metadata": {
            "tags": []
          },
          "execution_count": 160
        }
      ]
    },
    {
      "cell_type": "markdown",
      "metadata": {
        "id": "ezULFoCNi-Qj"
      },
      "source": [
        "# Selections Review\n",
        "\n",
        "- Indexing with an integer removes a dimension.\n",
        "- Slicing operations work on Numpy arrays the same way they do on lists.\n",
        "- Indexing with a boolean array filters to True locations.\n",
        "- Indexing with an integer array selects indices along an axis.\n",
        "- Multidimensional arrays can apply selections independently along different axes."
      ]
    },
    {
      "cell_type": "markdown",
      "metadata": {
        "id": "_OLj5iNmi-Qj"
      },
      "source": [
        "## Reductions\n",
        "\n",
        "Functions that reduce an array to a scalar."
      ]
    },
    {
      "cell_type": "markdown",
      "metadata": {
        "id": "dlzpnP_2i-Qj"
      },
      "source": [
        "$Var(X) = \\frac{1}{N}\\sqrt{\\sum_{i=1}^N (x_i - \\bar{x})^2}$"
      ]
    },
    {
      "cell_type": "code",
      "metadata": {
        "collapsed": true,
        "id": "Bwh5ZTc0i-Qk"
      },
      "source": [
        "def variance(x):\n",
        "    return ((x - x.mean()) ** 2).sum() / len(x)"
      ],
      "execution_count": 162,
      "outputs": []
    },
    {
      "cell_type": "code",
      "metadata": {
        "id": "GkXGttqfi-Qk",
        "colab": {
          "base_uri": "https://localhost:8080/"
        },
        "outputId": "937a4d82-74f3-4a08-92a2-c0b299e9c723"
      },
      "source": [
        "variance(np.random.standard_normal(1000))"
      ],
      "execution_count": 163,
      "outputs": [
        {
          "output_type": "execute_result",
          "data": {
            "text/plain": [
              "0.9924711675096062"
            ]
          },
          "metadata": {
            "tags": []
          },
          "execution_count": 163
        }
      ]
    },
    {
      "cell_type": "code",
      "metadata": {
        "colab": {
          "base_uri": "https://localhost:8080/"
        },
        "id": "BDMS2UiskeS3",
        "outputId": "a1e95d8e-445c-49cc-dfef-64ce4e0d9166"
      },
      "source": [
        "\n",
        "variance(np.random.standard_normal(10))"
      ],
      "execution_count": 164,
      "outputs": [
        {
          "output_type": "execute_result",
          "data": {
            "text/plain": [
              "0.6536643098870651"
            ]
          },
          "metadata": {
            "tags": []
          },
          "execution_count": 164
        }
      ]
    },
    {
      "cell_type": "markdown",
      "metadata": {
        "id": "3uVL9eX5i-Qm"
      },
      "source": [
        "- `sum()` and `mean()` are both **reductions**."
      ]
    },
    {
      "cell_type": "markdown",
      "metadata": {
        "id": "TK5FEIdki-Qn"
      },
      "source": [
        "- In the simplest case, we use these to reduce an entire array into a single value..."
      ]
    },
    {
      "cell_type": "code",
      "metadata": {
        "id": "BDCmQ6Khi-Qn",
        "colab": {
          "base_uri": "https://localhost:8080/"
        },
        "outputId": "192289c9-be60-449e-fc20-c822501a6b95"
      },
      "source": [
        "data = np.arange(30)\n",
        "data.mean()"
      ],
      "execution_count": 165,
      "outputs": [
        {
          "output_type": "execute_result",
          "data": {
            "text/plain": [
              "14.5"
            ]
          },
          "metadata": {
            "tags": []
          },
          "execution_count": 165
        }
      ]
    },
    {
      "cell_type": "code",
      "metadata": {
        "colab": {
          "base_uri": "https://localhost:8080/"
        },
        "id": "6nlvL94iluub",
        "outputId": "f039f746-fdb7-4e10-914c-38399070eeb3"
      },
      "source": [
        "\n",
        "data_1 = np.arange(60)\n",
        "data_1.mean()"
      ],
      "execution_count": 166,
      "outputs": [
        {
          "output_type": "execute_result",
          "data": {
            "text/plain": [
              "29.5"
            ]
          },
          "metadata": {
            "tags": []
          },
          "execution_count": 166
        }
      ]
    },
    {
      "cell_type": "markdown",
      "metadata": {
        "id": "Vut1qHQdi-Qo"
      },
      "source": [
        "- ...but we can do more interesting things with multi-dimensional arrays."
      ]
    },
    {
      "cell_type": "code",
      "metadata": {
        "id": "DTIS-XWoi-Qo",
        "colab": {
          "base_uri": "https://localhost:8080/"
        },
        "outputId": "3d47ab80-e5d8-4727-ed1c-70e509327995"
      },
      "source": [
        "data = np.arange(30).reshape(3, 10)\n",
        "data"
      ],
      "execution_count": 167,
      "outputs": [
        {
          "output_type": "execute_result",
          "data": {
            "text/plain": [
              "array([[ 0,  1,  2,  3,  4,  5,  6,  7,  8,  9],\n",
              "       [10, 11, 12, 13, 14, 15, 16, 17, 18, 19],\n",
              "       [20, 21, 22, 23, 24, 25, 26, 27, 28, 29]])"
            ]
          },
          "metadata": {
            "tags": []
          },
          "execution_count": 167
        }
      ]
    },
    {
      "cell_type": "code",
      "metadata": {
        "colab": {
          "base_uri": "https://localhost:8080/"
        },
        "id": "gS2gNdwXl_jw",
        "outputId": "d6960709-dff7-4b33-fb36-d0e756fbb711"
      },
      "source": [
        "\n",
        "data_1 = np.arange(60).reshape(3, 20)\n",
        "data_1"
      ],
      "execution_count": 168,
      "outputs": [
        {
          "output_type": "execute_result",
          "data": {
            "text/plain": [
              "array([[ 0,  1,  2,  3,  4,  5,  6,  7,  8,  9, 10, 11, 12, 13, 14, 15,\n",
              "        16, 17, 18, 19],\n",
              "       [20, 21, 22, 23, 24, 25, 26, 27, 28, 29, 30, 31, 32, 33, 34, 35,\n",
              "        36, 37, 38, 39],\n",
              "       [40, 41, 42, 43, 44, 45, 46, 47, 48, 49, 50, 51, 52, 53, 54, 55,\n",
              "        56, 57, 58, 59]])"
            ]
          },
          "metadata": {
            "tags": []
          },
          "execution_count": 168
        }
      ]
    },
    {
      "cell_type": "code",
      "metadata": {
        "id": "l_yA5ahgi-Qp",
        "colab": {
          "base_uri": "https://localhost:8080/"
        },
        "outputId": "9e1cb868-4036-4a0e-a04e-7a3e4d7bb0d2"
      },
      "source": [
        "data.mean()"
      ],
      "execution_count": 169,
      "outputs": [
        {
          "output_type": "execute_result",
          "data": {
            "text/plain": [
              "14.5"
            ]
          },
          "metadata": {
            "tags": []
          },
          "execution_count": 169
        }
      ]
    },
    {
      "cell_type": "code",
      "metadata": {
        "colab": {
          "base_uri": "https://localhost:8080/"
        },
        "id": "yJGL8J6kmQMF",
        "outputId": "9aee8546-1ca4-4f49-b391-44d904806056"
      },
      "source": [
        "\n",
        "data_1.mean()"
      ],
      "execution_count": 170,
      "outputs": [
        {
          "output_type": "execute_result",
          "data": {
            "text/plain": [
              "29.5"
            ]
          },
          "metadata": {
            "tags": []
          },
          "execution_count": 170
        }
      ]
    },
    {
      "cell_type": "code",
      "metadata": {
        "id": "SXRoai74i-Qp",
        "colab": {
          "base_uri": "https://localhost:8080/"
        },
        "outputId": "5e567184-0dd1-4e25-a44a-cb5a776f1ec0"
      },
      "source": [
        "data.mean(axis=0)"
      ],
      "execution_count": 171,
      "outputs": [
        {
          "output_type": "execute_result",
          "data": {
            "text/plain": [
              "array([10., 11., 12., 13., 14., 15., 16., 17., 18., 19.])"
            ]
          },
          "metadata": {
            "tags": []
          },
          "execution_count": 171
        }
      ]
    },
    {
      "cell_type": "code",
      "metadata": {
        "colab": {
          "base_uri": "https://localhost:8080/"
        },
        "id": "Yd-f4c5cmvXz",
        "outputId": "d8b92e10-e235-459c-f452-03cca8215cb8"
      },
      "source": [
        "\n",
        "data_1.mean(axis=1)"
      ],
      "execution_count": 172,
      "outputs": [
        {
          "output_type": "execute_result",
          "data": {
            "text/plain": [
              "array([ 9.5, 29.5, 49.5])"
            ]
          },
          "metadata": {
            "tags": []
          },
          "execution_count": 172
        }
      ]
    },
    {
      "cell_type": "code",
      "metadata": {
        "id": "ijqZaMFdi-Qq",
        "colab": {
          "base_uri": "https://localhost:8080/"
        },
        "outputId": "fb518322-9749-49fc-c15d-29b8b3727bdc"
      },
      "source": [
        "data.mean(axis=1)"
      ],
      "execution_count": 173,
      "outputs": [
        {
          "output_type": "execute_result",
          "data": {
            "text/plain": [
              "array([ 4.5, 14.5, 24.5])"
            ]
          },
          "metadata": {
            "tags": []
          },
          "execution_count": 173
        }
      ]
    },
    {
      "cell_type": "markdown",
      "metadata": {
        "id": "GQ6BFgbki-Qq"
      },
      "source": [
        "## Reductions Review\n",
        "\n",
        "- Reductions allow us to perform efficient aggregations over arrays.\n",
        "- We can do aggregations over a single axis to collapse a single dimension.\n",
        "- Many built-in reductions (`mean`, `sum`, `min`, `max`, `median`, ...)."
      ]
    },
    {
      "cell_type": "markdown",
      "metadata": {
        "id": "fU-Hw6Fzi-Qq"
      },
      "source": [
        "# Broadcasting"
      ]
    },
    {
      "cell_type": "code",
      "metadata": {
        "id": "R6YTWTjqi-Qr",
        "colab": {
          "base_uri": "https://localhost:8080/"
        },
        "outputId": "13801220-a7a5-466a-c218-6d1300aa278d"
      },
      "source": [
        "row = np.array([1, 2, 3, 4])\n",
        "column = np.array([[1], [2], [3]])\n",
        "print(\"Row:\\n\", row, sep='')\n",
        "print(\"Column:\\n\", column, sep='')"
      ],
      "execution_count": 174,
      "outputs": [
        {
          "output_type": "stream",
          "text": [
            "Row:\n",
            "[1 2 3 4]\n",
            "Column:\n",
            "[[1]\n",
            " [2]\n",
            " [3]]\n"
          ],
          "name": "stdout"
        }
      ]
    },
    {
      "cell_type": "code",
      "metadata": {
        "colab": {
          "base_uri": "https://localhost:8080/"
        },
        "id": "3IGRJmZ7n2WV",
        "outputId": "5f4d895c-89c6-4d4e-8d49-906ac393531e"
      },
      "source": [
        "\n",
        "row_1 = np.array([10, 20, 30, 40, 50])\n",
        "column_1 = np.array([[10], [20], [30], [40], [50]])\n",
        "print(\"Row:\\n\", row_1, sep='')\n",
        "print(\"Column:\\n\", column_1, sep='')"
      ],
      "execution_count": 175,
      "outputs": [
        {
          "output_type": "stream",
          "text": [
            "Row:\n",
            "[10 20 30 40 50]\n",
            "Column:\n",
            "[[10]\n",
            " [20]\n",
            " [30]\n",
            " [40]\n",
            " [50]]\n"
          ],
          "name": "stdout"
        }
      ]
    },
    {
      "cell_type": "code",
      "metadata": {
        "id": "-hovpBDZi-Qr",
        "colab": {
          "base_uri": "https://localhost:8080/"
        },
        "outputId": "15f6b059-5374-4810-9fd6-d03de8ce4530"
      },
      "source": [
        "row + column"
      ],
      "execution_count": 176,
      "outputs": [
        {
          "output_type": "execute_result",
          "data": {
            "text/plain": [
              "array([[2, 3, 4, 5],\n",
              "       [3, 4, 5, 6],\n",
              "       [4, 5, 6, 7]])"
            ]
          },
          "metadata": {
            "tags": []
          },
          "execution_count": 176
        }
      ]
    },
    {
      "cell_type": "code",
      "metadata": {
        "colab": {
          "base_uri": "https://localhost:8080/"
        },
        "id": "lEPa0LukoTEl",
        "outputId": "93a1d851-0e26-4868-b9b1-5c2010500df5"
      },
      "source": [
        "row_1 + column_1"
      ],
      "execution_count": 177,
      "outputs": [
        {
          "output_type": "execute_result",
          "data": {
            "text/plain": [
              "array([[ 20,  30,  40,  50,  60],\n",
              "       [ 30,  40,  50,  60,  70],\n",
              "       [ 40,  50,  60,  70,  80],\n",
              "       [ 50,  60,  70,  80,  90],\n",
              "       [ 60,  70,  80,  90, 100]])"
            ]
          },
          "metadata": {
            "tags": []
          },
          "execution_count": 177
        }
      ]
    },
    {
      "cell_type": "markdown",
      "metadata": {
        "id": "U1p9MLhsi-Qr"
      },
      "source": [
        "<center><img src=\"images/broadcasting.png\" alt=\"Drawing\" style=\"width: 60%;\"/></center>\n",
        "\n",
        "<h5>Source: http://www.scipy-lectures.org/_images/numpy_broadcasting.png</h5>"
      ]
    },
    {
      "cell_type": "code",
      "metadata": {
        "id": "jrhGJ2A0i-Qs",
        "colab": {
          "base_uri": "https://localhost:8080/"
        },
        "outputId": "459e99a3-e519-43da-c0d8-82695add64be"
      },
      "source": [
        "# Broadcasting is particularly useful in conjunction with reductions.\n",
        "print(\"Data:\\n\", data, sep='')\n",
        "print(\"Mean:\\n\", data.mean(axis=0), sep='')\n",
        "print(\"Data - Mean:\\n\", data - data.mean(axis=0), sep='')"
      ],
      "execution_count": 178,
      "outputs": [
        {
          "output_type": "stream",
          "text": [
            "Data:\n",
            "[[ 0  1  2  3  4  5  6  7  8  9]\n",
            " [10 11 12 13 14 15 16 17 18 19]\n",
            " [20 21 22 23 24 25 26 27 28 29]]\n",
            "Mean:\n",
            "[10. 11. 12. 13. 14. 15. 16. 17. 18. 19.]\n",
            "Data - Mean:\n",
            "[[-10. -10. -10. -10. -10. -10. -10. -10. -10. -10.]\n",
            " [  0.   0.   0.   0.   0.   0.   0.   0.   0.   0.]\n",
            " [ 10.  10.  10.  10.  10.  10.  10.  10.  10.  10.]]\n"
          ],
          "name": "stdout"
        }
      ]
    },
    {
      "cell_type": "code",
      "metadata": {
        "colab": {
          "base_uri": "https://localhost:8080/"
        },
        "id": "NeeMKE6VpX-B",
        "outputId": "cb13031a-0596-4df0-e0df-3905ee4e3d68"
      },
      "source": [
        "\n",
        "# Broadcasting is particularly useful in conjunction with reductions.\n",
        "print(\"Data:\\n\", data_1, sep='* ')\n",
        "print(\"Mean:\\n\", data_1.mean(axis=0), sep='* ')\n",
        "print(\"Data - Mean:\\n\", data_1 - data_1.mean(axis=0), sep='* ')"
      ],
      "execution_count": 179,
      "outputs": [
        {
          "output_type": "stream",
          "text": [
            "Data:\n",
            "* [[ 0  1  2  3  4  5  6  7  8  9 10 11 12 13 14 15 16 17 18 19]\n",
            " [20 21 22 23 24 25 26 27 28 29 30 31 32 33 34 35 36 37 38 39]\n",
            " [40 41 42 43 44 45 46 47 48 49 50 51 52 53 54 55 56 57 58 59]]\n",
            "Mean:\n",
            "* [20. 21. 22. 23. 24. 25. 26. 27. 28. 29. 30. 31. 32. 33. 34. 35. 36. 37.\n",
            " 38. 39.]\n",
            "Data - Mean:\n",
            "* [[-20. -20. -20. -20. -20. -20. -20. -20. -20. -20. -20. -20. -20. -20.\n",
            "  -20. -20. -20. -20. -20. -20.]\n",
            " [  0.   0.   0.   0.   0.   0.   0.   0.   0.   0.   0.   0.   0.   0.\n",
            "    0.   0.   0.   0.   0.   0.]\n",
            " [ 20.  20.  20.  20.  20.  20.  20.  20.  20.  20.  20.  20.  20.  20.\n",
            "   20.  20.  20.  20.  20.  20.]]\n"
          ],
          "name": "stdout"
        }
      ]
    },
    {
      "cell_type": "markdown",
      "metadata": {
        "id": "ukdW4Cw9i-Qt"
      },
      "source": [
        "# Broadcasting Review\n",
        "\n",
        "- Numpy operations can work on arrays of different dimensions as long as the arrays' shapes are still \"compatible\".\n",
        "- Broadcasting works by \"tiling\" the smaller array along the missing dimension.\n",
        "- The result of a broadcasted operation is always at least as large in each dimension as the largest array in that dimension."
      ]
    },
    {
      "cell_type": "markdown",
      "metadata": {
        "id": "CcWnn-zFi-Qt"
      },
      "source": [
        "# Numpy Review"
      ]
    },
    {
      "cell_type": "markdown",
      "metadata": {
        "id": "xsE4TTZ7i-Qt"
      },
      "source": [
        "- Numerical algorithms are slow in pure Python because the overhead dynamic dispatch dominates our runtime."
      ]
    },
    {
      "cell_type": "markdown",
      "metadata": {
        "id": "y0BgrH9Ci-Qt"
      },
      "source": [
        "- Numpy solves this problem by:\n",
        "  1. Imposing additional restrictions on the contents of arrays.\n",
        "  2. Moving the inner loops of our algorithms into compiled C code."
      ]
    },
    {
      "cell_type": "markdown",
      "metadata": {
        "id": "5TeWmbAli-Qt"
      },
      "source": [
        "- Using Numpy effectively often requires reworking an algorithms to use vectorized operations instead of for-loops, but the resulting operations are usually simpler, clearer, and faster than the pure Python equivalent."
      ]
    },
    {
      "cell_type": "markdown",
      "metadata": {
        "id": "SLxUnqLCi-Qu"
      },
      "source": [
        "<center><img src=\"images/unicorn.jpg\" alt=\"Drawing\" style=\"width: 75%;\"/></center>"
      ]
    },
    {
      "cell_type": "markdown",
      "metadata": {
        "id": "n7_oH3Pci-Qw"
      },
      "source": [
        "Numpy is great for many things, but..."
      ]
    },
    {
      "cell_type": "markdown",
      "metadata": {
        "id": "3zG81vToi-Qw"
      },
      "source": [
        "- Sometimes our data is equipped with a natural set of **labels**:\n",
        "  - Dates/Times\n",
        "  - Stock Tickers\n",
        "  - Field Names (e.g. Open/High/Low/Close)"
      ]
    },
    {
      "cell_type": "markdown",
      "metadata": {
        "id": "s8txJqNEi-Qx"
      },
      "source": [
        "- Sometimes we have **more than one type of data** that we want to keep grouped together.\n",
        "  - Tables with a mix of real-valued and categorical data."
      ]
    },
    {
      "cell_type": "markdown",
      "metadata": {
        "id": "gSmsX0aNi-Qx"
      },
      "source": [
        "- Sometimes we have **missing** data, which we need to ignore, fill, or otherwise work around."
      ]
    },
    {
      "cell_type": "markdown",
      "metadata": {
        "id": "HeLeiVUMi-Qx"
      },
      "source": [
        "<center><img src=\"images/panda-wrangling.gif\" alt=\"Drawing\" style=\"width: 75%;\"/></center>"
      ]
    },
    {
      "cell_type": "markdown",
      "metadata": {
        "id": "MZVwPbthi-Qy"
      },
      "source": [
        "<center><img src=\"images/pandas_logo.png\" alt=\"Drawing\" style=\"width: 75%;\"/></center>\n"
      ]
    },
    {
      "cell_type": "markdown",
      "metadata": {
        "id": "bvoJwefRi-Qy"
      },
      "source": [
        "Pandas extends Numpy with more complex data structures:\n",
        "\n",
        "- `Series`: 1-dimensional, homogenously-typed, labelled array.\n",
        "- `DataFrame`: 2-dimensional, semi-homogenous, labelled table."
      ]
    },
    {
      "cell_type": "markdown",
      "metadata": {
        "id": "yazE9io7i-Qz"
      },
      "source": [
        "Pandas also provides many utilities for: \n",
        "- Input/Output\n",
        "- Data Cleaning\n",
        "- Rolling Algorithms\n",
        "- Plotting"
      ]
    },
    {
      "cell_type": "markdown",
      "metadata": {
        "id": "2NEK73Uci-Q0"
      },
      "source": [
        "# Selection in Pandas"
      ]
    },
    {
      "cell_type": "code",
      "metadata": {
        "id": "YUixr0G7i-Q0",
        "colab": {
          "base_uri": "https://localhost:8080/"
        },
        "outputId": "7d0e028e-07c6-4d3c-e87e-ecc5e6aee213"
      },
      "source": [
        "s = pd.Series(index=['a', 'b', 'c', 'd', 'e'], data=[1, 2, 3, 4, 5])\n",
        "s"
      ],
      "execution_count": 180,
      "outputs": [
        {
          "output_type": "execute_result",
          "data": {
            "text/plain": [
              "a    1\n",
              "b    2\n",
              "c    3\n",
              "d    4\n",
              "e    5\n",
              "dtype: int64"
            ]
          },
          "metadata": {
            "tags": []
          },
          "execution_count": 180
        }
      ]
    },
    {
      "cell_type": "code",
      "metadata": {
        "colab": {
          "base_uri": "https://localhost:8080/"
        },
        "id": "nIOVMo1OsUBf",
        "outputId": "c355fd63-747e-4f18-e985-78490a77852a"
      },
      "source": [
        "s_1 = pd.Series(index=['z', 'x', 'y', 'w', 'v'], data=[10, 20, 30, 40, 50])\n",
        "s_1"
      ],
      "execution_count": 181,
      "outputs": [
        {
          "output_type": "execute_result",
          "data": {
            "text/plain": [
              "z    10\n",
              "x    20\n",
              "y    30\n",
              "w    40\n",
              "v    50\n",
              "dtype: int64"
            ]
          },
          "metadata": {
            "tags": []
          },
          "execution_count": 181
        }
      ]
    },
    {
      "cell_type": "code",
      "metadata": {
        "id": "e2VFmnKsi-Q1",
        "colab": {
          "base_uri": "https://localhost:8080/"
        },
        "outputId": "aefe7abd-c75b-45e3-8f0e-7448d2e41f32"
      },
      "source": [
        "# There are two pieces to a Series: the index and the values.\n",
        "print(\"The index is:\", s.index)\n",
        "print(\"The values are:\", s.values)"
      ],
      "execution_count": 182,
      "outputs": [
        {
          "output_type": "stream",
          "text": [
            "The index is: Index(['a', 'b', 'c', 'd', 'e'], dtype='object')\n",
            "The values are: [1 2 3 4 5]\n"
          ],
          "name": "stdout"
        }
      ]
    },
    {
      "cell_type": "code",
      "metadata": {
        "colab": {
          "base_uri": "https://localhost:8080/"
        },
        "id": "DHNzTO6gs237",
        "outputId": "16d0047c-6984-4673-85bb-fc3b613e8470"
      },
      "source": [
        "\n",
        "# There are two pieces to a Series: the index and the values.\n",
        "print(\"The index is:\", s_1.index)\n",
        "print(\"The values are:\", s_1.values)"
      ],
      "execution_count": 183,
      "outputs": [
        {
          "output_type": "stream",
          "text": [
            "The index is: Index(['z', 'x', 'y', 'w', 'v'], dtype='object')\n",
            "The values are: [10 20 30 40 50]\n"
          ],
          "name": "stdout"
        }
      ]
    },
    {
      "cell_type": "code",
      "metadata": {
        "id": "br9_Jq3Yi-Q3",
        "colab": {
          "base_uri": "https://localhost:8080/"
        },
        "outputId": "91d8224f-b6dd-4d7a-9255-680aefc79fbf"
      },
      "source": [
        "# We can look up values out of a Series by position...\n",
        "s.iloc[0]"
      ],
      "execution_count": 184,
      "outputs": [
        {
          "output_type": "execute_result",
          "data": {
            "text/plain": [
              "1"
            ]
          },
          "metadata": {
            "tags": []
          },
          "execution_count": 184
        }
      ]
    },
    {
      "cell_type": "code",
      "metadata": {
        "colab": {
          "base_uri": "https://localhost:8080/"
        },
        "id": "SUcS9qsItBNe",
        "outputId": "a59ef55d-a158-46a9-a070-60c9de909c85"
      },
      "source": [
        "# My Example\n",
        "# We can look up values out of a Series by position...\n",
        "s_1.iloc[0]"
      ],
      "execution_count": 185,
      "outputs": [
        {
          "output_type": "execute_result",
          "data": {
            "text/plain": [
              "10"
            ]
          },
          "metadata": {
            "tags": []
          },
          "execution_count": 185
        }
      ]
    },
    {
      "cell_type": "code",
      "metadata": {
        "id": "gVAcHArNi-Q4",
        "colab": {
          "base_uri": "https://localhost:8080/"
        },
        "outputId": "70dc4012-e49d-49b0-aa8f-8b2cf349468c"
      },
      "source": [
        "# ... or by label.\n",
        "s.loc['a']"
      ],
      "execution_count": 186,
      "outputs": [
        {
          "output_type": "execute_result",
          "data": {
            "text/plain": [
              "1"
            ]
          },
          "metadata": {
            "tags": []
          },
          "execution_count": 186
        }
      ]
    },
    {
      "cell_type": "code",
      "metadata": {
        "colab": {
          "base_uri": "https://localhost:8080/"
        },
        "id": "D3WWr2WktFFj",
        "outputId": "73041885-24c0-41a6-a47b-d5f4ff7a8ada"
      },
      "source": [
        "\n",
        "# ... or by label.\n",
        "s_1.loc['z']"
      ],
      "execution_count": 187,
      "outputs": [
        {
          "output_type": "execute_result",
          "data": {
            "text/plain": [
              "10"
            ]
          },
          "metadata": {
            "tags": []
          },
          "execution_count": 187
        }
      ]
    },
    {
      "cell_type": "code",
      "metadata": {
        "id": "9JwM3U5Bi-Q4",
        "colab": {
          "base_uri": "https://localhost:8080/"
        },
        "outputId": "e61fa65a-3d88-4ee7-bfc9-5f1b816deebc"
      },
      "source": [
        "# Slicing works as expected...\n",
        "s.iloc[:2]"
      ],
      "execution_count": 188,
      "outputs": [
        {
          "output_type": "execute_result",
          "data": {
            "text/plain": [
              "a    1\n",
              "b    2\n",
              "dtype: int64"
            ]
          },
          "metadata": {
            "tags": []
          },
          "execution_count": 188
        }
      ]
    },
    {
      "cell_type": "code",
      "metadata": {
        "colab": {
          "base_uri": "https://localhost:8080/"
        },
        "id": "_5JeIBs-tLfr",
        "outputId": "a73afdb0-6a5f-4834-8408-cec4ac13c895"
      },
      "source": [
        "\n",
        "# Slicing works as expected...\n",
        "s_1.iloc[2:]"
      ],
      "execution_count": 189,
      "outputs": [
        {
          "output_type": "execute_result",
          "data": {
            "text/plain": [
              "y    30\n",
              "w    40\n",
              "v    50\n",
              "dtype: int64"
            ]
          },
          "metadata": {
            "tags": []
          },
          "execution_count": 189
        }
      ]
    },
    {
      "cell_type": "code",
      "metadata": {
        "id": "w_FkDPaii-Q4",
        "colab": {
          "base_uri": "https://localhost:8080/"
        },
        "outputId": "576a5094-ca43-45e8-a3f5-18bdeac03e32"
      },
      "source": [
        "# ...but it works with labels too!\n",
        "s.loc[:'c']"
      ],
      "execution_count": 190,
      "outputs": [
        {
          "output_type": "execute_result",
          "data": {
            "text/plain": [
              "a    1\n",
              "b    2\n",
              "c    3\n",
              "dtype: int64"
            ]
          },
          "metadata": {
            "tags": []
          },
          "execution_count": 190
        }
      ]
    },
    {
      "cell_type": "code",
      "metadata": {
        "colab": {
          "base_uri": "https://localhost:8080/"
        },
        "id": "CyB3Ap_ttUN0",
        "outputId": "6096ae16-7f12-4642-f136-dd0a9b80a0ef"
      },
      "source": [
        "\n",
        "# ...but it works with labels too!\n",
        "s.loc['x':]"
      ],
      "execution_count": 191,
      "outputs": [
        {
          "output_type": "execute_result",
          "data": {
            "text/plain": [
              "Series([], dtype: int64)"
            ]
          },
          "metadata": {
            "tags": []
          },
          "execution_count": 191
        }
      ]
    },
    {
      "cell_type": "code",
      "metadata": {
        "id": "EzJfI3EDi-Q6",
        "colab": {
          "base_uri": "https://localhost:8080/"
        },
        "outputId": "602a5d1f-f1d6-413c-ac8b-73ff1e09d4e8"
      },
      "source": [
        "# Fancy indexing works the same as in numpy.\n",
        "s.iloc[[0, -1]]"
      ],
      "execution_count": 192,
      "outputs": [
        {
          "output_type": "execute_result",
          "data": {
            "text/plain": [
              "a    1\n",
              "e    5\n",
              "dtype: int64"
            ]
          },
          "metadata": {
            "tags": []
          },
          "execution_count": 192
        }
      ]
    },
    {
      "cell_type": "code",
      "metadata": {
        "colab": {
          "base_uri": "https://localhost:8080/"
        },
        "id": "3fffFdCAtkSN",
        "outputId": "fc62ec5f-a23b-4274-c997-08effddaadbe"
      },
      "source": [
        "\n",
        "# Fancy indexing works the same as in numpy.\n",
        "s_1.iloc[[0, -1]]"
      ],
      "execution_count": 193,
      "outputs": [
        {
          "output_type": "execute_result",
          "data": {
            "text/plain": [
              "z    10\n",
              "v    50\n",
              "dtype: int64"
            ]
          },
          "metadata": {
            "tags": []
          },
          "execution_count": 193
        }
      ]
    },
    {
      "cell_type": "code",
      "metadata": {
        "colab": {
          "base_uri": "https://localhost:8080/"
        },
        "id": "eP4tDSontuXM",
        "outputId": "43e9c805-4863-4985-b062-f8b0a82b64e5"
      },
      "source": [
        "\n",
        "# As does boolean masking.\n",
        "s.loc[s > 2]"
      ],
      "execution_count": 194,
      "outputs": [
        {
          "output_type": "execute_result",
          "data": {
            "text/plain": [
              "c    3\n",
              "d    4\n",
              "e    5\n",
              "dtype: int64"
            ]
          },
          "metadata": {
            "tags": []
          },
          "execution_count": 194
        }
      ]
    },
    {
      "cell_type": "code",
      "metadata": {
        "id": "Qpxint1Zi-Q6",
        "colab": {
          "base_uri": "https://localhost:8080/"
        },
        "outputId": "d5b863ae-b5c5-408a-8bc3-3ec2864af899"
      },
      "source": [
        "\n",
        "# As does boolean masking.\n",
        "s_1.loc[s_1 > 2]"
      ],
      "execution_count": 195,
      "outputs": [
        {
          "output_type": "execute_result",
          "data": {
            "text/plain": [
              "z    10\n",
              "x    20\n",
              "y    30\n",
              "w    40\n",
              "v    50\n",
              "dtype: int64"
            ]
          },
          "metadata": {
            "tags": []
          },
          "execution_count": 195
        }
      ]
    },
    {
      "cell_type": "code",
      "metadata": {
        "id": "Ngh2-6g8i-Q7",
        "colab": {
          "base_uri": "https://localhost:8080/"
        },
        "outputId": "b3538fe6-a229-4067-be53-d9ecd9b3b696"
      },
      "source": [
        "# Element-wise operations are aligned by index.\n",
        "other_s = pd.Series({'a': 10.0, 'c': 20.0, 'd': 30.0, 'z': 40.0})\n",
        "other_s"
      ],
      "execution_count": 196,
      "outputs": [
        {
          "output_type": "execute_result",
          "data": {
            "text/plain": [
              "a    10.0\n",
              "c    20.0\n",
              "d    30.0\n",
              "z    40.0\n",
              "dtype: float64"
            ]
          },
          "metadata": {
            "tags": []
          },
          "execution_count": 196
        }
      ]
    },
    {
      "cell_type": "code",
      "metadata": {
        "colab": {
          "base_uri": "https://localhost:8080/"
        },
        "id": "UqdWoztIuAdQ",
        "outputId": "3632ba8e-84b2-4000-c685-0ec1304dfc20"
      },
      "source": [
        "# Element-wise operations are aligned by index.\n",
        "other_s_1 = pd.Series({'z': 1.0, 'x': 2.0, 'y': 3.0, 'w': 4.0})\n",
        "other_s_1"
      ],
      "execution_count": 197,
      "outputs": [
        {
          "output_type": "execute_result",
          "data": {
            "text/plain": [
              "z    1.0\n",
              "x    2.0\n",
              "y    3.0\n",
              "w    4.0\n",
              "dtype: float64"
            ]
          },
          "metadata": {
            "tags": []
          },
          "execution_count": 197
        }
      ]
    },
    {
      "cell_type": "code",
      "metadata": {
        "id": "0wAsubX8i-Q8",
        "colab": {
          "base_uri": "https://localhost:8080/"
        },
        "outputId": "87d64d5b-88f8-42de-e38b-2fbfa68c8070"
      },
      "source": [
        "s + other_s"
      ],
      "execution_count": 198,
      "outputs": [
        {
          "output_type": "execute_result",
          "data": {
            "text/plain": [
              "a    11.0\n",
              "b     NaN\n",
              "c    23.0\n",
              "d    34.0\n",
              "e     NaN\n",
              "z     NaN\n",
              "dtype: float64"
            ]
          },
          "metadata": {
            "tags": []
          },
          "execution_count": 198
        }
      ]
    },
    {
      "cell_type": "code",
      "metadata": {
        "colab": {
          "base_uri": "https://localhost:8080/"
        },
        "id": "bZ_qj9PVuJGM",
        "outputId": "a470577d-7243-4b97-ca7b-bb55561e70a4"
      },
      "source": [
        "s_1 + other_s_1"
      ],
      "execution_count": 199,
      "outputs": [
        {
          "output_type": "execute_result",
          "data": {
            "text/plain": [
              "v     NaN\n",
              "w    44.0\n",
              "x    22.0\n",
              "y    33.0\n",
              "z    11.0\n",
              "dtype: float64"
            ]
          },
          "metadata": {
            "tags": []
          },
          "execution_count": 199
        }
      ]
    },
    {
      "cell_type": "code",
      "metadata": {
        "id": "7i28tiW-i-Q9",
        "colab": {
          "base_uri": "https://localhost:8080/"
        },
        "outputId": "68b8868c-40e3-472b-e547-7a37c5d3ddc5"
      },
      "source": [
        "# We can fill in missing values with fillna().\n",
        "(s + other_s).fillna(0.0)"
      ],
      "execution_count": 200,
      "outputs": [
        {
          "output_type": "execute_result",
          "data": {
            "text/plain": [
              "a    11.0\n",
              "b     0.0\n",
              "c    23.0\n",
              "d    34.0\n",
              "e     0.0\n",
              "z     0.0\n",
              "dtype: float64"
            ]
          },
          "metadata": {
            "tags": []
          },
          "execution_count": 200
        }
      ]
    },
    {
      "cell_type": "code",
      "metadata": {
        "colab": {
          "base_uri": "https://localhost:8080/"
        },
        "id": "EtgveO8NuL07",
        "outputId": "423bb353-3eff-4e1f-eaf3-607fd2576949"
      },
      "source": [
        "\n",
        "# We can fill in missing values with fillna().\n",
        "(s_1 + other_s_1).fillna(0.0)"
      ],
      "execution_count": 201,
      "outputs": [
        {
          "output_type": "execute_result",
          "data": {
            "text/plain": [
              "v     0.0\n",
              "w    44.0\n",
              "x    22.0\n",
              "y    33.0\n",
              "z    11.0\n",
              "dtype: float64"
            ]
          },
          "metadata": {
            "tags": []
          },
          "execution_count": 201
        }
      ]
    },
    {
      "cell_type": "code",
      "metadata": {
        "id": "9MkYohmEi-Q9",
        "colab": {
          "base_uri": "https://localhost:8080/",
          "height": 235
        },
        "outputId": "249a7128-8e3d-4720-d701-340910221bc2"
      },
      "source": [
        "# Most real datasets are read in from an external file format.\n",
        "aapl = pd.read_csv('GM.csv', parse_dates=['Date'], index_col='Date')\n",
        "aapl.head()"
      ],
      "execution_count": 203,
      "outputs": [
        {
          "output_type": "execute_result",
          "data": {
            "text/html": [
              "<div>\n",
              "<style scoped>\n",
              "    .dataframe tbody tr th:only-of-type {\n",
              "        vertical-align: middle;\n",
              "    }\n",
              "\n",
              "    .dataframe tbody tr th {\n",
              "        vertical-align: top;\n",
              "    }\n",
              "\n",
              "    .dataframe thead th {\n",
              "        text-align: right;\n",
              "    }\n",
              "</style>\n",
              "<table border=\"1\" class=\"dataframe\">\n",
              "  <thead>\n",
              "    <tr style=\"text-align: right;\">\n",
              "      <th></th>\n",
              "      <th>Open</th>\n",
              "      <th>High</th>\n",
              "      <th>Low</th>\n",
              "      <th>Close</th>\n",
              "      <th>Adj Close</th>\n",
              "      <th>Volume</th>\n",
              "    </tr>\n",
              "    <tr>\n",
              "      <th>Date</th>\n",
              "      <th></th>\n",
              "      <th></th>\n",
              "      <th></th>\n",
              "      <th></th>\n",
              "      <th></th>\n",
              "      <th></th>\n",
              "    </tr>\n",
              "  </thead>\n",
              "  <tbody>\n",
              "    <tr>\n",
              "      <th>2016-03-17</th>\n",
              "      <td>31.730000</td>\n",
              "      <td>32.099998</td>\n",
              "      <td>31.639999</td>\n",
              "      <td>31.959999</td>\n",
              "      <td>26.984421</td>\n",
              "      <td>11295900</td>\n",
              "    </tr>\n",
              "    <tr>\n",
              "      <th>2016-03-18</th>\n",
              "      <td>32.080002</td>\n",
              "      <td>32.380001</td>\n",
              "      <td>31.910000</td>\n",
              "      <td>31.959999</td>\n",
              "      <td>26.984421</td>\n",
              "      <td>15431600</td>\n",
              "    </tr>\n",
              "    <tr>\n",
              "      <th>2016-03-21</th>\n",
              "      <td>32.110001</td>\n",
              "      <td>32.189999</td>\n",
              "      <td>31.750000</td>\n",
              "      <td>32.080002</td>\n",
              "      <td>27.085741</td>\n",
              "      <td>7397300</td>\n",
              "    </tr>\n",
              "    <tr>\n",
              "      <th>2016-03-22</th>\n",
              "      <td>32.080002</td>\n",
              "      <td>32.209999</td>\n",
              "      <td>31.760000</td>\n",
              "      <td>31.900000</td>\n",
              "      <td>26.933765</td>\n",
              "      <td>8195600</td>\n",
              "    </tr>\n",
              "    <tr>\n",
              "      <th>2016-03-23</th>\n",
              "      <td>31.920000</td>\n",
              "      <td>31.930000</td>\n",
              "      <td>31.170000</td>\n",
              "      <td>31.309999</td>\n",
              "      <td>26.435619</td>\n",
              "      <td>9107100</td>\n",
              "    </tr>\n",
              "  </tbody>\n",
              "</table>\n",
              "</div>"
            ],
            "text/plain": [
              "                 Open       High        Low      Close  Adj Close    Volume\n",
              "Date                                                                       \n",
              "2016-03-17  31.730000  32.099998  31.639999  31.959999  26.984421  11295900\n",
              "2016-03-18  32.080002  32.380001  31.910000  31.959999  26.984421  15431600\n",
              "2016-03-21  32.110001  32.189999  31.750000  32.080002  27.085741   7397300\n",
              "2016-03-22  32.080002  32.209999  31.760000  31.900000  26.933765   8195600\n",
              "2016-03-23  31.920000  31.930000  31.170000  31.309999  26.435619   9107100"
            ]
          },
          "metadata": {
            "tags": []
          },
          "execution_count": 203
        }
      ]
    },
    {
      "cell_type": "code",
      "metadata": {
        "id": "sP5YhkA0ueIE",
        "colab": {
          "base_uri": "https://localhost:8080/",
          "height": 235
        },
        "outputId": "dedc25b3-7aeb-4533-9fe5-5e8c69f87419"
      },
      "source": [
        "# My Example\n",
        "# Most real datasets are read in from an external file format.\n",
        "aapl = pd.read_csv('GM.csv', parse_dates=['Date'], index_col='Date')\n",
        "aapl.head()"
      ],
      "execution_count": 204,
      "outputs": [
        {
          "output_type": "execute_result",
          "data": {
            "text/html": [
              "<div>\n",
              "<style scoped>\n",
              "    .dataframe tbody tr th:only-of-type {\n",
              "        vertical-align: middle;\n",
              "    }\n",
              "\n",
              "    .dataframe tbody tr th {\n",
              "        vertical-align: top;\n",
              "    }\n",
              "\n",
              "    .dataframe thead th {\n",
              "        text-align: right;\n",
              "    }\n",
              "</style>\n",
              "<table border=\"1\" class=\"dataframe\">\n",
              "  <thead>\n",
              "    <tr style=\"text-align: right;\">\n",
              "      <th></th>\n",
              "      <th>Open</th>\n",
              "      <th>High</th>\n",
              "      <th>Low</th>\n",
              "      <th>Close</th>\n",
              "      <th>Adj Close</th>\n",
              "      <th>Volume</th>\n",
              "    </tr>\n",
              "    <tr>\n",
              "      <th>Date</th>\n",
              "      <th></th>\n",
              "      <th></th>\n",
              "      <th></th>\n",
              "      <th></th>\n",
              "      <th></th>\n",
              "      <th></th>\n",
              "    </tr>\n",
              "  </thead>\n",
              "  <tbody>\n",
              "    <tr>\n",
              "      <th>2016-03-17</th>\n",
              "      <td>31.730000</td>\n",
              "      <td>32.099998</td>\n",
              "      <td>31.639999</td>\n",
              "      <td>31.959999</td>\n",
              "      <td>26.984421</td>\n",
              "      <td>11295900</td>\n",
              "    </tr>\n",
              "    <tr>\n",
              "      <th>2016-03-18</th>\n",
              "      <td>32.080002</td>\n",
              "      <td>32.380001</td>\n",
              "      <td>31.910000</td>\n",
              "      <td>31.959999</td>\n",
              "      <td>26.984421</td>\n",
              "      <td>15431600</td>\n",
              "    </tr>\n",
              "    <tr>\n",
              "      <th>2016-03-21</th>\n",
              "      <td>32.110001</td>\n",
              "      <td>32.189999</td>\n",
              "      <td>31.750000</td>\n",
              "      <td>32.080002</td>\n",
              "      <td>27.085741</td>\n",
              "      <td>7397300</td>\n",
              "    </tr>\n",
              "    <tr>\n",
              "      <th>2016-03-22</th>\n",
              "      <td>32.080002</td>\n",
              "      <td>32.209999</td>\n",
              "      <td>31.760000</td>\n",
              "      <td>31.900000</td>\n",
              "      <td>26.933765</td>\n",
              "      <td>8195600</td>\n",
              "    </tr>\n",
              "    <tr>\n",
              "      <th>2016-03-23</th>\n",
              "      <td>31.920000</td>\n",
              "      <td>31.930000</td>\n",
              "      <td>31.170000</td>\n",
              "      <td>31.309999</td>\n",
              "      <td>26.435619</td>\n",
              "      <td>9107100</td>\n",
              "    </tr>\n",
              "  </tbody>\n",
              "</table>\n",
              "</div>"
            ],
            "text/plain": [
              "                 Open       High        Low      Close  Adj Close    Volume\n",
              "Date                                                                       \n",
              "2016-03-17  31.730000  32.099998  31.639999  31.959999  26.984421  11295900\n",
              "2016-03-18  32.080002  32.380001  31.910000  31.959999  26.984421  15431600\n",
              "2016-03-21  32.110001  32.189999  31.750000  32.080002  27.085741   7397300\n",
              "2016-03-22  32.080002  32.209999  31.760000  31.900000  26.933765   8195600\n",
              "2016-03-23  31.920000  31.930000  31.170000  31.309999  26.435619   9107100"
            ]
          },
          "metadata": {
            "tags": []
          },
          "execution_count": 204
        }
      ]
    },
    {
      "cell_type": "code",
      "metadata": {
        "id": "437VyMkki-Q-",
        "colab": {
          "base_uri": "https://localhost:8080/",
          "height": 142
        },
        "outputId": "c9adc22f-1ed2-48f7-88a7-f973b8255b85"
      },
      "source": [
        "# Slicing generalizes to two dimensions as you'd expect:\n",
        "aapl.iloc[:2, :2]"
      ],
      "execution_count": 215,
      "outputs": [
        {
          "output_type": "execute_result",
          "data": {
            "text/html": [
              "<div>\n",
              "<style scoped>\n",
              "    .dataframe tbody tr th:only-of-type {\n",
              "        vertical-align: middle;\n",
              "    }\n",
              "\n",
              "    .dataframe tbody tr th {\n",
              "        vertical-align: top;\n",
              "    }\n",
              "\n",
              "    .dataframe thead th {\n",
              "        text-align: right;\n",
              "    }\n",
              "</style>\n",
              "<table border=\"1\" class=\"dataframe\">\n",
              "  <thead>\n",
              "    <tr style=\"text-align: right;\">\n",
              "      <th></th>\n",
              "      <th>Open</th>\n",
              "      <th>High</th>\n",
              "    </tr>\n",
              "    <tr>\n",
              "      <th>Date</th>\n",
              "      <th></th>\n",
              "      <th></th>\n",
              "    </tr>\n",
              "  </thead>\n",
              "  <tbody>\n",
              "    <tr>\n",
              "      <th>2016-03-17</th>\n",
              "      <td>31.730000</td>\n",
              "      <td>32.099998</td>\n",
              "    </tr>\n",
              "    <tr>\n",
              "      <th>2016-03-18</th>\n",
              "      <td>32.080002</td>\n",
              "      <td>32.380001</td>\n",
              "    </tr>\n",
              "  </tbody>\n",
              "</table>\n",
              "</div>"
            ],
            "text/plain": [
              "                 Open       High\n",
              "Date                            \n",
              "2016-03-17  31.730000  32.099998\n",
              "2016-03-18  32.080002  32.380001"
            ]
          },
          "metadata": {
            "tags": []
          },
          "execution_count": 215
        }
      ]
    },
    {
      "cell_type": "code",
      "metadata": {
        "colab": {
          "base_uri": "https://localhost:8080/",
          "height": 204
        },
        "id": "gy-nxSq-NZZp",
        "outputId": "a4b71678-4053-4fdd-823f-e559ac356517"
      },
      "source": [
        "# My Example\n",
        "# Slicing generalizes to two dimensions as you'd expect:\n",
        "aapl.iloc[:4, :4]"
      ],
      "execution_count": 214,
      "outputs": [
        {
          "output_type": "execute_result",
          "data": {
            "text/html": [
              "<div>\n",
              "<style scoped>\n",
              "    .dataframe tbody tr th:only-of-type {\n",
              "        vertical-align: middle;\n",
              "    }\n",
              "\n",
              "    .dataframe tbody tr th {\n",
              "        vertical-align: top;\n",
              "    }\n",
              "\n",
              "    .dataframe thead th {\n",
              "        text-align: right;\n",
              "    }\n",
              "</style>\n",
              "<table border=\"1\" class=\"dataframe\">\n",
              "  <thead>\n",
              "    <tr style=\"text-align: right;\">\n",
              "      <th></th>\n",
              "      <th>Open</th>\n",
              "      <th>High</th>\n",
              "      <th>Low</th>\n",
              "      <th>Close</th>\n",
              "    </tr>\n",
              "    <tr>\n",
              "      <th>Date</th>\n",
              "      <th></th>\n",
              "      <th></th>\n",
              "      <th></th>\n",
              "      <th></th>\n",
              "    </tr>\n",
              "  </thead>\n",
              "  <tbody>\n",
              "    <tr>\n",
              "      <th>2016-03-17</th>\n",
              "      <td>31.730000</td>\n",
              "      <td>32.099998</td>\n",
              "      <td>31.639999</td>\n",
              "      <td>31.959999</td>\n",
              "    </tr>\n",
              "    <tr>\n",
              "      <th>2016-03-18</th>\n",
              "      <td>32.080002</td>\n",
              "      <td>32.380001</td>\n",
              "      <td>31.910000</td>\n",
              "      <td>31.959999</td>\n",
              "    </tr>\n",
              "    <tr>\n",
              "      <th>2016-03-21</th>\n",
              "      <td>32.110001</td>\n",
              "      <td>32.189999</td>\n",
              "      <td>31.750000</td>\n",
              "      <td>32.080002</td>\n",
              "    </tr>\n",
              "    <tr>\n",
              "      <th>2016-03-22</th>\n",
              "      <td>32.080002</td>\n",
              "      <td>32.209999</td>\n",
              "      <td>31.760000</td>\n",
              "      <td>31.900000</td>\n",
              "    </tr>\n",
              "  </tbody>\n",
              "</table>\n",
              "</div>"
            ],
            "text/plain": [
              "                 Open       High        Low      Close\n",
              "Date                                                  \n",
              "2016-03-17  31.730000  32.099998  31.639999  31.959999\n",
              "2016-03-18  32.080002  32.380001  31.910000  31.959999\n",
              "2016-03-21  32.110001  32.189999  31.750000  32.080002\n",
              "2016-03-22  32.080002  32.209999  31.760000  31.900000"
            ]
          },
          "metadata": {
            "tags": []
          },
          "execution_count": 214
        }
      ]
    },
    {
      "cell_type": "code",
      "metadata": {
        "id": "Hn7-lVDji-Q-",
        "colab": {
          "base_uri": "https://localhost:8080/",
          "height": 80
        },
        "outputId": "05123632-ac23-4df2-ac30-49b253053b55"
      },
      "source": [
        "aapl.loc[pd.Timestamp('2010-02-01'):pd.Timestamp('2010-02-04'), ['Close', 'Volume']]"
      ],
      "execution_count": 209,
      "outputs": [
        {
          "output_type": "execute_result",
          "data": {
            "text/html": [
              "<div>\n",
              "<style scoped>\n",
              "    .dataframe tbody tr th:only-of-type {\n",
              "        vertical-align: middle;\n",
              "    }\n",
              "\n",
              "    .dataframe tbody tr th {\n",
              "        vertical-align: top;\n",
              "    }\n",
              "\n",
              "    .dataframe thead th {\n",
              "        text-align: right;\n",
              "    }\n",
              "</style>\n",
              "<table border=\"1\" class=\"dataframe\">\n",
              "  <thead>\n",
              "    <tr style=\"text-align: right;\">\n",
              "      <th></th>\n",
              "      <th>Close</th>\n",
              "      <th>Volume</th>\n",
              "    </tr>\n",
              "    <tr>\n",
              "      <th>Date</th>\n",
              "      <th></th>\n",
              "      <th></th>\n",
              "    </tr>\n",
              "  </thead>\n",
              "  <tbody>\n",
              "  </tbody>\n",
              "</table>\n",
              "</div>"
            ],
            "text/plain": [
              "Empty DataFrame\n",
              "Columns: [Close, Volume]\n",
              "Index: []"
            ]
          },
          "metadata": {
            "tags": []
          },
          "execution_count": 209
        }
      ]
    },
    {
      "cell_type": "code",
      "metadata": {
        "colab": {
          "base_uri": "https://localhost:8080/",
          "height": 206
        },
        "id": "GEkQmQozNfUz",
        "outputId": "e97a8069-7de9-4291-88d9-2e85480a87b8"
      },
      "source": [
        "# My Example\n",
        "aapl.loc[pd.Timestamp('2010-02-01'):pd.Timestamp('2010-02-04'), ['High', 'Low']]"
      ],
      "execution_count": null,
      "outputs": [
        {
          "output_type": "execute_result",
          "data": {
            "text/html": [
              "<div>\n",
              "<style scoped>\n",
              "    .dataframe tbody tr th:only-of-type {\n",
              "        vertical-align: middle;\n",
              "    }\n",
              "\n",
              "    .dataframe tbody tr th {\n",
              "        vertical-align: top;\n",
              "    }\n",
              "\n",
              "    .dataframe thead th {\n",
              "        text-align: right;\n",
              "    }\n",
              "</style>\n",
              "<table border=\"1\" class=\"dataframe\">\n",
              "  <thead>\n",
              "    <tr style=\"text-align: right;\">\n",
              "      <th></th>\n",
              "      <th>High</th>\n",
              "      <th>Low</th>\n",
              "    </tr>\n",
              "    <tr>\n",
              "      <th>Date</th>\n",
              "      <th></th>\n",
              "      <th></th>\n",
              "    </tr>\n",
              "  </thead>\n",
              "  <tbody>\n",
              "    <tr>\n",
              "      <th>2010-02-01</th>\n",
              "      <td>28.000000</td>\n",
              "      <td>27.328571</td>\n",
              "    </tr>\n",
              "    <tr>\n",
              "      <th>2010-02-02</th>\n",
              "      <td>28.045713</td>\n",
              "      <td>27.625713</td>\n",
              "    </tr>\n",
              "    <tr>\n",
              "      <th>2010-02-03</th>\n",
              "      <td>28.600000</td>\n",
              "      <td>27.774286</td>\n",
              "    </tr>\n",
              "    <tr>\n",
              "      <th>2010-02-04</th>\n",
              "      <td>28.338572</td>\n",
              "      <td>27.367144</td>\n",
              "    </tr>\n",
              "  </tbody>\n",
              "</table>\n",
              "</div>"
            ],
            "text/plain": [
              "                 High        Low\n",
              "Date                            \n",
              "2010-02-01  28.000000  27.328571\n",
              "2010-02-02  28.045713  27.625713\n",
              "2010-02-03  28.600000  27.774286\n",
              "2010-02-04  28.338572  27.367144"
            ]
          },
          "metadata": {
            "tags": []
          },
          "execution_count": 163
        }
      ]
    },
    {
      "cell_type": "markdown",
      "metadata": {
        "id": "dneaHhSXi-Q-"
      },
      "source": [
        "# Rolling Operations"
      ]
    },
    {
      "cell_type": "markdown",
      "metadata": {
        "id": "VRP15q75i-Q-"
      },
      "source": [
        "<center><img src=\"images/rolling.gif\" alt=\"Drawing\" style=\"width: 75%;\"/></center>"
      ]
    },
    {
      "cell_type": "code",
      "metadata": {
        "id": "FK-BCiXwi-Q_",
        "colab": {
          "base_uri": "https://localhost:8080/",
          "height": 417
        },
        "outputId": "b090ccfb-e64e-4f6f-c787-2394c281d00f"
      },
      "source": [
        "aapl.rolling(5)[['High', 'Low']].mean().plot();"
      ],
      "execution_count": 216,
      "outputs": [
        {
          "output_type": "display_data",
          "data": {
            "image/png": "[encoded data removed]",
            "text/plain": [
              "<Figure size 864x504 with 1 Axes>"
            ]
          },
          "metadata": {
            "tags": [],
            "needs_background": "light"
          }
        }
      ]
    },
    {
      "cell_type": "code",
      "metadata": {
        "colab": {
          "base_uri": "https://localhost:8080/",
          "height": 416
        },
        "id": "D-kNxlQ8NtNe",
        "outputId": "945d52da-2736-4093-b0a3-d201680f54ac"
      },
      "source": [
        "\n",
        "aapl.rolling(5)[['Close', 'Adj Close']].mean().plot();"
      ],
      "execution_count": 217,
      "outputs": [
        {
          "output_type": "display_data",
          "data": {
            "image/png": "[encoded data removed]",
            "text/plain": [
              "<Figure size 864x504 with 1 Axes>"
            ]
          },
          "metadata": {
            "tags": [],
            "needs_background": "light"
          }
        }
      ]
    },
    {
      "cell_type": "code",
      "metadata": {
        "id": "3gA5s1YZi-RA",
        "colab": {
          "base_uri": "https://localhost:8080/",
          "height": 442
        },
        "outputId": "0705c651-8808-4208-88f9-7483be5f6d51"
      },
      "source": [
        "# Drop `Volume`, since it's way bigger than everything else.\n",
        "aapl.drop('Volume', axis=1).resample('2W').max().plot();"
      ],
      "execution_count": 218,
      "outputs": [
        {
          "output_type": "display_data",
          "data": {
            "image/png": "[encoded data removed]",
            "text/plain": [
              "<Figure size 864x504 with 1 Axes>"
            ]
          },
          "metadata": {
            "tags": [],
            "needs_background": "light"
          }
        }
      ]
    },
    {
      "cell_type": "code",
      "metadata": {
        "id": "aVcO-51mi-RA",
        "colab": {
          "base_uri": "https://localhost:8080/",
          "height": 416
        },
        "outputId": "f8e249da-243c-4317-cfeb-cbfe01d59a6c"
      },
      "source": [
        "# 30-day rolling exponentially-weighted stddev of returns.\n",
        "aapl['Close'].pct_change().ewm(span=30).std().plot();"
      ],
      "execution_count": 219,
      "outputs": [
        {
          "output_type": "display_data",
          "data": {
            "image/png": "[encoded data removed]",
            "text/plain": [
              "<Figure size 864x504 with 1 Axes>"
            ]
          },
          "metadata": {
            "tags": [],
            "needs_background": "light"
          }
        }
      ]
    },
    {
      "cell_type": "code",
      "metadata": {
        "colab": {
          "base_uri": "https://localhost:8080/",
          "height": 416
        },
        "id": "I04KkuRnOa3r",
        "outputId": "4f73bb62-7349-4859-eb13-8fb6771ed30c"
      },
      "source": [
        "# 30-day rolling exponentially-weighted stddev of returns.\n",
        "aapl['High'].pct_change().ewm(span=30).std().plot();"
      ],
      "execution_count": 220,
      "outputs": [
        {
          "output_type": "display_data",
          "data": {
            "image/png": "[encoded data removed]",
            "text/plain": [
              "<Figure size 864x504 with 1 Axes>"
            ]
          },
          "metadata": {
            "tags": [],
            "needs_background": "light"
          }
        }
      ]
    },
    {
      "cell_type": "markdown",
      "metadata": {
        "id": "5HTj4iUZi-RA"
      },
      "source": [
        "# \"Real World\" Data"
      ]
    },
    {
      "cell_type": "code",
      "metadata": {
        "id": "CM1ckghVi-RA"
      },
      "source": [
        "\n",
        "from io import BytesIO\n",
        "import os\n",
        "from urllib.parse import urlencode\n",
        "\n",
        "import requests\n",
        "import numpy as np\n",
        "import pandas as pd\n",
        "\n",
        "\n",
        "def read_avocadata(start_date, end_date, cache_loc='avocadata.html'):\n",
        "    \"\"\"Download avocado data to a dataframe.\n",
        "    Parameters\n",
        "    ----------\n",
        "    \"\"\"\n",
        "    start_date = pd.Timestamp(start_date)\n",
        "    end_date = pd.Timestamp(end_date)\n",
        "    base_url = 'https://www.marketnews.usda.gov/mnp/fv-report-retail'\n",
        "    query_params = {\n",
        "        'class': ['FRUITS'],\n",
        "        'commodity': ['AVOCADOS'],\n",
        "        'compareLy': ['No'],\n",
        "        'endDate': [end_date.strftime(\"%m/%d/%Y\")],\n",
        "        'format': ['excel'],\n",
        "        'organic': ['ALL'],\n",
        "        'portal': ['fv'],\n",
        "        'region': ['ALL'],\n",
        "        'repDate': [start_date.strftime(\"%m/%d/%Y\")],\n",
        "        'type': ['retail'],\n",
        "    }\n",
        "\n",
        "    url = base_url + '?' + urlencode(query_params, doseq=1)\n",
        "\n",
        "    if not os.path.exists(cache_loc):\n",
        "        resp = requests.get(url, stream=True)\n",
        "        resp.raise_for_status()\n",
        "\n",
        "        with open(cache_loc, 'wb') as f:\n",
        "            for block in resp.iter_content(chunk_size=4096):\n",
        "                f.write(block)\n",
        "        f.close()\n",
        "\n",
        "    with open(cache_loc, 'rb') as f:\n",
        "        frame = pd.read_html(f, header=0)[0]\n",
        "\n",
        "    # Cleanup\n",
        "    frame = frame[frame['Unit'] == 'each']\n",
        "    frame['Organic'] = (frame['Organic'] == 'Y')\n",
        "    frame['Variety'].replace(\n",
        "        {'VARIOUS GREENSKIN VARIETIES': 'GREENSKIN'},\n",
        "        inplace=True,\n",
        "    )\n",
        "    frame['Date'] = pd.to_datetime(frame['Date'].values, utc=True)\n",
        "\n",
        "    frame['Region'] = frame['Region'].str.replace(' U.S.', '')\n",
        "    frame['Region'] = frame['Region'].str.replace(' ', '_')\n",
        "\n",
        "    # Drop useless columns.\n",
        "    return frame.drop(\n",
        "        ['Class', 'Commodity', 'Environment', 'Unit', '% Marked Local'],\n",
        "        axis=1,\n",
        "    )"
      ],
      "execution_count": 1,
      "outputs": []
    },
    {
      "cell_type": "code",
      "metadata": {
        "id": "SjKlmgb_Txmo"
      },
      "source": [
        "from urllib.parse import urlencode \r\n",
        "import pandas as pd\r\n",
        "\r\n",
        "import requests\r\n",
        "\r\n",
        "## In this case, we will obtain TOMATOES data.\r\n",
        "base_url = 'https://www.marketnews.usda.gov/mnp/fv-report-retail'\r\n",
        "query_params = {\r\n",
        "  'class': ['VEGETABLES'], ## Change Fruit with Vegetables\r\n",
        "  'commodity': ['TOMATOES'], ## Change Avocados with Tomatoes\r\n",
        "  'compareLy': ['No'],\r\n",
        "  'endDate': ['01/01/2021'], ## Hardcoding end Date\r\n",
        "  'repDate': ['01/01/2020'], ## Hardcoding rep Date\r\n",
        "  'format': ['excel'],\r\n",
        "  'organic': ['ALL'],\r\n",
        "  'portal': ['fv'],\r\n",
        "  'region': ['ALL'],\r\n",
        "  'type': ['retail'],\r\n",
        "}\r\n",
        "\r\n",
        "## Build URL to send request.\r\n",
        "url = base_url + '?' + urlencode(query_params, doseq=1)\r\n",
        "\r\n",
        "## Request data from url\r\n",
        "resp = requests.get(url, stream=True)\r\n",
        "\r\n",
        "## Create File with data.\r\n",
        "with open('data.html', 'wb') as f:\r\n",
        "            for block in resp.iter_content(chunk_size=4096):\r\n",
        "                f.write(block)\r\n",
        "            f.close()\r\n",
        "\r\n",
        "## Read data from file.\r\n",
        "tomatoes_data = pd.read_html('data.html', header=0)[0] \r\n",
        "## Be careful, this data is uncleaned, If you want to use it correctly, you will first have to clean it\r\n",
        "\r\n",
        "\r\n",
        "## You now have data of tomatoes in the United States! Hurra!"
      ],
      "execution_count": 2,
      "outputs": []
    },
    {
      "cell_type": "code",
      "metadata": {
        "colab": {
          "base_uri": "https://localhost:8080/",
          "height": 606
        },
        "id": "tJbn6bGVT0Xt",
        "outputId": "860dcad3-7f8a-4763-b614-4352af438730"
      },
      "source": [
        "\r\n",
        "tomatoes_data"
      ],
      "execution_count": 20,
      "outputs": [
        {
          "output_type": "execute_result",
          "data": {
            "text/html": [
              "<div>\n",
              "<style scoped>\n",
              "    .dataframe tbody tr th:only-of-type {\n",
              "        vertical-align: middle;\n",
              "    }\n",
              "\n",
              "    .dataframe tbody tr th {\n",
              "        vertical-align: top;\n",
              "    }\n",
              "\n",
              "    .dataframe thead th {\n",
              "        text-align: right;\n",
              "    }\n",
              "</style>\n",
              "<table border=\"1\" class=\"dataframe\">\n",
              "  <thead>\n",
              "    <tr style=\"text-align: right;\">\n",
              "      <th></th>\n",
              "      <th>Date</th>\n",
              "      <th>Region</th>\n",
              "      <th>Class</th>\n",
              "      <th>Commodity</th>\n",
              "      <th>Variety</th>\n",
              "      <th>Organic</th>\n",
              "      <th>Environment</th>\n",
              "      <th>Unit</th>\n",
              "      <th>Number of Stores</th>\n",
              "      <th>Weighted Avg Price</th>\n",
              "      <th>Low Price</th>\n",
              "      <th>High Price</th>\n",
              "      <th>% Marked Local</th>\n",
              "    </tr>\n",
              "  </thead>\n",
              "  <tbody>\n",
              "    <tr>\n",
              "      <th>0</th>\n",
              "      <td>01/03/2020</td>\n",
              "      <td>NATIONAL</td>\n",
              "      <td>VEGETABLES</td>\n",
              "      <td>TOMATOES</td>\n",
              "      <td>NaN</td>\n",
              "      <td>NaN</td>\n",
              "      <td>NaN</td>\n",
              "      <td>per pound</td>\n",
              "      <td>212</td>\n",
              "      <td>1.81</td>\n",
              "      <td>NaN</td>\n",
              "      <td>NaN</td>\n",
              "      <td>NaN</td>\n",
              "    </tr>\n",
              "    <tr>\n",
              "      <th>1</th>\n",
              "      <td>01/03/2020</td>\n",
              "      <td>NATIONAL</td>\n",
              "      <td>VEGETABLES</td>\n",
              "      <td>TOMATOES</td>\n",
              "      <td>VINE RIPE - HEIRLOOM VARIETIES</td>\n",
              "      <td>NaN</td>\n",
              "      <td>NaN</td>\n",
              "      <td>per pound</td>\n",
              "      <td>46</td>\n",
              "      <td>3.34</td>\n",
              "      <td>NaN</td>\n",
              "      <td>NaN</td>\n",
              "      <td>NaN</td>\n",
              "    </tr>\n",
              "    <tr>\n",
              "      <th>2</th>\n",
              "      <td>01/03/2020</td>\n",
              "      <td>NATIONAL</td>\n",
              "      <td>VEGETABLES</td>\n",
              "      <td>TOMATOES</td>\n",
              "      <td>VINE RIPE - HEIRLOOM VARIETIES</td>\n",
              "      <td>Y</td>\n",
              "      <td>NaN</td>\n",
              "      <td>per pound</td>\n",
              "      <td>23</td>\n",
              "      <td>3.99</td>\n",
              "      <td>NaN</td>\n",
              "      <td>NaN</td>\n",
              "      <td>NaN</td>\n",
              "    </tr>\n",
              "    <tr>\n",
              "      <th>3</th>\n",
              "      <td>01/03/2020</td>\n",
              "      <td>NATIONAL</td>\n",
              "      <td>VEGETABLES</td>\n",
              "      <td>TOMATOES</td>\n",
              "      <td>VINE RIPES</td>\n",
              "      <td>NaN</td>\n",
              "      <td>NaN</td>\n",
              "      <td>per pound</td>\n",
              "      <td>2255</td>\n",
              "      <td>1.66</td>\n",
              "      <td>NaN</td>\n",
              "      <td>NaN</td>\n",
              "      <td>NaN</td>\n",
              "    </tr>\n",
              "    <tr>\n",
              "      <th>4</th>\n",
              "      <td>01/03/2020</td>\n",
              "      <td>NATIONAL</td>\n",
              "      <td>VEGETABLES</td>\n",
              "      <td>TOMATOES</td>\n",
              "      <td>VINE RIPES</td>\n",
              "      <td>Y</td>\n",
              "      <td>Greenhouse</td>\n",
              "      <td>per pound</td>\n",
              "      <td>245</td>\n",
              "      <td>1.48</td>\n",
              "      <td>NaN</td>\n",
              "      <td>NaN</td>\n",
              "      <td>NaN</td>\n",
              "    </tr>\n",
              "    <tr>\n",
              "      <th>...</th>\n",
              "      <td>...</td>\n",
              "      <td>...</td>\n",
              "      <td>...</td>\n",
              "      <td>...</td>\n",
              "      <td>...</td>\n",
              "      <td>...</td>\n",
              "      <td>...</td>\n",
              "      <td>...</td>\n",
              "      <td>...</td>\n",
              "      <td>...</td>\n",
              "      <td>...</td>\n",
              "      <td>...</td>\n",
              "      <td>...</td>\n",
              "    </tr>\n",
              "    <tr>\n",
              "      <th>1918</th>\n",
              "      <td>01/01/2021</td>\n",
              "      <td>NORTHWEST U.S.</td>\n",
              "      <td>VEGETABLES</td>\n",
              "      <td>TOMATOES</td>\n",
              "      <td>VINE RIPES</td>\n",
              "      <td>NaN</td>\n",
              "      <td>Greenhouse</td>\n",
              "      <td>per pound</td>\n",
              "      <td>10</td>\n",
              "      <td>2.49</td>\n",
              "      <td>2.49</td>\n",
              "      <td>2.49</td>\n",
              "      <td>NaN</td>\n",
              "    </tr>\n",
              "    <tr>\n",
              "      <th>1919</th>\n",
              "      <td>01/01/2021</td>\n",
              "      <td>NORTHWEST U.S.</td>\n",
              "      <td>VEGETABLES</td>\n",
              "      <td>TOMATOES</td>\n",
              "      <td>VINE RIPES, ON THE VINE</td>\n",
              "      <td>NaN</td>\n",
              "      <td>Greenhouse</td>\n",
              "      <td>per pound</td>\n",
              "      <td>250</td>\n",
              "      <td>1.92</td>\n",
              "      <td>1.49</td>\n",
              "      <td>1.99</td>\n",
              "      <td>NaN</td>\n",
              "    </tr>\n",
              "    <tr>\n",
              "      <th>1920</th>\n",
              "      <td>01/01/2021</td>\n",
              "      <td>HAWAII</td>\n",
              "      <td>VEGETABLES</td>\n",
              "      <td>TOMATOES</td>\n",
              "      <td>NaN</td>\n",
              "      <td>NaN</td>\n",
              "      <td>NaN</td>\n",
              "      <td>per pound</td>\n",
              "      <td>4</td>\n",
              "      <td>2.29</td>\n",
              "      <td>2.29</td>\n",
              "      <td>2.29</td>\n",
              "      <td>NaN</td>\n",
              "    </tr>\n",
              "    <tr>\n",
              "      <th>1921</th>\n",
              "      <td>01/01/2021</td>\n",
              "      <td>ALASKA</td>\n",
              "      <td>VEGETABLES</td>\n",
              "      <td>TOMATOES</td>\n",
              "      <td>VINE RIPES, ON THE VINE</td>\n",
              "      <td>NaN</td>\n",
              "      <td>Greenhouse</td>\n",
              "      <td>per pound</td>\n",
              "      <td>34</td>\n",
              "      <td>2.49</td>\n",
              "      <td>2.39</td>\n",
              "      <td>2.49</td>\n",
              "      <td>NaN</td>\n",
              "    </tr>\n",
              "    <tr>\n",
              "      <th>1922</th>\n",
              "      <td>01/01/2021</td>\n",
              "      <td>HAWAII</td>\n",
              "      <td>VEGETABLES</td>\n",
              "      <td>TOMATOES</td>\n",
              "      <td>VINE RIPES, ON THE VINE</td>\n",
              "      <td>NaN</td>\n",
              "      <td>Greenhouse</td>\n",
              "      <td>per pound</td>\n",
              "      <td>26</td>\n",
              "      <td>2.64</td>\n",
              "      <td>2.29</td>\n",
              "      <td>2.69</td>\n",
              "      <td>NaN</td>\n",
              "    </tr>\n",
              "  </tbody>\n",
              "</table>\n",
              "<p>1923 rows × 13 columns</p>\n",
              "</div>"
            ],
            "text/plain": [
              "            Date          Region  ... High Price % Marked Local\n",
              "0     01/03/2020        NATIONAL  ...        NaN            NaN\n",
              "1     01/03/2020        NATIONAL  ...        NaN            NaN\n",
              "2     01/03/2020        NATIONAL  ...        NaN            NaN\n",
              "3     01/03/2020        NATIONAL  ...        NaN            NaN\n",
              "4     01/03/2020        NATIONAL  ...        NaN            NaN\n",
              "...          ...             ...  ...        ...            ...\n",
              "1918  01/01/2021  NORTHWEST U.S.  ...       2.49            NaN\n",
              "1919  01/01/2021  NORTHWEST U.S.  ...       1.99            NaN\n",
              "1920  01/01/2021          HAWAII  ...       2.29            NaN\n",
              "1921  01/01/2021          ALASKA  ...       2.49            NaN\n",
              "1922  01/01/2021          HAWAII  ...       2.69            NaN\n",
              "\n",
              "[1923 rows x 13 columns]"
            ]
          },
          "metadata": {
            "tags": []
          },
          "execution_count": 20
        }
      ]
    },
    {
      "cell_type": "code",
      "metadata": {
        "colab": {
          "base_uri": "https://localhost:8080/",
          "height": 204
        },
        "id": "30GIUVGL0Onw",
        "outputId": "fbe78ee8-68bd-4e27-8ef9-dfe42210c228"
      },
      "source": [
        "\n",
        "avocados = read_avocadata('2015', '2018')\n",
        "avocados.head()"
      ],
      "execution_count": 4,
      "outputs": [
        {
          "output_type": "execute_result",
          "data": {
            "text/html": [
              "<div>\n",
              "<style scoped>\n",
              "    .dataframe tbody tr th:only-of-type {\n",
              "        vertical-align: middle;\n",
              "    }\n",
              "\n",
              "    .dataframe tbody tr th {\n",
              "        vertical-align: top;\n",
              "    }\n",
              "\n",
              "    .dataframe thead th {\n",
              "        text-align: right;\n",
              "    }\n",
              "</style>\n",
              "<table border=\"1\" class=\"dataframe\">\n",
              "  <thead>\n",
              "    <tr style=\"text-align: right;\">\n",
              "      <th></th>\n",
              "      <th>Date</th>\n",
              "      <th>Region</th>\n",
              "      <th>Variety</th>\n",
              "      <th>Organic</th>\n",
              "      <th>Number of Stores</th>\n",
              "      <th>Weighted Avg Price</th>\n",
              "      <th>Low Price</th>\n",
              "      <th>High Price</th>\n",
              "    </tr>\n",
              "  </thead>\n",
              "  <tbody>\n",
              "    <tr>\n",
              "      <th>0</th>\n",
              "      <td>2015-01-09 00:00:00+00:00</td>\n",
              "      <td>NATIONAL</td>\n",
              "      <td>HASS</td>\n",
              "      <td>False</td>\n",
              "      <td>8564</td>\n",
              "      <td>1.04</td>\n",
              "      <td>NaN</td>\n",
              "      <td>NaN</td>\n",
              "    </tr>\n",
              "    <tr>\n",
              "      <th>1</th>\n",
              "      <td>2015-01-09 00:00:00+00:00</td>\n",
              "      <td>NATIONAL</td>\n",
              "      <td>HASS</td>\n",
              "      <td>True</td>\n",
              "      <td>2428</td>\n",
              "      <td>1.32</td>\n",
              "      <td>NaN</td>\n",
              "      <td>NaN</td>\n",
              "    </tr>\n",
              "    <tr>\n",
              "      <th>2</th>\n",
              "      <td>2015-01-09 00:00:00+00:00</td>\n",
              "      <td>NATIONAL</td>\n",
              "      <td>GREENSKIN</td>\n",
              "      <td>False</td>\n",
              "      <td>660</td>\n",
              "      <td>1.08</td>\n",
              "      <td>NaN</td>\n",
              "      <td>NaN</td>\n",
              "    </tr>\n",
              "    <tr>\n",
              "      <th>3</th>\n",
              "      <td>2015-01-09 00:00:00+00:00</td>\n",
              "      <td>NORTHEAST</td>\n",
              "      <td>HASS</td>\n",
              "      <td>False</td>\n",
              "      <td>1933</td>\n",
              "      <td>1.32</td>\n",
              "      <td>0.98</td>\n",
              "      <td>2.0</td>\n",
              "    </tr>\n",
              "    <tr>\n",
              "      <th>4</th>\n",
              "      <td>2015-01-09 00:00:00+00:00</td>\n",
              "      <td>NORTHEAST</td>\n",
              "      <td>HASS</td>\n",
              "      <td>True</td>\n",
              "      <td>492</td>\n",
              "      <td>1.67</td>\n",
              "      <td>1.00</td>\n",
              "      <td>2.0</td>\n",
              "    </tr>\n",
              "  </tbody>\n",
              "</table>\n",
              "</div>"
            ],
            "text/plain": [
              "                       Date     Region  ... Low Price  High Price\n",
              "0 2015-01-09 00:00:00+00:00   NATIONAL  ...       NaN         NaN\n",
              "1 2015-01-09 00:00:00+00:00   NATIONAL  ...       NaN         NaN\n",
              "2 2015-01-09 00:00:00+00:00   NATIONAL  ...       NaN         NaN\n",
              "3 2015-01-09 00:00:00+00:00  NORTHEAST  ...      0.98         2.0\n",
              "4 2015-01-09 00:00:00+00:00  NORTHEAST  ...      1.00         2.0\n",
              "\n",
              "[5 rows x 8 columns]"
            ]
          },
          "metadata": {
            "tags": []
          },
          "execution_count": 4
        }
      ]
    },
    {
      "cell_type": "code",
      "metadata": {
        "id": "4MPZ3trKi-RB",
        "colab": {
          "base_uri": "https://localhost:8080/"
        },
        "outputId": "bc62a45c-3867-462d-902b-8c76d797e72d"
      },
      "source": [
        "# Unlike numpy arrays, pandas DataFrames can have a different dtype for each column.\n",
        "avocados.dtypes"
      ],
      "execution_count": 5,
      "outputs": [
        {
          "output_type": "execute_result",
          "data": {
            "text/plain": [
              "Date                  datetime64[ns, UTC]\n",
              "Region                             object\n",
              "Variety                            object\n",
              "Organic                              bool\n",
              "Number of Stores                    int64\n",
              "Weighted Avg Price                float64\n",
              "Low Price                         float64\n",
              "High Price                        float64\n",
              "dtype: object"
            ]
          },
          "metadata": {
            "tags": []
          },
          "execution_count": 5
        }
      ]
    },
    {
      "cell_type": "code",
      "metadata": {
        "id": "Lhw-jqLSi-RC",
        "colab": {
          "base_uri": "https://localhost:8080/",
          "height": 277
        },
        "outputId": "ac678154-ff1a-4bd1-82d7-b4fc6ba9d1fc"
      },
      "source": [
        "# What's the regional average price of a HASS avocado every day?\n",
        "hass = avocados[avocados.Variety == 'HASS']\n",
        "hass.groupby(['Date', 'Region'])['Weighted Avg Price'].mean().unstack().ffill().plot();"
      ],
      "execution_count": 6,
      "outputs": [
        {
          "output_type": "display_data",
          "data": {
            "image/png": "[encoded data removed]",
            "text/plain": [
              "<Figure size 432x288 with 1 Axes>"
            ]
          },
          "metadata": {
            "tags": [],
            "needs_background": "light"
          }
        }
      ]
    },
    {
      "cell_type": "code",
      "metadata": {
        "collapsed": true,
        "id": "jsqt0UO-i-RD"
      },
      "source": [
        "def _organic_spread(group):\n",
        "\n",
        "    if len(group.columns) != 2:\n",
        "        return pd.Series(index=group.index, data=0.0)\n",
        "    \n",
        "    is_organic = group.columns.get_level_values('Organic').values.astype(bool)\n",
        "    organics = group.loc[:, is_organic].squeeze()\n",
        "    non_organics = group.loc[:, ~is_organic].squeeze()\n",
        "    diff = organics - non_organics\n",
        "    return diff\n",
        "\n",
        "def organic_spread_by_region(df):\n",
        "    \"\"\"What's the difference between the price of an organic \n",
        "    and non-organic avocado within each region?\n",
        "    \"\"\"\n",
        "    return (\n",
        "        df\n",
        "        .set_index(['Date', 'Region', 'Organic'])\n",
        "         ['Weighted Avg Price']\n",
        "        .unstack(level=['Region', 'Organic'])\n",
        "        .ffill()\n",
        "        .groupby(level='Region', axis=1)\n",
        "        .apply(_organic_spread)\n",
        "    )"
      ],
      "execution_count": 30,
      "outputs": []
    },
    {
      "cell_type": "code",
      "metadata": {
        "id": "B7JLLzK7i-RD",
        "colab": {
          "base_uri": "https://localhost:8080/",
          "height": 440
        },
        "outputId": "52855c02-d50b-4185-95f6-bcbc7cca75eb"
      },
      "source": [
        "organic_spread_by_region(hass).plot();\n",
        "plt.gca().set_title(\"Daily Regional Organic Spread\");\n",
        "plt.legend(bbox_to_anchor=(1, 1));"
      ],
      "execution_count": 25,
      "outputs": [
        {
          "output_type": "display_data",
          "data": {
            "image/png": "[encoded data removed]",
            "text/plain": [
              "<Figure size 864x504 with 1 Axes>"
            ]
          },
          "metadata": {
            "tags": [],
            "needs_background": "light"
          }
        }
      ]
    },
    {
      "cell_type": "code",
      "metadata": {
        "id": "J_UDtDqCi-RD",
        "colab": {
          "base_uri": "https://localhost:8080/",
          "height": 359
        },
        "outputId": "2905500a-1db9-41fe-8eaf-2d75254b52a1"
      },
      "source": [
        "spread_correlation = organic_spread_by_region(hass).corr()\n",
        "spread_correlation"
      ],
      "execution_count": 26,
      "outputs": [
        {
          "output_type": "execute_result",
          "data": {
            "text/html": [
              "<div>\n",
              "<style scoped>\n",
              "    .dataframe tbody tr th:only-of-type {\n",
              "        vertical-align: middle;\n",
              "    }\n",
              "\n",
              "    .dataframe tbody tr th {\n",
              "        vertical-align: top;\n",
              "    }\n",
              "\n",
              "    .dataframe thead th {\n",
              "        text-align: right;\n",
              "    }\n",
              "</style>\n",
              "<table border=\"1\" class=\"dataframe\">\n",
              "  <thead>\n",
              "    <tr style=\"text-align: right;\">\n",
              "      <th>Region</th>\n",
              "      <th>ALASKA</th>\n",
              "      <th>HAWAII</th>\n",
              "      <th>MIDWEST</th>\n",
              "      <th>NATIONAL</th>\n",
              "      <th>NORTHEAST</th>\n",
              "      <th>NORTHWEST</th>\n",
              "      <th>SOUTHEAST</th>\n",
              "      <th>SOUTHWEST</th>\n",
              "      <th>SOUTH_CENTRAL</th>\n",
              "    </tr>\n",
              "    <tr>\n",
              "      <th>Region</th>\n",
              "      <th></th>\n",
              "      <th></th>\n",
              "      <th></th>\n",
              "      <th></th>\n",
              "      <th></th>\n",
              "      <th></th>\n",
              "      <th></th>\n",
              "      <th></th>\n",
              "      <th></th>\n",
              "    </tr>\n",
              "  </thead>\n",
              "  <tbody>\n",
              "    <tr>\n",
              "      <th>ALASKA</th>\n",
              "      <td>1.000000</td>\n",
              "      <td>-0.011910</td>\n",
              "      <td>0.152325</td>\n",
              "      <td>-0.100104</td>\n",
              "      <td>-0.007537</td>\n",
              "      <td>0.081278</td>\n",
              "      <td>0.144806</td>\n",
              "      <td>-0.178786</td>\n",
              "      <td>0.114085</td>\n",
              "    </tr>\n",
              "    <tr>\n",
              "      <th>HAWAII</th>\n",
              "      <td>-0.011910</td>\n",
              "      <td>1.000000</td>\n",
              "      <td>-0.170334</td>\n",
              "      <td>0.013507</td>\n",
              "      <td>0.070092</td>\n",
              "      <td>0.141628</td>\n",
              "      <td>-0.137073</td>\n",
              "      <td>0.137550</td>\n",
              "      <td>-0.184017</td>\n",
              "    </tr>\n",
              "    <tr>\n",
              "      <th>MIDWEST</th>\n",
              "      <td>0.152325</td>\n",
              "      <td>-0.170334</td>\n",
              "      <td>1.000000</td>\n",
              "      <td>0.385558</td>\n",
              "      <td>0.199542</td>\n",
              "      <td>0.028828</td>\n",
              "      <td>0.347719</td>\n",
              "      <td>-0.224242</td>\n",
              "      <td>0.328485</td>\n",
              "    </tr>\n",
              "    <tr>\n",
              "      <th>NATIONAL</th>\n",
              "      <td>-0.100104</td>\n",
              "      <td>0.013507</td>\n",
              "      <td>0.385558</td>\n",
              "      <td>1.000000</td>\n",
              "      <td>0.574406</td>\n",
              "      <td>0.171291</td>\n",
              "      <td>0.331676</td>\n",
              "      <td>0.260559</td>\n",
              "      <td>0.301631</td>\n",
              "    </tr>\n",
              "    <tr>\n",
              "      <th>NORTHEAST</th>\n",
              "      <td>-0.007537</td>\n",
              "      <td>0.070092</td>\n",
              "      <td>0.199542</td>\n",
              "      <td>0.574406</td>\n",
              "      <td>1.000000</td>\n",
              "      <td>0.157721</td>\n",
              "      <td>0.083639</td>\n",
              "      <td>0.148029</td>\n",
              "      <td>0.043832</td>\n",
              "    </tr>\n",
              "    <tr>\n",
              "      <th>NORTHWEST</th>\n",
              "      <td>0.081278</td>\n",
              "      <td>0.141628</td>\n",
              "      <td>0.028828</td>\n",
              "      <td>0.171291</td>\n",
              "      <td>0.157721</td>\n",
              "      <td>1.000000</td>\n",
              "      <td>0.172606</td>\n",
              "      <td>0.102275</td>\n",
              "      <td>0.122854</td>\n",
              "    </tr>\n",
              "    <tr>\n",
              "      <th>SOUTHEAST</th>\n",
              "      <td>0.144806</td>\n",
              "      <td>-0.137073</td>\n",
              "      <td>0.347719</td>\n",
              "      <td>0.331676</td>\n",
              "      <td>0.083639</td>\n",
              "      <td>0.172606</td>\n",
              "      <td>1.000000</td>\n",
              "      <td>-0.087785</td>\n",
              "      <td>0.344116</td>\n",
              "    </tr>\n",
              "    <tr>\n",
              "      <th>SOUTHWEST</th>\n",
              "      <td>-0.178786</td>\n",
              "      <td>0.137550</td>\n",
              "      <td>-0.224242</td>\n",
              "      <td>0.260559</td>\n",
              "      <td>0.148029</td>\n",
              "      <td>0.102275</td>\n",
              "      <td>-0.087785</td>\n",
              "      <td>1.000000</td>\n",
              "      <td>-0.209116</td>\n",
              "    </tr>\n",
              "    <tr>\n",
              "      <th>SOUTH_CENTRAL</th>\n",
              "      <td>0.114085</td>\n",
              "      <td>-0.184017</td>\n",
              "      <td>0.328485</td>\n",
              "      <td>0.301631</td>\n",
              "      <td>0.043832</td>\n",
              "      <td>0.122854</td>\n",
              "      <td>0.344116</td>\n",
              "      <td>-0.209116</td>\n",
              "      <td>1.000000</td>\n",
              "    </tr>\n",
              "  </tbody>\n",
              "</table>\n",
              "</div>"
            ],
            "text/plain": [
              "Region           ALASKA    HAWAII  ...  SOUTHWEST  SOUTH_CENTRAL\n",
              "Region                             ...                          \n",
              "ALASKA         1.000000 -0.011910  ...  -0.178786       0.114085\n",
              "HAWAII        -0.011910  1.000000  ...   0.137550      -0.184017\n",
              "MIDWEST        0.152325 -0.170334  ...  -0.224242       0.328485\n",
              "NATIONAL      -0.100104  0.013507  ...   0.260559       0.301631\n",
              "NORTHEAST     -0.007537  0.070092  ...   0.148029       0.043832\n",
              "NORTHWEST      0.081278  0.141628  ...   0.102275       0.122854\n",
              "SOUTHEAST      0.144806 -0.137073  ...  -0.087785       0.344116\n",
              "SOUTHWEST     -0.178786  0.137550  ...   1.000000      -0.209116\n",
              "SOUTH_CENTRAL  0.114085 -0.184017  ...  -0.209116       1.000000\n",
              "\n",
              "[9 rows x 9 columns]"
            ]
          },
          "metadata": {
            "tags": []
          },
          "execution_count": 26
        }
      ]
    },
    {
      "cell_type": "code",
      "metadata": {
        "id": "raGHqhV9i-RE",
        "colab": {
          "base_uri": "https://localhost:8080/",
          "height": 712
        },
        "outputId": "2b3ba225-71d2-4686-99c0-e4014da2a74d"
      },
      "source": [
        "import seaborn as sns\n",
        "grid = sns.clustermap(spread_correlation, annot=True)\n",
        "fig = grid.fig\n",
        "axes = fig.axes\n",
        "ax = axes[2]\n",
        "ax.set_xticklabels(ax.get_xticklabels(), rotation=45);"
      ],
      "execution_count": 10,
      "outputs": [
        {
          "output_type": "display_data",
          "data": {
            "image/png": "[encoded data removed]",
            "text/plain": [
              "<Figure size 720x720 with 4 Axes>"
            ]
          },
          "metadata": {
            "tags": [],
            "needs_background": "light"
          }
        }
      ]
    },
    {
      "cell_type": "code",
      "metadata": {
        "colab": {
          "base_uri": "https://localhost:8080/",
          "height": 730
        },
        "id": "gJXubu5TVLmw",
        "outputId": "81829826-7d64-4097-f886-936e9ad8ecb8"
      },
      "source": [
        "import seaborn as sns\r\n",
        "grid = sns.clustermap(spread_correlation, annot=True)\r\n",
        "fig = grid.fig\r\n",
        "axes = fig.axes\r\n",
        "ax = axes[3]\r\n",
        "ax.set_xticklabels(ax.get_xticklabels(), rotation=35);"
      ],
      "execution_count": 27,
      "outputs": [
        {
          "output_type": "display_data",
          "data": {
            "image/png": "[encoded data removed]",
            "text/plain": [
              "<Figure size 720x720 with 4 Axes>"
            ]
          },
          "metadata": {
            "tags": [],
            "needs_background": "light"
          }
        }
      ]
    },
    {
      "cell_type": "markdown",
      "metadata": {
        "id": "ehjzHe-6i-RE"
      },
      "source": [
        "# Pandas Review\n",
        "\n",
        "- Pandas extends numpy with more complex datastructures and algorithms.\n",
        "- If you understand numpy, you understand 90% of pandas.\n",
        "- `groupby`, `set_index`, and `unstack` are powerful tools for working with categorical data.\n",
        "- Avocado prices are surprisingly interesting :)"
      ]
    },
    {
      "cell_type": "markdown",
      "metadata": {
        "id": "_X1YY-cLi-RE"
      },
      "source": [
        "# Thanks!"
      ]
    }
  ]
}