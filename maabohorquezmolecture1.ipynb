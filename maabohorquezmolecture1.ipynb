{
  "nbformat": 4,
  "nbformat_minor": 0,
  "metadata": {
    "kernelspec": {
      "name": "python3",
      "display_name": "Python 3"
    },
    "colab": {
      "name": "notebook.ipynb",
      "provenance": []
    }
  },
  "cells": [
    {
      "cell_type": "markdown",
      "metadata": {
        "id": "ClqhIcnNzU6h"
      },
      "source": [
        "#Introduction to the Research Environment\n",
        "\n",
        "The research environment is powered by IPython notebooks, which allow one to perform a great deal of data analysis and statistical validation. We'll demonstrate a few simple techniques here."
      ]
    },
    {
      "cell_type": "markdown",
      "metadata": {
        "id": "Y3JHw0hmzU6q"
      },
      "source": [
        "##Code Cells vs. Text Cells\n",
        "\n",
        "As you can see, each cell can be either code or text. To select between them, choose from the 'Cell Type' dropdown menu on the top left."
      ]
    },
    {
      "cell_type": "markdown",
      "metadata": {
        "id": "BZ9pspl2zU6r"
      },
      "source": [
        "##Executing a Command\n",
        "\n",
        "A code cell will be evaluated when you press play, or when you press the shortcut, shift-enter. Evaluating a cell evaluates each line of code in sequence, and prints the results of the last line below the cell."
      ]
    },
    {
      "cell_type": "code",
      "metadata": {
        "colab": {
          "base_uri": "https://localhost:8080/"
        },
        "id": "3S__MjiizU6s",
        "outputId": "0494e767-e5c3-4243-cd8f-f3026f48a5a9"
      },
      "source": [
        "7 + 2"
      ],
      "execution_count": 2,
      "outputs": [
        {
          "output_type": "execute_result",
          "data": {
            "text/plain": [
              "9"
            ]
          },
          "metadata": {
            "tags": []
          },
          "execution_count": 2
        }
      ]
    },
    {
      "cell_type": "markdown",
      "metadata": {
        "id": "tGLLarg4zU6s"
      },
      "source": [
        "Sometimes there is no result to be printed, as is the case with assignment."
      ]
    },
    {
      "cell_type": "code",
      "metadata": {
        "collapsed": true,
        "id": "PNnvxAwIzU6t"
      },
      "source": [
        "X = 2"
      ],
      "execution_count": 5,
      "outputs": []
    },
    {
      "cell_type": "markdown",
      "metadata": {
        "id": "u6y1glxdzU6t"
      },
      "source": [
        "Remember that only the result from the last line is printed."
      ]
    },
    {
      "cell_type": "code",
      "metadata": {
        "colab": {
          "base_uri": "https://localhost:8080/"
        },
        "id": "sMcgb9oRzU6t",
        "outputId": "8bea8792-72d9-4254-91ca-5d53d73e0fd0"
      },
      "source": [
        "3 + 6\n",
        "8 + 5"
      ],
      "execution_count": 7,
      "outputs": [
        {
          "output_type": "execute_result",
          "data": {
            "text/plain": [
              "13"
            ]
          },
          "metadata": {
            "tags": []
          },
          "execution_count": 7
        }
      ]
    },
    {
      "cell_type": "markdown",
      "metadata": {
        "id": "0cFbTyHGzU6u"
      },
      "source": [
        "However, you can print whichever lines you want using the `print` statement."
      ]
    },
    {
      "cell_type": "code",
      "metadata": {
        "colab": {
          "base_uri": "https://localhost:8080/"
        },
        "id": "wLPKg7b9zU6u",
        "outputId": "b507b62e-9f4e-4f87-f7f0-def54407b1f2"
      },
      "source": [
        "print (1 + 5)\n",
        "6 + 2"
      ],
      "execution_count": 11,
      "outputs": [
        {
          "output_type": "stream",
          "text": [
            "6\n"
          ],
          "name": "stdout"
        },
        {
          "output_type": "execute_result",
          "data": {
            "text/plain": [
              "8"
            ]
          },
          "metadata": {
            "tags": []
          },
          "execution_count": 11
        }
      ]
    },
    {
      "cell_type": "markdown",
      "metadata": {
        "id": "_e21iAuQzU6u"
      },
      "source": [
        "##Knowing When a Cell is Running\n",
        "\n",
        "While a cell is running, a `[*]` will display on the left. When a cell has yet to be executed, `[ ]` will display. When it has been run, a number will display indicating the order in which it was run during the execution of the notebook `[5]`. Try on this cell and note it happening."
      ]
    },
    {
      "cell_type": "code",
      "metadata": {
        "colab": {
          "base_uri": "https://localhost:8080/"
        },
        "id": "zXNVITmnzU6v",
        "outputId": "0d1d5296-7bd8-4946-9aaa-a50870bf50aa"
      },
      "source": [
        "#Take some time to run something\n",
        "c = 7\n",
        "for i in range(10000000):\n",
        "    c = c + i\n",
        "c"
      ],
      "execution_count": 15,
      "outputs": [
        {
          "output_type": "execute_result",
          "data": {
            "text/plain": [
              "49999995000007"
            ]
          },
          "metadata": {
            "tags": []
          },
          "execution_count": 15
        }
      ]
    },
    {
      "cell_type": "markdown",
      "metadata": {
        "id": "Vogomng3zU6v"
      },
      "source": [
        "##Importing Libraries\n",
        "\n",
        "The vast majority of the time, you'll want to use functions from pre-built libraries. You can't import every library on Quantopian due to security issues, but you can import most of the common scientific ones. Here I import numpy and pandas, the two most common and useful libraries in quant finance. I recommend copying this import statement to every new notebook.\n",
        "\n",
        "Notice that you can rename libraries to whatever you want after importing. The `as` statement allows this. Here we use `np` and `pd` as aliases for `numpy` and `pandas`. This is a very common aliasing and will be found in most code snippets around the web. The point behind this is to allow you to type fewer characters when you are frequently accessing these libraries."
      ]
    },
    {
      "cell_type": "code",
      "metadata": {
        "collapsed": true,
        "id": "yh9LQpi3zU6w"
      },
      "source": [
        "import numpy as num\n",
        "import pandas as pand\n",
        "\n",
        "# This is a plotting library for pretty pictures.\n",
        "import matplotlib.pyplot as mate"
      ],
      "execution_count": 17,
      "outputs": []
    },
    {
      "cell_type": "markdown",
      "metadata": {
        "id": "6kbxlFj7zU6x"
      },
      "source": [
        "##Tab Autocomplete\n",
        "\n",
        "Pressing tab will give you a list of IPython's best guesses for what you might want to type next. This is incredibly valuable and will save you a lot of time. If there is only one possible option for what you could type next, IPython will fill that in for you. Try pressing tab very frequently, it will seldom fill in anything you don't want, as if there is ambiguity a list will be shown. This is a great way to see what functions are available in a library.\n",
        "\n",
        "Try placing your cursor after the `.` and pressing tab."
      ]
    },
    {
      "cell_type": "code",
      "metadata": {
        "colab": {
          "base_uri": "https://localhost:8080/"
        },
        "id": "mWCHV6M0zU6x",
        "outputId": "8dec6aeb-a483-4ef6-d5ac-928fc6576d3d"
      },
      "source": [
        "num.random.triangular"
      ],
      "execution_count": 21,
      "outputs": [
        {
          "output_type": "execute_result",
          "data": {
            "text/plain": [
              "<function RandomState.triangular>"
            ]
          },
          "metadata": {
            "tags": []
          },
          "execution_count": 21
        }
      ]
    },
    {
      "cell_type": "markdown",
      "metadata": {
        "id": "alz5R0_EzU6x"
      },
      "source": [
        "##Getting Documentation Help\n",
        "\n",
        "Placing a question mark after a function and executing that line of code will give you the documentation IPython has for that function. It's often best to do this in a new cell, as you avoid re-executing other code and running into bugs."
      ]
    },
    {
      "cell_type": "code",
      "metadata": {
        "collapsed": true,
        "id": "t95MqTpUzU6z"
      },
      "source": [
        "num.random.normal?"
      ],
      "execution_count": 22,
      "outputs": []
    },
    {
      "cell_type": "markdown",
      "metadata": {
        "id": "FhmuTcx-zU60"
      },
      "source": [
        "##Sampling\n",
        "\n",
        "We'll sample some random data using a function from `numpy`."
      ]
    },
    {
      "cell_type": "code",
      "metadata": {
        "colab": {
          "base_uri": "https://localhost:8080/"
        },
        "id": "CCN6TZZhzU60",
        "outputId": "fdb41a70-1155-41d6-b63c-4a4c0cfceac9"
      },
      "source": [
        "# Sample 100 points with a mean of 0 and an std of 1. This is a standard normal distribution.\n",
        "X = num.random.normal(0, 1, 1000)\n",
        "print (X)"
      ],
      "execution_count": 30,
      "outputs": [
        {
          "output_type": "stream",
          "text": [
            "[-3.80922311e+00  1.92255161e-01 -9.73115383e-01 -4.52900059e-01\n",
            " -7.68880147e-01  1.14639773e+00  8.54792004e-01  5.97040915e-01\n",
            "  9.12799438e-01  1.88915997e+00 -1.84430331e-01  7.18069334e-01\n",
            " -1.50696652e+00 -5.34134431e-01 -7.73144425e-01  1.13316291e+00\n",
            " -1.10125289e+00  4.26112468e-01 -8.23960071e-01  1.77278869e+00\n",
            "  3.49774339e-01  5.81313705e-01  2.69805325e-01  1.10960436e+00\n",
            " -2.27223388e+00 -1.26059372e+00 -1.53072310e+00  1.20785895e+00\n",
            " -3.83405010e-01  7.69478117e-01 -8.47029657e-01  3.47634819e-01\n",
            "  7.29322451e-01  1.13863593e+00 -1.22247765e+00  4.08527283e-01\n",
            " -4.67175519e-01  7.05954801e-02 -9.35553539e-01  7.88494350e-01\n",
            " -8.47585637e-01  6.71750763e-01 -4.08116624e-01 -1.47836669e+00\n",
            "  4.94325778e-01 -7.52078299e-01  4.63786308e-01 -2.32243532e+00\n",
            " -5.06366197e-01  1.59768863e-01  2.79222255e+00 -6.69100703e-01\n",
            " -8.29115580e-01 -2.61959039e+00  1.03015869e+00 -1.43021743e+00\n",
            " -5.99595957e-02  6.17054832e-01  4.33414744e-02 -1.44928266e+00\n",
            " -2.20525588e+00 -9.42436357e-01  3.59293682e-02  1.02193774e-01\n",
            "  4.81987314e-02  1.72846760e+00 -3.94303564e-01 -3.94472463e-01\n",
            " -3.53406672e-01  5.84441716e-01 -4.40951229e-01  1.16899197e+00\n",
            " -4.05216292e-01 -8.54943566e-01 -7.24856218e-01 -2.39141916e+00\n",
            " -1.01797760e+00  6.49459279e-01 -6.83060969e-01  5.02920841e-01\n",
            " -6.24820946e-01 -4.27357901e-01 -2.64824363e+00  3.54481476e-01\n",
            "  1.66466861e-01 -1.36614545e+00  6.53836289e-01  1.88487846e+00\n",
            " -2.30115961e-01  9.96642034e-01  9.15474836e-02  1.78330558e+00\n",
            "  4.61557649e-01  8.04441502e-02  1.58942025e+00  4.26492368e-01\n",
            " -1.11770084e+00 -4.41934818e-01  7.01406169e-01  3.29091305e-01\n",
            "  1.40086995e-01  4.64228399e-02 -6.69119824e-01  2.61264934e-01\n",
            "  2.14019294e+00 -1.50257959e+00 -1.27327864e-01 -1.44527826e+00\n",
            " -1.52546099e+00 -1.30980323e+00 -6.58871419e-01 -1.16648862e+00\n",
            " -8.01625070e-01 -1.87260195e-01 -2.81707956e-01 -1.25700952e-01\n",
            " -6.60369664e-02 -2.91448603e-01  1.03551656e+00  1.43635626e+00\n",
            "  8.07915935e-02 -1.85050499e+00 -1.09634621e+00 -1.15281449e+00\n",
            " -2.95659310e-01  4.55389761e-01  1.14893558e+00  9.36142679e-01\n",
            " -1.44137114e+00 -2.22428191e+00 -1.44149853e+00 -1.56206557e+00\n",
            "  1.07517723e+00  3.08866567e-02 -1.07338237e-01  8.01664177e-01\n",
            "  5.40917073e-01  1.35510122e+00  1.58976641e-01 -1.85519331e-01\n",
            " -1.64726317e+00 -7.08024340e-01  3.88707820e-03  1.61288559e+00\n",
            " -1.07034390e-01  2.49434701e+00  9.93462235e-01 -8.04168941e-01\n",
            "  1.13811220e+00 -7.91677238e-01  2.01817590e+00 -4.53210704e-01\n",
            "  2.09166641e-01  1.81348284e+00  1.64807543e+00 -1.29748507e+00\n",
            " -1.93579014e+00 -5.18637545e-01  6.61126735e-01  1.50378987e-01\n",
            " -6.28149772e-01  7.44986190e-01 -7.20339612e-01 -2.22802015e-01\n",
            "  1.81151657e+00 -8.22092709e-01 -4.93784122e-01  1.12907245e+00\n",
            " -9.50502656e-01 -2.28155045e-01  6.27494152e-01  7.67852240e-01\n",
            " -2.00874001e-01 -2.19100115e-01  9.36618083e-01 -6.85881789e-01\n",
            " -1.14750681e-01  1.24973105e+00  2.03725671e+00 -2.30820777e-01\n",
            "  4.32281268e-01  1.43171206e+00  7.92954212e-01 -2.31062281e+00\n",
            " -1.53614161e+00  1.17531741e+00 -1.66313395e+00  1.39473828e+00\n",
            " -1.92184061e+00 -3.30001432e-01 -5.76614330e-01 -4.95175645e-01\n",
            "  2.20012483e-01  1.30648745e+00 -8.13729946e-02 -1.42993981e-03\n",
            " -1.80680225e+00  2.66755978e+00 -1.23268532e+00 -9.43009776e-02\n",
            " -7.59531405e-01 -1.55418295e-01 -1.07769570e-01  6.67504674e-01\n",
            "  8.57209845e-01  8.71927286e-01 -9.65859177e-02  3.28671188e-01\n",
            "  1.06840736e+00  5.77082815e-01 -1.63250181e+00 -7.55845857e-04\n",
            " -1.32347896e+00 -1.05430221e+00 -5.17946300e-01 -1.84666544e+00\n",
            "  1.06818866e+00 -6.36961408e-02 -2.14985353e+00  8.12502510e-01\n",
            "  1.93378461e+00 -1.24240989e+00  2.02151045e-01 -9.26455061e-01\n",
            "  5.15118002e-01 -8.15199780e-03 -1.33925712e-01  2.01994014e+00\n",
            "  6.06112198e-01 -7.53630473e-01  9.80792152e-01  8.67794911e-02\n",
            "  1.29603495e-01  6.28404552e-02 -1.23941422e+00  7.54862169e-01\n",
            " -3.86824883e-01  3.12162663e-01 -4.08445033e-01  2.92606713e-01\n",
            " -1.85568699e+00 -3.25484519e-01  2.00392955e+00  2.25804331e+00\n",
            "  5.83401973e-01 -4.01719988e-01  4.70557993e-01  1.38268949e+00\n",
            "  3.82039859e-01  9.07102625e-01  5.12756471e-01 -9.53118388e-01\n",
            "  4.83989575e-02 -1.33856173e-01 -1.48297462e+00 -1.76680938e-01\n",
            "  6.61210781e-02 -7.70164765e-01 -3.72716043e-01  1.18836773e+00\n",
            "  9.37870072e-01  2.10087578e+00 -9.61209186e-01 -1.46710487e+00\n",
            " -1.98058325e-02 -1.14553915e+00  1.16069132e+00  1.40154635e+00\n",
            " -1.20190216e+00 -7.81993752e-01 -9.44665590e-01 -1.90928822e-02\n",
            " -1.24670215e+00 -6.13731750e-01 -6.34820708e-01 -4.10100578e-01\n",
            "  3.82082710e-01  4.40096317e-01  8.19473356e-01 -1.31906476e-01\n",
            "  2.57821387e+00 -6.98558813e-01 -1.26044676e+00  8.31731181e-01\n",
            "  2.48516158e-01 -1.65949412e-01 -1.32985156e+00 -2.70702034e+00\n",
            "  6.23056336e-01  6.10809006e-01 -1.15450949e-01  1.38913681e+00\n",
            "  1.04023229e+00  8.15433980e-01  1.92924695e+00 -6.29784429e-01\n",
            " -6.93422460e-01 -8.82256190e-01  1.67954151e-01 -7.38326940e-02\n",
            " -1.11845426e+00  7.75789512e-02 -1.04254677e+00 -3.15712021e-01\n",
            "  3.75762600e-01  7.10949620e-01  6.25134595e-01  1.38318191e+00\n",
            "  1.11922445e+00 -1.05852156e+00 -2.72549288e+00  8.36210879e-01\n",
            "  5.91424712e-01 -6.63540391e-01 -1.99594113e+00  8.15280894e-01\n",
            " -1.18410155e-01 -1.02952979e+00  6.22477459e-02 -4.70543157e-01\n",
            "  2.71759437e-01  4.84152714e-01 -1.25284245e-01 -2.19540975e-01\n",
            "  4.05559642e-01  9.46673330e-01 -5.94365606e-01 -1.42983917e+00\n",
            " -2.04184433e+00  1.70927276e-01 -1.80094382e+00 -4.40973367e-01\n",
            "  3.60316431e-01 -5.41019244e-02 -6.75227471e-01  9.97458455e-01\n",
            "  6.70062657e-01 -1.08157787e+00 -1.09423247e+00  6.55404921e-01\n",
            " -2.41387543e-01  1.17589503e+00  8.57225766e-01 -2.06408328e+00\n",
            " -3.77345570e-01  1.14868817e+00 -3.28941709e-01  5.25159020e-01\n",
            " -9.46219928e-01 -5.49497305e-01 -1.11310000e+00  3.20546774e-02\n",
            " -1.17371978e+00  1.70918522e-01 -6.52907423e-01  4.92103519e-01\n",
            "  3.86312885e-01  5.90680941e-01 -1.18978554e+00  5.81901390e-02\n",
            "  2.49831455e-01  7.06316332e-01 -8.25733326e-01 -2.17987259e-01\n",
            " -2.02283366e+00  7.85682888e-01 -1.99979443e+00 -4.61479365e-02\n",
            "  5.95693729e-01 -6.08650132e-01 -6.75221798e-01  9.44970654e-01\n",
            "  6.40840509e-01 -2.13349230e+00 -1.12302508e-01 -7.64490648e-01\n",
            "  7.82757499e-01 -8.57222495e-01 -7.11383938e-01  7.30132731e-01\n",
            "  1.23293051e-01  8.60692891e-01 -6.10038400e-01  1.61932975e+00\n",
            " -1.22165553e+00 -1.20952619e+00 -9.63852596e-01  1.01049109e+00\n",
            "  9.10100216e-01 -3.27691049e-01  5.92893937e-01  1.43825342e+00\n",
            " -9.71480821e-01  6.39506284e-01 -6.97008113e-02  1.30623327e+00\n",
            " -2.58658051e-01 -1.14247314e+00 -7.70528354e-01  8.94433406e-01\n",
            " -3.90341615e-01  7.04363308e-01 -4.46813599e-01  4.41110262e-02\n",
            " -1.01757323e+00  1.04554190e+00 -5.52468359e-01  5.53994501e-01\n",
            "  5.89084165e-01  9.98118274e-01 -9.48630067e-01  1.28649541e+00\n",
            " -8.15303333e-01 -6.35678166e-01 -4.25742181e-01 -1.46343254e-01\n",
            "  2.22980666e+00  5.36788278e-01  1.44141682e+00  4.69157466e-02\n",
            " -3.20235542e-01  1.25129800e+00 -1.11062934e+00 -7.00877401e-01\n",
            " -3.69935020e-01 -1.16170057e+00 -2.13675728e+00 -1.17755235e-01\n",
            "  3.95269688e-01 -4.37832680e-01  1.36276132e+00  8.93769706e-01\n",
            "  4.66218999e-01 -9.35765551e-01  1.45659019e+00  1.47733668e+00\n",
            "  1.72802545e-01  1.35836991e-01 -1.19258154e+00  9.08446601e-01\n",
            "  8.69086849e-01  9.55244046e-01 -1.62484244e+00  6.28348238e-01\n",
            "  1.12199421e+00  1.14568745e-01 -7.17723439e-01 -2.05958898e+00\n",
            " -6.18164263e-01 -6.35209571e-01  3.21077417e-01 -8.18950577e-01\n",
            "  3.05550035e+00  8.00202894e-01  2.91633687e-02 -1.82371551e+00\n",
            " -2.59597576e-01  1.01078048e+00  1.08579251e+00 -1.45787794e+00\n",
            "  1.12552263e+00  5.56061667e-01  1.16526271e-02 -4.54199347e-02\n",
            " -6.66522036e-01  2.27625046e-01  6.95989399e-01 -5.38441611e-01\n",
            " -1.94188197e+00  1.78990006e+00  1.45725841e+00 -1.45415962e-01\n",
            " -8.60279070e-01  1.10270311e+00  1.38676986e+00 -3.48976413e-01\n",
            " -5.68519118e-01  1.67736229e+00 -2.21181238e+00 -2.36253485e-03\n",
            " -9.00207637e-01  7.23498728e-01  1.72958519e+00 -1.08519831e+00\n",
            " -3.21648847e-01  1.17709196e-01 -1.61643217e+00 -1.01486804e+00\n",
            "  8.63618138e-02  7.02632835e-01  1.80847070e-01  1.11789424e+00\n",
            " -1.59793097e-02 -2.36487492e-01 -1.14257563e+00  5.81464688e-02\n",
            " -1.01366734e+00 -2.76327644e+00 -1.05282404e+00 -1.08102101e-01\n",
            " -1.02128076e+00 -8.13792092e-01 -1.72091112e+00 -1.31752321e+00\n",
            "  1.46607129e+00  3.40995995e-01 -1.02081572e+00 -2.44806589e-02\n",
            " -6.87009972e-01  1.54222853e+00  9.22624896e-01 -1.62483494e-01\n",
            "  2.67446241e+00 -4.98576416e-01 -7.87180602e-01  2.55362967e-01\n",
            " -1.39687833e+00 -9.15418659e-01  5.61113514e-01  1.73819458e+00\n",
            " -4.56528666e-01 -3.44659422e-01 -1.49471468e-01  8.12529600e-01\n",
            "  4.37237786e-01 -2.30420942e+00 -5.84441029e-01  1.31466132e+00\n",
            "  5.07369247e-02 -8.68472646e-01  4.80286977e-01 -6.43486859e-01\n",
            "  1.58598092e-01  1.35438704e-01  6.54722728e-01 -5.75515783e-01\n",
            "  4.61011098e-01 -1.00916971e+00  5.23649602e-01 -4.07132240e-01\n",
            "  5.41140865e-01 -1.43108912e+00 -5.04327588e-01 -4.99332488e-01\n",
            " -6.85177621e-01  8.16389528e-01 -1.04250323e+00 -9.08322649e-01\n",
            "  2.17492040e+00 -1.91114049e+00 -2.04342066e+00  2.25358177e+00\n",
            "  4.37301459e-01 -7.93730702e-01 -1.19124344e+00 -3.90592800e-01\n",
            "  4.16722772e-01 -2.16296322e+00 -9.73918211e-01  8.50490025e-02\n",
            "  1.73785605e+00  1.17961853e+00 -2.14091845e+00  1.56823595e+00\n",
            "  4.03089275e-01  1.16735506e+00  1.32080790e-01  8.47905053e-01\n",
            "  4.78595867e-01  3.97179687e-01  1.02873048e+00  2.24493179e+00\n",
            "  9.32723603e-01  1.24006819e+00  2.01965837e+00 -6.19299209e-01\n",
            "  1.41636022e+00 -4.51850540e-01  1.57613161e+00 -3.09136219e-01\n",
            "  4.31119449e-01  1.91703655e-01  9.93394662e-01  2.50587618e-01\n",
            "  5.57457032e-01 -4.12597927e-01 -1.81627015e+00  4.39475882e-01\n",
            " -8.45342711e-01 -2.01832846e-02  2.47665787e+00 -1.18492423e+00\n",
            "  2.40996752e+00 -1.03990247e-01  2.36945709e-02 -1.92522673e-01\n",
            "  8.27203557e-01 -8.65073189e-01  3.27741873e-01  2.42314811e-01\n",
            " -6.31694450e-01 -7.42533213e-03  1.04142503e+00 -3.00696057e-01\n",
            " -1.07924281e+00  1.07125380e-01 -1.24975791e+00  1.54629593e-01\n",
            " -2.36051430e-01 -6.12224133e-01 -7.24486861e-01  1.15707273e+00\n",
            "  7.18634229e-01 -7.47810472e-01  6.59488165e-01  9.25002907e-01\n",
            "  2.68357006e-01  1.25262088e+00 -1.26518900e+00  1.06598625e-01\n",
            "  8.16094659e-01 -1.24180104e+00  7.50896292e-01  1.39175349e+00\n",
            " -5.19248997e-01 -1.07765742e+00  7.24760014e-01  1.72284205e+00\n",
            " -4.21226735e-01 -3.00557935e-01 -3.27934894e-01 -6.12347358e-01\n",
            "  4.92971428e-02  1.91290020e-01 -2.32662546e-01  8.94096563e-01\n",
            "  6.44095610e-02  1.34773258e+00  6.60393967e-01 -3.81160281e-01\n",
            " -2.83997087e-01 -8.31664743e-01 -7.84000668e-01  9.25615555e-01\n",
            " -1.60363534e-01  7.36929736e-01  1.62064122e-03 -1.05882793e-01\n",
            "  9.46498644e-01  5.49884291e-01  1.77017740e+00 -3.44772741e-02\n",
            " -8.46475899e-01  8.35058642e-02 -2.11696267e+00 -1.37140707e-01\n",
            " -8.76312316e-02 -8.88856191e-01 -4.88581360e-02  1.26416260e+00\n",
            " -4.47076573e-01 -2.81413409e-01 -1.36711154e+00  3.89770204e-01\n",
            "  5.20640969e-01 -2.09701701e-01 -1.53954065e+00  4.04004581e-01\n",
            "  9.43162703e-02 -1.88982580e+00 -1.49487065e+00 -1.14314316e+00\n",
            " -4.70545038e-01 -1.75025648e+00 -5.74021261e-01 -5.11848986e-01\n",
            " -1.13495659e+00 -1.53731573e+00  8.69175655e-02 -4.35490133e-01\n",
            " -6.01587710e-01 -4.83217099e-01 -1.96089554e+00  1.80393188e+00\n",
            "  1.62089238e+00 -1.02585889e+00  1.95221072e-01 -1.44997872e+00\n",
            " -8.36419651e-01 -1.18452768e+00  1.05863196e+00  1.28081358e+00\n",
            "  4.51640106e-01  5.81857460e-03  1.84352893e+00 -1.10900339e-01\n",
            "  1.33164959e+00 -2.91203978e-01 -1.24219164e+00  6.88019248e-01\n",
            "  4.48778689e-01 -8.69259706e-01  5.83930949e-01 -9.28131494e-02\n",
            " -9.99781552e-01  1.19210425e+00 -7.50390155e-01  1.34693718e+00\n",
            "  4.85408787e-01  6.30849128e-03  5.52430025e-01 -6.42842939e-01\n",
            "  4.65814612e-01 -1.38922927e+00 -3.69430348e-01 -5.30479507e-01\n",
            "  8.74621049e-01 -1.77931886e-01  8.86777224e-01  1.09662827e+00\n",
            " -9.08160805e-01  5.33034639e-01  1.14660709e+00  1.89906215e+00\n",
            " -1.87688297e-01 -1.99054852e+00  4.29214007e-01  1.60384592e+00\n",
            "  1.25683513e+00 -2.35164870e-01 -1.29261027e+00 -1.48740663e+00\n",
            "  1.16518825e+00  6.63006460e-01  9.85471273e-01  2.54350502e-01\n",
            " -5.00359964e-01 -1.43256780e+00  1.70302551e+00  1.32059323e+00\n",
            "  6.00814879e-01  3.84611986e-01 -6.05115944e-01 -1.22778367e+00\n",
            " -1.21802097e+00 -5.61111651e-01 -1.50056597e+00  2.37427773e-01\n",
            " -8.24810865e-01  1.15653296e+00  2.54870212e+00 -1.32351219e+00\n",
            "  5.45941670e-01  1.61461187e+00 -7.39614943e-01  4.25267267e-01\n",
            " -4.93612043e-01  1.57754023e+00  9.57552711e-01 -1.32623577e-02\n",
            "  4.96962888e-01  1.39439042e+00 -2.36033296e-01 -1.89811338e+00\n",
            "  4.15235014e-01  8.21297836e-01 -6.33747769e-02 -5.40217004e-01\n",
            "  1.10415835e+00 -1.36764557e+00  1.32151257e+00  9.81934557e-01\n",
            " -1.20950414e-01  1.78135348e+00  3.49884183e-02  7.31391452e-01\n",
            "  1.61517480e-01  5.00800111e-01 -3.98045075e-01  4.11621361e-01\n",
            " -1.55173590e+00 -1.15541168e+00 -2.59404474e-01  1.52180575e-01\n",
            " -9.46783308e-01  1.64244027e+00 -3.97639599e-01 -1.48437602e+00\n",
            "  3.95744063e-01 -1.02298746e+00 -4.88570097e-01  1.06788226e+00\n",
            " -6.18791439e-03  1.36862800e+00  9.56612550e-01 -1.06383833e-01\n",
            " -9.29844965e-01 -1.35697656e+00  9.66772291e-01 -1.99469451e-01\n",
            "  1.77630856e+00 -2.01835461e+00  5.03495011e-01  4.50846096e-01\n",
            "  1.16145591e+00  8.27211858e-02 -9.54992524e-01  1.20864556e+00\n",
            " -9.87552442e-01 -4.37523311e-01 -1.80905326e+00 -1.36319840e+00\n",
            "  2.19520540e-01  1.03203424e+00  3.57310720e-01 -4.93073792e-01\n",
            " -1.16615458e+00  8.67913615e-01 -7.34943234e-01 -4.13763483e-01\n",
            "  6.37487612e-01  1.46746964e+00  1.15652513e+00  1.07878189e+00\n",
            "  6.87798417e-01  1.77119724e-01 -4.11154385e-01 -7.73133101e-01\n",
            " -7.21351274e-01  1.65281324e+00  4.38926806e-01 -1.16141503e+00\n",
            " -3.46065249e-01 -2.09554061e-01 -1.11600907e+00  5.19067979e-01\n",
            " -2.92674115e-01  2.20495898e+00  2.86638857e-01  5.23569350e-01\n",
            "  3.45088852e-01 -1.07086007e+00 -4.97414736e-01 -4.58344294e-01\n",
            "  6.28571519e-01 -2.87316233e-01 -1.16370499e+00  4.14157790e-01\n",
            "  1.14340463e+00  2.62497759e-01 -1.55464532e+00 -1.40255194e+00\n",
            " -4.74567800e-01 -1.00030166e+00 -3.15816703e-01  1.34007557e+00\n",
            "  6.52969448e-02 -6.93903619e-01 -5.14507499e-01 -2.58721655e-01\n",
            "  1.22336192e-01 -1.05710870e+00  7.30700799e-01  1.59135083e+00\n",
            " -1.04065073e+00 -8.45250754e-01  6.20623982e-02  3.93100761e-01\n",
            "  3.51457504e-01 -4.11365499e-01 -1.40699322e+00 -5.89770884e-01\n",
            "  5.73803784e-01 -1.19713682e+00  1.00371696e-01 -2.75797061e-01\n",
            " -3.94763090e-01  7.11658466e-01 -2.09495324e+00 -2.91668891e-01\n",
            "  1.96485351e-01 -7.57835316e-01  1.24693872e+00 -5.70473426e-01\n",
            " -2.04991069e+00  1.16935920e+00  1.59313564e+00  4.45384063e-01\n",
            " -2.10975150e-01  5.93468348e-01 -1.00460469e+00  1.64365022e+00\n",
            "  8.31649279e-01 -1.45866589e+00 -1.79377170e-01  1.05839516e+00\n",
            "  1.46035042e+00 -4.23813172e-01  5.78359609e-01 -1.30859610e+00\n",
            "  6.65964310e-01  7.88858891e-01  5.54239376e-01  1.54398355e+00\n",
            " -3.24907079e-01  1.14546938e-01  5.41521780e-01  4.82620480e-01\n",
            " -2.33413578e-01 -7.03115853e-01 -1.91431629e-01  1.40487293e+00\n",
            " -4.80694459e-01  1.02189261e+00  4.60616328e-01  3.64269288e-01\n",
            "  1.09581969e+00  3.86354917e-01 -1.79369130e+00 -2.39037689e-01\n",
            "  6.29420151e-01  1.22552347e+00  5.03920191e-01  9.77322820e-01\n",
            " -7.94159037e-01 -6.14453466e-01 -1.96633998e-01 -1.05953665e+00\n",
            " -1.33307739e+00  5.75282368e-01 -2.27059771e+00  1.24674485e-02\n",
            " -8.55589276e-01 -1.36701272e+00 -2.30297463e-02 -6.46151139e-01\n",
            "  4.01898496e-01  5.85775678e-03  4.60576208e-01 -1.41442430e+00\n",
            " -1.28245876e+00  1.27435781e+00 -9.42061933e-01 -8.19285561e-01\n",
            "  5.83367812e-01  3.19927054e-02 -3.06471627e-01 -6.27067954e-01\n",
            "  6.90877728e-01  1.51884162e+00 -2.03518119e+00  2.56700236e+00\n",
            " -7.63548695e-01 -1.77604750e-01  1.02901112e+00  2.98134765e-01\n",
            "  3.15385880e-01  2.01604562e+00  1.10986855e+00  2.51434125e-01\n",
            " -1.60896883e+00  4.39977508e-01 -3.10975793e-01 -2.25066113e-01\n",
            " -5.94796688e-01  1.32854930e-01 -2.55370212e-01  2.41203475e-01\n",
            "  8.51932010e-01  7.04170920e-01 -7.71548742e-01 -4.10040761e-01\n",
            "  2.48580513e-01 -1.46382073e-01  4.54168603e-01  1.23871277e+00\n",
            " -1.03437938e+00 -5.61708658e-02 -4.59765407e-01 -4.24885687e-01\n",
            "  1.85060612e-01 -2.29678329e+00  2.87748862e-01  7.87683560e-01\n",
            "  1.74338189e+00  3.96537025e-01  1.53738706e+00 -3.45362014e-01\n",
            "  3.28609520e-01  1.49555265e+00 -7.67694831e-01  2.07062650e+00\n",
            "  1.42861054e+00 -6.20368427e-01 -2.19885145e+00  1.60706858e+00\n",
            " -5.62845795e-01 -6.44017456e-02  5.22331799e-01 -1.03299893e+00]\n"
          ],
          "name": "stdout"
        }
      ]
    },
    {
      "cell_type": "markdown",
      "metadata": {
        "id": "vakjMV24zU60"
      },
      "source": [
        "##Plotting\n",
        "\n",
        "We can use the plotting library we imported as follows."
      ]
    },
    {
      "cell_type": "code",
      "metadata": {
        "id": "_jHJgRQ5zU60"
      },
      "source": [
        "plt.plot(X)"
      ],
      "execution_count": null,
      "outputs": []
    },
    {
      "cell_type": "markdown",
      "metadata": {
        "id": "g_aRLjSPzU61"
      },
      "source": [
        "###Squelching Line Output\n",
        "\n",
        "You might have noticed the annoying line of the form `[<matplotlib.lines.Line2D at 0x7f72fdbc1710>]` before the plots. This is because the `.plot` function actually produces output. Sometimes we wish not to display output, we can accomplish this with the semi-colon as follows."
      ]
    },
    {
      "cell_type": "code",
      "metadata": {
        "colab": {
          "base_uri": "https://localhost:8080/",
          "height": 265
        },
        "id": "M9Ot0hvUzU61",
        "outputId": "1183603f-ed41-4ad1-d827-d8a22e0e934c"
      },
      "source": [
        "mate.plot(X);"
      ],
      "execution_count": 31,
      "outputs": [
        {
          "output_type": "display_data",
          "data": {
            "image/png": "[encoded data removed]",
            "text/plain": [
              "<Figure size 432x288 with 1 Axes>"
            ]
          },
          "metadata": {
            "tags": [],
            "needs_background": "light"
          }
        }
      ]
    },
    {
      "cell_type": "markdown",
      "metadata": {
        "id": "7BdYb87LzU61"
      },
      "source": [
        "###Adding Axis Labels\n",
        "\n",
        "No self-respecting quant leaves a graph without labeled axes. Here are some commands to help with that."
      ]
    },
    {
      "cell_type": "code",
      "metadata": {
        "colab": {
          "base_uri": "https://localhost:8080/",
          "height": 279
        },
        "id": "cWdgFZDkzU62",
        "outputId": "6d882748-ddd0-4200-fe95-30600d101c6e"
      },
      "source": [
        "X = num.random.normal(0, 1, 1000)\n",
        "X2 = num.random.normal(0, 1, 1000)\n",
        "\n",
        "mate.plot(X);\n",
        "mate.plot(X2);\n",
        "mate.xlabel('Time') # The data we generated is unitless, but don't forget units in general.\n",
        "mate.ylabel('Returns')\n",
        "mate.legend(['X', 'X2']);"
      ],
      "execution_count": 33,
      "outputs": [
        {
          "output_type": "display_data",
          "data": {
            "image/png": "[encoded data removed]",
            "text/plain": [
              "<Figure size 432x288 with 1 Axes>"
            ]
          },
          "metadata": {
            "tags": [],
            "needs_background": "light"
          }
        }
      ]
    },
    {
      "cell_type": "markdown",
      "metadata": {
        "id": "NbqYiOXzzU62"
      },
      "source": [
        "##Generating Statistics\n",
        "\n",
        "Let's use `numpy` to take some simple statistics."
      ]
    },
    {
      "cell_type": "code",
      "metadata": {
        "colab": {
          "base_uri": "https://localhost:8080/"
        },
        "id": "JFo58ClQzU62",
        "outputId": "d0cdc8c8-1468-461b-9985-6f0985d6eca9"
      },
      "source": [
        "num.mean(X)"
      ],
      "execution_count": 34,
      "outputs": [
        {
          "output_type": "execute_result",
          "data": {
            "text/plain": [
              "0.007027550641578283"
            ]
          },
          "metadata": {
            "tags": []
          },
          "execution_count": 34
        }
      ]
    },
    {
      "cell_type": "code",
      "metadata": {
        "colab": {
          "base_uri": "https://localhost:8080/"
        },
        "id": "d_GjQ44CzU63",
        "outputId": "ffb224df-02e1-48f9-962a-8e52537b210c"
      },
      "source": [
        "num.std(X)"
      ],
      "execution_count": 35,
      "outputs": [
        {
          "output_type": "execute_result",
          "data": {
            "text/plain": [
              "0.9729339404798131"
            ]
          },
          "metadata": {
            "tags": []
          },
          "execution_count": 35
        }
      ]
    },
    {
      "cell_type": "markdown",
      "metadata": {
        "id": "LybEshGOzU63"
      },
      "source": [
        "##Getting Real Pricing Data\n",
        "\n",
        "Randomly sampled data can be great for testing ideas, but let's get some real data. We can use `get_pricing` to do that. You can use the `?` syntax as discussed above to get more information on `get_pricing`'s arguments."
      ]
    },
    {
      "cell_type": "code",
      "metadata": {
        "colab": {
          "base_uri": "https://localhost:8080/",
          "height": 163
        },
        "id": "9KymPVfZzU63",
        "outputId": "c4c1dc21-3b12-4b41-9c46-f6cc22dff689"
      },
      "source": [
        "data = get_pricing('MSFT', start_date='2020-3-4', end_date='2021-1-1')"
      ],
      "execution_count": 44,
      "outputs": [
        {
          "output_type": "error",
          "ename": "NameError",
          "evalue": "ignored",
          "traceback": [
            "\u001b[0;31m---------------------------------------------------------------------------\u001b[0m",
            "\u001b[0;31mNameError\u001b[0m                                 Traceback (most recent call last)",
            "\u001b[0;32m<ipython-input-44-5abb0340954b>\u001b[0m in \u001b[0;36m<module>\u001b[0;34m()\u001b[0m\n\u001b[0;32m----> 1\u001b[0;31m \u001b[0mdata\u001b[0m \u001b[0;34m=\u001b[0m \u001b[0mget_pricing\u001b[0m\u001b[0;34m(\u001b[0m\u001b[0;34m'MSFT'\u001b[0m\u001b[0;34m,\u001b[0m \u001b[0mstart_date\u001b[0m\u001b[0;34m=\u001b[0m\u001b[0;34m'2020-3-4'\u001b[0m\u001b[0;34m,\u001b[0m \u001b[0mend_date\u001b[0m\u001b[0;34m=\u001b[0m\u001b[0;34m'2021-1-1'\u001b[0m\u001b[0;34m)\u001b[0m\u001b[0;34m\u001b[0m\u001b[0;34m\u001b[0m\u001b[0m\n\u001b[0m",
            "\u001b[0;31mNameError\u001b[0m: name 'get_pricing' is not defined"
          ]
        }
      ]
    },
    {
      "cell_type": "markdown",
      "metadata": {
        "id": "V1HIKFR-zU63"
      },
      "source": [
        "Our data is now a dataframe. You can see the datetime index and the colums with different pricing data."
      ]
    },
    {
      "cell_type": "code",
      "metadata": {
        "colab": {
          "base_uri": "https://localhost:8080/",
          "height": 419
        },
        "id": "wzkDWAJzzU64",
        "outputId": "0d34fc45-b096-43b0-e0ce-9bd787e4e08c"
      },
      "source": [
        "data1"
      ],
      "execution_count": 46,
      "outputs": [
        {
          "output_type": "execute_result",
          "data": {
            "text/html": [
              "<div>\n",
              "<style scoped>\n",
              "    .dataframe tbody tr th:only-of-type {\n",
              "        vertical-align: middle;\n",
              "    }\n",
              "\n",
              "    .dataframe tbody tr th {\n",
              "        vertical-align: top;\n",
              "    }\n",
              "\n",
              "    .dataframe thead th {\n",
              "        text-align: right;\n",
              "    }\n",
              "</style>\n",
              "<table border=\"1\" class=\"dataframe\">\n",
              "  <thead>\n",
              "    <tr style=\"text-align: right;\">\n",
              "      <th></th>\n",
              "      <th>Date</th>\n",
              "      <th>Open</th>\n",
              "      <th>High</th>\n",
              "      <th>Low</th>\n",
              "      <th>Close</th>\n",
              "      <th>Adj Close</th>\n",
              "      <th>Volume</th>\n",
              "    </tr>\n",
              "  </thead>\n",
              "  <tbody>\n",
              "    <tr>\n",
              "      <th>0</th>\n",
              "      <td>2020-02-04</td>\n",
              "      <td>177.139999</td>\n",
              "      <td>180.639999</td>\n",
              "      <td>176.309998</td>\n",
              "      <td>180.119995</td>\n",
              "      <td>177.822327</td>\n",
              "      <td>36433300</td>\n",
              "    </tr>\n",
              "    <tr>\n",
              "      <th>1</th>\n",
              "      <td>2020-02-05</td>\n",
              "      <td>184.029999</td>\n",
              "      <td>184.199997</td>\n",
              "      <td>178.410004</td>\n",
              "      <td>179.899994</td>\n",
              "      <td>177.605148</td>\n",
              "      <td>39186300</td>\n",
              "    </tr>\n",
              "    <tr>\n",
              "      <th>2</th>\n",
              "      <td>2020-02-06</td>\n",
              "      <td>180.970001</td>\n",
              "      <td>183.820007</td>\n",
              "      <td>180.059998</td>\n",
              "      <td>183.630005</td>\n",
              "      <td>181.287552</td>\n",
              "      <td>27751400</td>\n",
              "    </tr>\n",
              "    <tr>\n",
              "      <th>3</th>\n",
              "      <td>2020-02-07</td>\n",
              "      <td>182.850006</td>\n",
              "      <td>185.630005</td>\n",
              "      <td>182.479996</td>\n",
              "      <td>183.889999</td>\n",
              "      <td>181.544250</td>\n",
              "      <td>33529100</td>\n",
              "    </tr>\n",
              "    <tr>\n",
              "      <th>4</th>\n",
              "      <td>2020-02-10</td>\n",
              "      <td>183.580002</td>\n",
              "      <td>188.839996</td>\n",
              "      <td>183.250000</td>\n",
              "      <td>188.699997</td>\n",
              "      <td>186.292862</td>\n",
              "      <td>35844300</td>\n",
              "    </tr>\n",
              "    <tr>\n",
              "      <th>...</th>\n",
              "      <td>...</td>\n",
              "      <td>...</td>\n",
              "      <td>...</td>\n",
              "      <td>...</td>\n",
              "      <td>...</td>\n",
              "      <td>...</td>\n",
              "      <td>...</td>\n",
              "    </tr>\n",
              "    <tr>\n",
              "      <th>266</th>\n",
              "      <td>2021-02-24</td>\n",
              "      <td>230.009995</td>\n",
              "      <td>235.199997</td>\n",
              "      <td>229.000000</td>\n",
              "      <td>234.550003</td>\n",
              "      <td>234.550003</td>\n",
              "      <td>26339700</td>\n",
              "    </tr>\n",
              "    <tr>\n",
              "      <th>267</th>\n",
              "      <td>2021-02-25</td>\n",
              "      <td>232.080002</td>\n",
              "      <td>234.589996</td>\n",
              "      <td>227.880005</td>\n",
              "      <td>228.990005</td>\n",
              "      <td>228.990005</td>\n",
              "      <td>39542200</td>\n",
              "    </tr>\n",
              "    <tr>\n",
              "      <th>268</th>\n",
              "      <td>2021-02-26</td>\n",
              "      <td>231.529999</td>\n",
              "      <td>235.369995</td>\n",
              "      <td>229.539993</td>\n",
              "      <td>232.380005</td>\n",
              "      <td>232.380005</td>\n",
              "      <td>37811200</td>\n",
              "    </tr>\n",
              "    <tr>\n",
              "      <th>269</th>\n",
              "      <td>2021-03-01</td>\n",
              "      <td>235.899994</td>\n",
              "      <td>237.470001</td>\n",
              "      <td>233.149994</td>\n",
              "      <td>236.940002</td>\n",
              "      <td>236.940002</td>\n",
              "      <td>25324000</td>\n",
              "    </tr>\n",
              "    <tr>\n",
              "      <th>270</th>\n",
              "      <td>2021-03-02</td>\n",
              "      <td>237.009995</td>\n",
              "      <td>237.300003</td>\n",
              "      <td>233.449997</td>\n",
              "      <td>233.869995</td>\n",
              "      <td>233.869995</td>\n",
              "      <td>22785500</td>\n",
              "    </tr>\n",
              "  </tbody>\n",
              "</table>\n",
              "<p>271 rows × 7 columns</p>\n",
              "</div>"
            ],
            "text/plain": [
              "           Date        Open        High  ...       Close   Adj Close    Volume\n",
              "0    2020-02-04  177.139999  180.639999  ...  180.119995  177.822327  36433300\n",
              "1    2020-02-05  184.029999  184.199997  ...  179.899994  177.605148  39186300\n",
              "2    2020-02-06  180.970001  183.820007  ...  183.630005  181.287552  27751400\n",
              "3    2020-02-07  182.850006  185.630005  ...  183.889999  181.544250  33529100\n",
              "4    2020-02-10  183.580002  188.839996  ...  188.699997  186.292862  35844300\n",
              "..          ...         ...         ...  ...         ...         ...       ...\n",
              "266  2021-02-24  230.009995  235.199997  ...  234.550003  234.550003  26339700\n",
              "267  2021-02-25  232.080002  234.589996  ...  228.990005  228.990005  39542200\n",
              "268  2021-02-26  231.529999  235.369995  ...  232.380005  232.380005  37811200\n",
              "269  2021-03-01  235.899994  237.470001  ...  236.940002  236.940002  25324000\n",
              "270  2021-03-02  237.009995  237.300003  ...  233.869995  233.869995  22785500\n",
              "\n",
              "[271 rows x 7 columns]"
            ]
          },
          "metadata": {
            "tags": []
          },
          "execution_count": 46
        }
      ]
    },
    {
      "cell_type": "markdown",
      "metadata": {
        "id": "y0oe488xzU64"
      },
      "source": [
        "This is a pandas dataframe, so we can index in to just get price like this. For more info on pandas, please [click here](http://pandas.pydata.org/pandas-docs/stable/10min.html)."
      ]
    },
    {
      "cell_type": "code",
      "metadata": {
        "id": "T6CAzAEgzU64"
      },
      "source": [
        "X = data1['Volume']"
      ],
      "execution_count": 55,
      "outputs": []
    },
    {
      "cell_type": "markdown",
      "metadata": {
        "id": "gRqi_nPtzU65"
      },
      "source": [
        "Because there is now also date information in our data, we provide two series to `.plot`. `X.index` gives us the datetime index, and `X.values` gives us the pricing values. These are used as the X and Y coordinates to make a graph."
      ]
    },
    {
      "cell_type": "code",
      "metadata": {
        "colab": {
          "base_uri": "https://localhost:8080/",
          "height": 265
        },
        "id": "bwuJE7pSzU65",
        "outputId": "3613d292-0412-48e4-baf3-8f7e6961c104"
      },
      "source": [
        "mate.plot(X.index, X.values)\n",
        "mate.ylabel('Volume')\n",
        "mate.legend(['MSFT']);"
      ],
      "execution_count": 54,
      "outputs": [
        {
          "output_type": "display_data",
          "data": {
            "image/png": "[encoded data removed]",
            "text/plain": [
              "<Figure size 432x288 with 1 Axes>"
            ]
          },
          "metadata": {
            "tags": [],
            "needs_background": "light"
          }
        }
      ]
    },
    {
      "cell_type": "markdown",
      "metadata": {
        "id": "-GHXNOgRzU65"
      },
      "source": [
        "We can get statistics again on real data."
      ]
    },
    {
      "cell_type": "code",
      "metadata": {
        "colab": {
          "base_uri": "https://localhost:8080/"
        },
        "id": "7GPLSHKSzU66",
        "outputId": "302768e4-102b-4533-d4af-9a8a209d03e0"
      },
      "source": [
        "num.mean(X)"
      ],
      "execution_count": 56,
      "outputs": [
        {
          "output_type": "execute_result",
          "data": {
            "text/plain": [
              "37369640.590405904"
            ]
          },
          "metadata": {
            "tags": []
          },
          "execution_count": 56
        }
      ]
    },
    {
      "cell_type": "code",
      "metadata": {
        "colab": {
          "base_uri": "https://localhost:8080/"
        },
        "id": "LSMyTYLKzU66",
        "outputId": "3bcb819f-8775-4e96-ea26-196bea759dec"
      },
      "source": [
        "num.std(X)"
      ],
      "execution_count": 57,
      "outputs": [
        {
          "output_type": "execute_result",
          "data": {
            "text/plain": [
              "16632662.486028686"
            ]
          },
          "metadata": {
            "tags": []
          },
          "execution_count": 57
        }
      ]
    },
    {
      "cell_type": "markdown",
      "metadata": {
        "id": "HZeshaXSzU66"
      },
      "source": [
        "##Getting Returns from Prices\n",
        "\n",
        "We can use the `pct_change` function to get returns. Notice how we drop the first element after doing this, as it will be `NaN` (nothing -> something results in a NaN percent change)."
      ]
    },
    {
      "cell_type": "code",
      "metadata": {
        "id": "J9_AiC5BzU67"
      },
      "source": [
        "R = X.pct_change()[1:]"
      ],
      "execution_count": 58,
      "outputs": []
    },
    {
      "cell_type": "markdown",
      "metadata": {
        "id": "9YclWTNezU67"
      },
      "source": [
        "We can plot the returns distribution as a histogram."
      ]
    },
    {
      "cell_type": "code",
      "metadata": {
        "colab": {
          "base_uri": "https://localhost:8080/",
          "height": 279
        },
        "id": "WPopOCFAzU67",
        "outputId": "dc59d377-c6c6-4254-d119-0416353913ab"
      },
      "source": [
        "mate.hist(R, bins=30)\n",
        "mate.xlabel('Return')\n",
        "mate.ylabel('Frequency')\n",
        "mate.legend(['MSFT Returns']);"
      ],
      "execution_count": 60,
      "outputs": [
        {
          "output_type": "display_data",
          "data": {
            "image/png": "[encoded data removed]",
            "text/plain": [
              "<Figure size 432x288 with 1 Axes>"
            ]
          },
          "metadata": {
            "tags": [],
            "needs_background": "light"
          }
        }
      ]
    },
    {
      "cell_type": "markdown",
      "metadata": {
        "id": "EvQ3DinhzU67"
      },
      "source": [
        "Get statistics again."
      ]
    },
    {
      "cell_type": "code",
      "metadata": {
        "colab": {
          "base_uri": "https://localhost:8080/"
        },
        "id": "HQRE0RtazU68",
        "outputId": "954c6c66-3b93-4f9c-8139-c1674bddb01c"
      },
      "source": [
        "num.mean(R)"
      ],
      "execution_count": 62,
      "outputs": [
        {
          "output_type": "execute_result",
          "data": {
            "text/plain": [
              "0.03960801167684202"
            ]
          },
          "metadata": {
            "tags": []
          },
          "execution_count": 62
        }
      ]
    },
    {
      "cell_type": "code",
      "metadata": {
        "colab": {
          "base_uri": "https://localhost:8080/"
        },
        "id": "27k1t3PfzU68",
        "outputId": "4cdebeb9-da51-4c79-981a-5e0ecd339759"
      },
      "source": [
        "num.std(R)"
      ],
      "execution_count": 63,
      "outputs": [
        {
          "output_type": "execute_result",
          "data": {
            "text/plain": [
              "0.3085327264854655"
            ]
          },
          "metadata": {
            "tags": []
          },
          "execution_count": 63
        }
      ]
    },
    {
      "cell_type": "markdown",
      "metadata": {
        "id": "8Fo9H_dPzU69"
      },
      "source": [
        "Now let's go backwards and generate data out of a normal distribution using the statistics we estimated from Microsoft's returns. We'll see that we have good reason to suspect Microsoft's returns may not be normal, as the resulting normal distribution looks far different."
      ]
    },
    {
      "cell_type": "code",
      "metadata": {
        "colab": {
          "base_uri": "https://localhost:8080/",
          "height": 279
        },
        "id": "TWYhbDNPzU69",
        "outputId": "20001a4b-13a6-454b-8e35-cad9490882e9"
      },
      "source": [
        "mate.hist(num.random.normal(num.mean(R), num.std(R), 10000), bins=30)\n",
        "mate.xlabel('Return')\n",
        "mate.ylabel('Frequency')\n",
        "mate.legend(['Normally Distributed Returns']);"
      ],
      "execution_count": 65,
      "outputs": [
        {
          "output_type": "display_data",
          "data": {
            "image/png": "[encoded data removed]",
            "text/plain": [
              "<Figure size 432x288 with 1 Axes>"
            ]
          },
          "metadata": {
            "tags": [],
            "needs_background": "light"
          }
        }
      ]
    },
    {
      "cell_type": "markdown",
      "metadata": {
        "id": "CXZ1NoU4zU69"
      },
      "source": [
        "##Generating a Moving Average\n",
        "\n",
        "`pandas` has some nice tools to allow us to generate rolling statistics. Here's an example. Notice how there's no moving average for the first 60 days, as we don't have 60 days of data on which to generate the statistic."
      ]
    },
    {
      "cell_type": "code",
      "metadata": {
        "colab": {
          "base_uri": "https://localhost:8080/",
          "height": 350
        },
        "id": "Ev2i4delzU69",
        "outputId": "641223a9-c0d6-49fe-c528-a4c6298d0074"
      },
      "source": [
        "# Take the average of the last 60 days at each timepoint.\n",
        "MAVG = pand.rolling_mean(X, window=30)\n",
        "mate.plot(X.index, X.values)\n",
        "mate.plot(MAVG.index, MAVG.values)\n",
        "mate.ylabel('Volume')\n",
        "mate.legend(['MSFT', '30-day MAVG']);"
      ],
      "execution_count": 71,
      "outputs": [
        {
          "output_type": "error",
          "ename": "AttributeError",
          "evalue": "ignored",
          "traceback": [
            "\u001b[0;31m---------------------------------------------------------------------------\u001b[0m",
            "\u001b[0;31mAttributeError\u001b[0m                            Traceback (most recent call last)",
            "\u001b[0;32m<ipython-input-71-d1a0848c3d03>\u001b[0m in \u001b[0;36m<module>\u001b[0;34m()\u001b[0m\n\u001b[1;32m      1\u001b[0m \u001b[0;31m# Take the average of the last 60 days at each timepoint.\u001b[0m\u001b[0;34m\u001b[0m\u001b[0;34m\u001b[0m\u001b[0;34m\u001b[0m\u001b[0m\n\u001b[0;32m----> 2\u001b[0;31m \u001b[0mMAVG\u001b[0m \u001b[0;34m=\u001b[0m \u001b[0mpand\u001b[0m\u001b[0;34m.\u001b[0m\u001b[0mrolling_mean\u001b[0m\u001b[0;34m(\u001b[0m\u001b[0mX\u001b[0m\u001b[0;34m,\u001b[0m \u001b[0mwindow\u001b[0m\u001b[0;34m=\u001b[0m\u001b[0;36m30\u001b[0m\u001b[0;34m)\u001b[0m\u001b[0;34m\u001b[0m\u001b[0;34m\u001b[0m\u001b[0m\n\u001b[0m\u001b[1;32m      3\u001b[0m \u001b[0mmate\u001b[0m\u001b[0;34m.\u001b[0m\u001b[0mplot\u001b[0m\u001b[0;34m(\u001b[0m\u001b[0mX\u001b[0m\u001b[0;34m.\u001b[0m\u001b[0mindex\u001b[0m\u001b[0;34m,\u001b[0m \u001b[0mX\u001b[0m\u001b[0;34m.\u001b[0m\u001b[0mvalues\u001b[0m\u001b[0;34m)\u001b[0m\u001b[0;34m\u001b[0m\u001b[0;34m\u001b[0m\u001b[0m\n\u001b[1;32m      4\u001b[0m \u001b[0mmate\u001b[0m\u001b[0;34m.\u001b[0m\u001b[0mplot\u001b[0m\u001b[0;34m(\u001b[0m\u001b[0mMAVG\u001b[0m\u001b[0;34m.\u001b[0m\u001b[0mindex\u001b[0m\u001b[0;34m,\u001b[0m \u001b[0mMAVG\u001b[0m\u001b[0;34m.\u001b[0m\u001b[0mvalues\u001b[0m\u001b[0;34m)\u001b[0m\u001b[0;34m\u001b[0m\u001b[0;34m\u001b[0m\u001b[0m\n\u001b[1;32m      5\u001b[0m \u001b[0mmate\u001b[0m\u001b[0;34m.\u001b[0m\u001b[0mylabel\u001b[0m\u001b[0;34m(\u001b[0m\u001b[0;34m'Volume'\u001b[0m\u001b[0;34m)\u001b[0m\u001b[0;34m\u001b[0m\u001b[0;34m\u001b[0m\u001b[0m\n",
            "\u001b[0;32m/usr/local/lib/python3.7/dist-packages/pandas/__init__.py\u001b[0m in \u001b[0;36m__getattr__\u001b[0;34m(name)\u001b[0m\n\u001b[1;32m    256\u001b[0m             \u001b[0;32mreturn\u001b[0m \u001b[0m_SparseArray\u001b[0m\u001b[0;34m\u001b[0m\u001b[0;34m\u001b[0m\u001b[0m\n\u001b[1;32m    257\u001b[0m \u001b[0;34m\u001b[0m\u001b[0m\n\u001b[0;32m--> 258\u001b[0;31m         \u001b[0;32mraise\u001b[0m \u001b[0mAttributeError\u001b[0m\u001b[0;34m(\u001b[0m\u001b[0;34mf\"module 'pandas' has no attribute '{name}'\"\u001b[0m\u001b[0;34m)\u001b[0m\u001b[0;34m\u001b[0m\u001b[0;34m\u001b[0m\u001b[0m\n\u001b[0m\u001b[1;32m    259\u001b[0m \u001b[0;34m\u001b[0m\u001b[0m\n\u001b[1;32m    260\u001b[0m \u001b[0;34m\u001b[0m\u001b[0m\n",
            "\u001b[0;31mAttributeError\u001b[0m: module 'pandas' has no attribute 'rolling_mean'"
          ]
        }
      ]
    },
    {
      "cell_type": "markdown",
      "metadata": {
        "id": "zSxkcjHRzU69"
      },
      "source": [
        "This presentation is for informational purposes only and does not constitute an offer to sell, a solicitation to buy, or a recommendation for any security; nor does it constitute an offer to provide investment advisory or other services by Quantopian, Inc. (\"Quantopian\"). Nothing contained herein constitutes investment advice or offers any opinion with respect to the suitability of any security, and any views expressed herein should not be taken as advice to buy, sell, or hold any security or as an endorsement of any security or company. In preparing the information contained herein, Quantopian, Inc. has not taken into account the investment needs, objectives, and financial circumstances of any particular investor. Any views expressed and data illustrated herein were prepared based upon information, believed to be reliable, available to Quantopian, Inc. at the time of publication. Quantopian makes no guarantees as to their accuracy or completeness. All information is subject to change and may quickly become unreliable for various reasons, including changes in market conditions or economic circumstances."
      ]
    }
  ]
}